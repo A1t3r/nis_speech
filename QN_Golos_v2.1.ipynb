{
  "nbformat": 4,
  "nbformat_minor": 0,
  "metadata": {
    "colab": {
      "name": "QN_Golos_v2.ipynb",
      "provenance": [],
      "collapsed_sections": []
    },
    "kernelspec": {
      "name": "python3",
      "display_name": "Python 3"
    },
    "language_info": {
      "name": "python"
    },
    "widgets": {
      "application/vnd.jupyter.widget-state+json": {
        "9fc3c8f4967b44899679fe1e04adbe96": {
          "model_module": "@jupyter-widgets/controls",
          "model_name": "HBoxModel",
          "model_module_version": "1.5.0",
          "state": {
            "_view_name": "HBoxView",
            "_dom_classes": [],
            "_model_name": "HBoxModel",
            "_view_module": "@jupyter-widgets/controls",
            "_model_module_version": "1.5.0",
            "_view_count": null,
            "_view_module_version": "1.5.0",
            "box_style": "",
            "layout": "IPY_MODEL_3d4c1e618665424da4cac21868191bea",
            "_model_module": "@jupyter-widgets/controls",
            "children": [
              "IPY_MODEL_e7e1c56bb5e844f4aac542cdfe3f557b",
              "IPY_MODEL_e49d945b0a984f7aa994a5c9afbc175a",
              "IPY_MODEL_4085603222f9479fbf9b110944521aca"
            ]
          }
        },
        "3d4c1e618665424da4cac21868191bea": {
          "model_module": "@jupyter-widgets/base",
          "model_name": "LayoutModel",
          "model_module_version": "1.2.0",
          "state": {
            "_view_name": "LayoutView",
            "grid_template_rows": null,
            "right": null,
            "justify_content": null,
            "_view_module": "@jupyter-widgets/base",
            "overflow": null,
            "_model_module_version": "1.2.0",
            "_view_count": null,
            "flex_flow": null,
            "width": null,
            "min_width": null,
            "border": null,
            "align_items": null,
            "bottom": null,
            "_model_module": "@jupyter-widgets/base",
            "top": null,
            "grid_column": null,
            "overflow_y": null,
            "overflow_x": null,
            "grid_auto_flow": null,
            "grid_area": null,
            "grid_template_columns": null,
            "flex": null,
            "_model_name": "LayoutModel",
            "justify_items": null,
            "grid_row": null,
            "max_height": null,
            "align_content": null,
            "visibility": null,
            "align_self": null,
            "height": null,
            "min_height": null,
            "padding": null,
            "grid_auto_rows": null,
            "grid_gap": null,
            "max_width": null,
            "order": null,
            "_view_module_version": "1.2.0",
            "grid_template_areas": null,
            "object_position": null,
            "object_fit": null,
            "grid_auto_columns": null,
            "margin": null,
            "display": null,
            "left": null
          }
        },
        "e7e1c56bb5e844f4aac542cdfe3f557b": {
          "model_module": "@jupyter-widgets/controls",
          "model_name": "HTMLModel",
          "model_module_version": "1.5.0",
          "state": {
            "_view_name": "HTMLView",
            "style": "IPY_MODEL_3ba9e8b60fe94bb38c3317e07af831a6",
            "_dom_classes": [],
            "description": "",
            "_model_name": "HTMLModel",
            "placeholder": "​",
            "_view_module": "@jupyter-widgets/controls",
            "_model_module_version": "1.5.0",
            "value": "Transcribing: 100%",
            "_view_count": null,
            "_view_module_version": "1.5.0",
            "description_tooltip": null,
            "_model_module": "@jupyter-widgets/controls",
            "layout": "IPY_MODEL_050df94c894646e4ac27f65ed3d3919d"
          }
        },
        "e49d945b0a984f7aa994a5c9afbc175a": {
          "model_module": "@jupyter-widgets/controls",
          "model_name": "FloatProgressModel",
          "model_module_version": "1.5.0",
          "state": {
            "_view_name": "ProgressView",
            "style": "IPY_MODEL_faddf6a71968496398edeec45c969ab2",
            "_dom_classes": [],
            "description": "",
            "_model_name": "FloatProgressModel",
            "bar_style": "success",
            "max": 1,
            "_view_module": "@jupyter-widgets/controls",
            "_model_module_version": "1.5.0",
            "value": 1,
            "_view_count": null,
            "_view_module_version": "1.5.0",
            "orientation": "horizontal",
            "min": 0,
            "description_tooltip": null,
            "_model_module": "@jupyter-widgets/controls",
            "layout": "IPY_MODEL_b59f3adc3f4c4ab1af312f5f65acd1d3"
          }
        },
        "4085603222f9479fbf9b110944521aca": {
          "model_module": "@jupyter-widgets/controls",
          "model_name": "HTMLModel",
          "model_module_version": "1.5.0",
          "state": {
            "_view_name": "HTMLView",
            "style": "IPY_MODEL_a574e4a4689447aabe810302d189b7ee",
            "_dom_classes": [],
            "description": "",
            "_model_name": "HTMLModel",
            "placeholder": "​",
            "_view_module": "@jupyter-widgets/controls",
            "_model_module_version": "1.5.0",
            "value": " 1/1 [00:00&lt;00:00,  1.48it/s]",
            "_view_count": null,
            "_view_module_version": "1.5.0",
            "description_tooltip": null,
            "_model_module": "@jupyter-widgets/controls",
            "layout": "IPY_MODEL_450b7af7ae584563879dd84106fd5746"
          }
        },
        "3ba9e8b60fe94bb38c3317e07af831a6": {
          "model_module": "@jupyter-widgets/controls",
          "model_name": "DescriptionStyleModel",
          "model_module_version": "1.5.0",
          "state": {
            "_view_name": "StyleView",
            "_model_name": "DescriptionStyleModel",
            "description_width": "",
            "_view_module": "@jupyter-widgets/base",
            "_model_module_version": "1.5.0",
            "_view_count": null,
            "_view_module_version": "1.2.0",
            "_model_module": "@jupyter-widgets/controls"
          }
        },
        "050df94c894646e4ac27f65ed3d3919d": {
          "model_module": "@jupyter-widgets/base",
          "model_name": "LayoutModel",
          "model_module_version": "1.2.0",
          "state": {
            "_view_name": "LayoutView",
            "grid_template_rows": null,
            "right": null,
            "justify_content": null,
            "_view_module": "@jupyter-widgets/base",
            "overflow": null,
            "_model_module_version": "1.2.0",
            "_view_count": null,
            "flex_flow": null,
            "width": null,
            "min_width": null,
            "border": null,
            "align_items": null,
            "bottom": null,
            "_model_module": "@jupyter-widgets/base",
            "top": null,
            "grid_column": null,
            "overflow_y": null,
            "overflow_x": null,
            "grid_auto_flow": null,
            "grid_area": null,
            "grid_template_columns": null,
            "flex": null,
            "_model_name": "LayoutModel",
            "justify_items": null,
            "grid_row": null,
            "max_height": null,
            "align_content": null,
            "visibility": null,
            "align_self": null,
            "height": null,
            "min_height": null,
            "padding": null,
            "grid_auto_rows": null,
            "grid_gap": null,
            "max_width": null,
            "order": null,
            "_view_module_version": "1.2.0",
            "grid_template_areas": null,
            "object_position": null,
            "object_fit": null,
            "grid_auto_columns": null,
            "margin": null,
            "display": null,
            "left": null
          }
        },
        "faddf6a71968496398edeec45c969ab2": {
          "model_module": "@jupyter-widgets/controls",
          "model_name": "ProgressStyleModel",
          "model_module_version": "1.5.0",
          "state": {
            "_view_name": "StyleView",
            "_model_name": "ProgressStyleModel",
            "description_width": "",
            "_view_module": "@jupyter-widgets/base",
            "_model_module_version": "1.5.0",
            "_view_count": null,
            "_view_module_version": "1.2.0",
            "bar_color": null,
            "_model_module": "@jupyter-widgets/controls"
          }
        },
        "b59f3adc3f4c4ab1af312f5f65acd1d3": {
          "model_module": "@jupyter-widgets/base",
          "model_name": "LayoutModel",
          "model_module_version": "1.2.0",
          "state": {
            "_view_name": "LayoutView",
            "grid_template_rows": null,
            "right": null,
            "justify_content": null,
            "_view_module": "@jupyter-widgets/base",
            "overflow": null,
            "_model_module_version": "1.2.0",
            "_view_count": null,
            "flex_flow": null,
            "width": null,
            "min_width": null,
            "border": null,
            "align_items": null,
            "bottom": null,
            "_model_module": "@jupyter-widgets/base",
            "top": null,
            "grid_column": null,
            "overflow_y": null,
            "overflow_x": null,
            "grid_auto_flow": null,
            "grid_area": null,
            "grid_template_columns": null,
            "flex": null,
            "_model_name": "LayoutModel",
            "justify_items": null,
            "grid_row": null,
            "max_height": null,
            "align_content": null,
            "visibility": null,
            "align_self": null,
            "height": null,
            "min_height": null,
            "padding": null,
            "grid_auto_rows": null,
            "grid_gap": null,
            "max_width": null,
            "order": null,
            "_view_module_version": "1.2.0",
            "grid_template_areas": null,
            "object_position": null,
            "object_fit": null,
            "grid_auto_columns": null,
            "margin": null,
            "display": null,
            "left": null
          }
        },
        "a574e4a4689447aabe810302d189b7ee": {
          "model_module": "@jupyter-widgets/controls",
          "model_name": "DescriptionStyleModel",
          "model_module_version": "1.5.0",
          "state": {
            "_view_name": "StyleView",
            "_model_name": "DescriptionStyleModel",
            "description_width": "",
            "_view_module": "@jupyter-widgets/base",
            "_model_module_version": "1.5.0",
            "_view_count": null,
            "_view_module_version": "1.2.0",
            "_model_module": "@jupyter-widgets/controls"
          }
        },
        "450b7af7ae584563879dd84106fd5746": {
          "model_module": "@jupyter-widgets/base",
          "model_name": "LayoutModel",
          "model_module_version": "1.2.0",
          "state": {
            "_view_name": "LayoutView",
            "grid_template_rows": null,
            "right": null,
            "justify_content": null,
            "_view_module": "@jupyter-widgets/base",
            "overflow": null,
            "_model_module_version": "1.2.0",
            "_view_count": null,
            "flex_flow": null,
            "width": null,
            "min_width": null,
            "border": null,
            "align_items": null,
            "bottom": null,
            "_model_module": "@jupyter-widgets/base",
            "top": null,
            "grid_column": null,
            "overflow_y": null,
            "overflow_x": null,
            "grid_auto_flow": null,
            "grid_area": null,
            "grid_template_columns": null,
            "flex": null,
            "_model_name": "LayoutModel",
            "justify_items": null,
            "grid_row": null,
            "max_height": null,
            "align_content": null,
            "visibility": null,
            "align_self": null,
            "height": null,
            "min_height": null,
            "padding": null,
            "grid_auto_rows": null,
            "grid_gap": null,
            "max_width": null,
            "order": null,
            "_view_module_version": "1.2.0",
            "grid_template_areas": null,
            "object_position": null,
            "object_fit": null,
            "grid_auto_columns": null,
            "margin": null,
            "display": null,
            "left": null
          }
        },
        "81bd937ddf59425db12388b0df0e7a94": {
          "model_module": "@jupyter-widgets/controls",
          "model_name": "HBoxModel",
          "model_module_version": "1.5.0",
          "state": {
            "_view_name": "HBoxView",
            "_dom_classes": [],
            "_model_name": "HBoxModel",
            "_view_module": "@jupyter-widgets/controls",
            "_model_module_version": "1.5.0",
            "_view_count": null,
            "_view_module_version": "1.5.0",
            "box_style": "",
            "layout": "IPY_MODEL_391a689bd2dc402fb2959b550bfe5159",
            "_model_module": "@jupyter-widgets/controls",
            "children": [
              "IPY_MODEL_92f8f55121954c6d8451b09139287d99",
              "IPY_MODEL_faa10a406e30435d808d520765eff2ec",
              "IPY_MODEL_6c3f6f7c9e2141f4843336ce8918e2c9"
            ]
          }
        },
        "391a689bd2dc402fb2959b550bfe5159": {
          "model_module": "@jupyter-widgets/base",
          "model_name": "LayoutModel",
          "model_module_version": "1.2.0",
          "state": {
            "_view_name": "LayoutView",
            "grid_template_rows": null,
            "right": null,
            "justify_content": null,
            "_view_module": "@jupyter-widgets/base",
            "overflow": null,
            "_model_module_version": "1.2.0",
            "_view_count": null,
            "flex_flow": null,
            "width": null,
            "min_width": null,
            "border": null,
            "align_items": null,
            "bottom": null,
            "_model_module": "@jupyter-widgets/base",
            "top": null,
            "grid_column": null,
            "overflow_y": null,
            "overflow_x": null,
            "grid_auto_flow": null,
            "grid_area": null,
            "grid_template_columns": null,
            "flex": null,
            "_model_name": "LayoutModel",
            "justify_items": null,
            "grid_row": null,
            "max_height": null,
            "align_content": null,
            "visibility": null,
            "align_self": null,
            "height": null,
            "min_height": null,
            "padding": null,
            "grid_auto_rows": null,
            "grid_gap": null,
            "max_width": null,
            "order": null,
            "_view_module_version": "1.2.0",
            "grid_template_areas": null,
            "object_position": null,
            "object_fit": null,
            "grid_auto_columns": null,
            "margin": null,
            "display": null,
            "left": null
          }
        },
        "92f8f55121954c6d8451b09139287d99": {
          "model_module": "@jupyter-widgets/controls",
          "model_name": "HTMLModel",
          "model_module_version": "1.5.0",
          "state": {
            "_view_name": "HTMLView",
            "style": "IPY_MODEL_517f5de3c74a4dfcb9205abde5ed5ad9",
            "_dom_classes": [],
            "description": "",
            "_model_name": "HTMLModel",
            "placeholder": "​",
            "_view_module": "@jupyter-widgets/controls",
            "_model_module_version": "1.5.0",
            "value": "Transcribing: 100%",
            "_view_count": null,
            "_view_module_version": "1.5.0",
            "description_tooltip": null,
            "_model_module": "@jupyter-widgets/controls",
            "layout": "IPY_MODEL_18918d72741f410f80ab0c72ba0f765a"
          }
        },
        "faa10a406e30435d808d520765eff2ec": {
          "model_module": "@jupyter-widgets/controls",
          "model_name": "FloatProgressModel",
          "model_module_version": "1.5.0",
          "state": {
            "_view_name": "ProgressView",
            "style": "IPY_MODEL_089b4d15086646208949756852711658",
            "_dom_classes": [],
            "description": "",
            "_model_name": "FloatProgressModel",
            "bar_style": "success",
            "max": 13,
            "_view_module": "@jupyter-widgets/controls",
            "_model_module_version": "1.5.0",
            "value": 13,
            "_view_count": null,
            "_view_module_version": "1.5.0",
            "orientation": "horizontal",
            "min": 0,
            "description_tooltip": null,
            "_model_module": "@jupyter-widgets/controls",
            "layout": "IPY_MODEL_9ad905d0960b4c9ea5435822790e1dfb"
          }
        },
        "6c3f6f7c9e2141f4843336ce8918e2c9": {
          "model_module": "@jupyter-widgets/controls",
          "model_name": "HTMLModel",
          "model_module_version": "1.5.0",
          "state": {
            "_view_name": "HTMLView",
            "style": "IPY_MODEL_9aade6b3028c44d682e25c720fe0be81",
            "_dom_classes": [],
            "description": "",
            "_model_name": "HTMLModel",
            "placeholder": "​",
            "_view_module": "@jupyter-widgets/controls",
            "_model_module_version": "1.5.0",
            "value": " 13/13 [00:02&lt;00:00,  7.85it/s]",
            "_view_count": null,
            "_view_module_version": "1.5.0",
            "description_tooltip": null,
            "_model_module": "@jupyter-widgets/controls",
            "layout": "IPY_MODEL_1add11f95dd44e7a823779b672156a35"
          }
        },
        "517f5de3c74a4dfcb9205abde5ed5ad9": {
          "model_module": "@jupyter-widgets/controls",
          "model_name": "DescriptionStyleModel",
          "model_module_version": "1.5.0",
          "state": {
            "_view_name": "StyleView",
            "_model_name": "DescriptionStyleModel",
            "description_width": "",
            "_view_module": "@jupyter-widgets/base",
            "_model_module_version": "1.5.0",
            "_view_count": null,
            "_view_module_version": "1.2.0",
            "_model_module": "@jupyter-widgets/controls"
          }
        },
        "18918d72741f410f80ab0c72ba0f765a": {
          "model_module": "@jupyter-widgets/base",
          "model_name": "LayoutModel",
          "model_module_version": "1.2.0",
          "state": {
            "_view_name": "LayoutView",
            "grid_template_rows": null,
            "right": null,
            "justify_content": null,
            "_view_module": "@jupyter-widgets/base",
            "overflow": null,
            "_model_module_version": "1.2.0",
            "_view_count": null,
            "flex_flow": null,
            "width": null,
            "min_width": null,
            "border": null,
            "align_items": null,
            "bottom": null,
            "_model_module": "@jupyter-widgets/base",
            "top": null,
            "grid_column": null,
            "overflow_y": null,
            "overflow_x": null,
            "grid_auto_flow": null,
            "grid_area": null,
            "grid_template_columns": null,
            "flex": null,
            "_model_name": "LayoutModel",
            "justify_items": null,
            "grid_row": null,
            "max_height": null,
            "align_content": null,
            "visibility": null,
            "align_self": null,
            "height": null,
            "min_height": null,
            "padding": null,
            "grid_auto_rows": null,
            "grid_gap": null,
            "max_width": null,
            "order": null,
            "_view_module_version": "1.2.0",
            "grid_template_areas": null,
            "object_position": null,
            "object_fit": null,
            "grid_auto_columns": null,
            "margin": null,
            "display": null,
            "left": null
          }
        },
        "089b4d15086646208949756852711658": {
          "model_module": "@jupyter-widgets/controls",
          "model_name": "ProgressStyleModel",
          "model_module_version": "1.5.0",
          "state": {
            "_view_name": "StyleView",
            "_model_name": "ProgressStyleModel",
            "description_width": "",
            "_view_module": "@jupyter-widgets/base",
            "_model_module_version": "1.5.0",
            "_view_count": null,
            "_view_module_version": "1.2.0",
            "bar_color": null,
            "_model_module": "@jupyter-widgets/controls"
          }
        },
        "9ad905d0960b4c9ea5435822790e1dfb": {
          "model_module": "@jupyter-widgets/base",
          "model_name": "LayoutModel",
          "model_module_version": "1.2.0",
          "state": {
            "_view_name": "LayoutView",
            "grid_template_rows": null,
            "right": null,
            "justify_content": null,
            "_view_module": "@jupyter-widgets/base",
            "overflow": null,
            "_model_module_version": "1.2.0",
            "_view_count": null,
            "flex_flow": null,
            "width": null,
            "min_width": null,
            "border": null,
            "align_items": null,
            "bottom": null,
            "_model_module": "@jupyter-widgets/base",
            "top": null,
            "grid_column": null,
            "overflow_y": null,
            "overflow_x": null,
            "grid_auto_flow": null,
            "grid_area": null,
            "grid_template_columns": null,
            "flex": null,
            "_model_name": "LayoutModel",
            "justify_items": null,
            "grid_row": null,
            "max_height": null,
            "align_content": null,
            "visibility": null,
            "align_self": null,
            "height": null,
            "min_height": null,
            "padding": null,
            "grid_auto_rows": null,
            "grid_gap": null,
            "max_width": null,
            "order": null,
            "_view_module_version": "1.2.0",
            "grid_template_areas": null,
            "object_position": null,
            "object_fit": null,
            "grid_auto_columns": null,
            "margin": null,
            "display": null,
            "left": null
          }
        },
        "9aade6b3028c44d682e25c720fe0be81": {
          "model_module": "@jupyter-widgets/controls",
          "model_name": "DescriptionStyleModel",
          "model_module_version": "1.5.0",
          "state": {
            "_view_name": "StyleView",
            "_model_name": "DescriptionStyleModel",
            "description_width": "",
            "_view_module": "@jupyter-widgets/base",
            "_model_module_version": "1.5.0",
            "_view_count": null,
            "_view_module_version": "1.2.0",
            "_model_module": "@jupyter-widgets/controls"
          }
        },
        "1add11f95dd44e7a823779b672156a35": {
          "model_module": "@jupyter-widgets/base",
          "model_name": "LayoutModel",
          "model_module_version": "1.2.0",
          "state": {
            "_view_name": "LayoutView",
            "grid_template_rows": null,
            "right": null,
            "justify_content": null,
            "_view_module": "@jupyter-widgets/base",
            "overflow": null,
            "_model_module_version": "1.2.0",
            "_view_count": null,
            "flex_flow": null,
            "width": null,
            "min_width": null,
            "border": null,
            "align_items": null,
            "bottom": null,
            "_model_module": "@jupyter-widgets/base",
            "top": null,
            "grid_column": null,
            "overflow_y": null,
            "overflow_x": null,
            "grid_auto_flow": null,
            "grid_area": null,
            "grid_template_columns": null,
            "flex": null,
            "_model_name": "LayoutModel",
            "justify_items": null,
            "grid_row": null,
            "max_height": null,
            "align_content": null,
            "visibility": null,
            "align_self": null,
            "height": null,
            "min_height": null,
            "padding": null,
            "grid_auto_rows": null,
            "grid_gap": null,
            "max_width": null,
            "order": null,
            "_view_module_version": "1.2.0",
            "grid_template_areas": null,
            "object_position": null,
            "object_fit": null,
            "grid_auto_columns": null,
            "margin": null,
            "display": null,
            "left": null
          }
        },
        "dacc8404a90445bd96c38a6263d888a5": {
          "model_module": "@jupyter-widgets/controls",
          "model_name": "HBoxModel",
          "model_module_version": "1.5.0",
          "state": {
            "_view_name": "HBoxView",
            "_dom_classes": [],
            "_model_name": "HBoxModel",
            "_view_module": "@jupyter-widgets/controls",
            "_model_module_version": "1.5.0",
            "_view_count": null,
            "_view_module_version": "1.5.0",
            "box_style": "",
            "layout": "IPY_MODEL_7c113745218d4422954c6fdfc9da067e",
            "_model_module": "@jupyter-widgets/controls",
            "children": [
              "IPY_MODEL_2c08cdd51d7c4c74980a92f1ae31f6dd",
              "IPY_MODEL_19949973e0b54e7ab63788cd74b87e93",
              "IPY_MODEL_ad75cebf44224afea41ccda23ea38693"
            ]
          }
        },
        "7c113745218d4422954c6fdfc9da067e": {
          "model_module": "@jupyter-widgets/base",
          "model_name": "LayoutModel",
          "model_module_version": "1.2.0",
          "state": {
            "_view_name": "LayoutView",
            "grid_template_rows": null,
            "right": null,
            "justify_content": null,
            "_view_module": "@jupyter-widgets/base",
            "overflow": null,
            "_model_module_version": "1.2.0",
            "_view_count": null,
            "flex_flow": null,
            "width": null,
            "min_width": null,
            "border": null,
            "align_items": null,
            "bottom": null,
            "_model_module": "@jupyter-widgets/base",
            "top": null,
            "grid_column": null,
            "overflow_y": null,
            "overflow_x": null,
            "grid_auto_flow": null,
            "grid_area": null,
            "grid_template_columns": null,
            "flex": null,
            "_model_name": "LayoutModel",
            "justify_items": null,
            "grid_row": null,
            "max_height": null,
            "align_content": null,
            "visibility": null,
            "align_self": null,
            "height": null,
            "min_height": null,
            "padding": null,
            "grid_auto_rows": null,
            "grid_gap": null,
            "max_width": null,
            "order": null,
            "_view_module_version": "1.2.0",
            "grid_template_areas": null,
            "object_position": null,
            "object_fit": null,
            "grid_auto_columns": null,
            "margin": null,
            "display": null,
            "left": null
          }
        },
        "2c08cdd51d7c4c74980a92f1ae31f6dd": {
          "model_module": "@jupyter-widgets/controls",
          "model_name": "HTMLModel",
          "model_module_version": "1.5.0",
          "state": {
            "_view_name": "HTMLView",
            "style": "IPY_MODEL_51a9a56815654e6fbad81dbf08dd7a2c",
            "_dom_classes": [],
            "description": "",
            "_model_name": "HTMLModel",
            "placeholder": "​",
            "_view_module": "@jupyter-widgets/controls",
            "_model_module_version": "1.5.0",
            "value": "Transcribing:   1%",
            "_view_count": null,
            "_view_module_version": "1.5.0",
            "description_tooltip": null,
            "_model_module": "@jupyter-widgets/controls",
            "layout": "IPY_MODEL_98be56e700c748488c46b8efc1c7781d"
          }
        },
        "19949973e0b54e7ab63788cd74b87e93": {
          "model_module": "@jupyter-widgets/controls",
          "model_name": "FloatProgressModel",
          "model_module_version": "1.5.0",
          "state": {
            "_view_name": "ProgressView",
            "style": "IPY_MODEL_f499e79dee2b4d698a22693613a5ea82",
            "_dom_classes": [],
            "description": "",
            "_model_name": "FloatProgressModel",
            "bar_style": "danger",
            "max": 10092,
            "_view_module": "@jupyter-widgets/controls",
            "_model_module_version": "1.5.0",
            "value": 135,
            "_view_count": null,
            "_view_module_version": "1.5.0",
            "orientation": "horizontal",
            "min": 0,
            "description_tooltip": null,
            "_model_module": "@jupyter-widgets/controls",
            "layout": "IPY_MODEL_8e842c3300114b7d8eaa4a21ac93a160"
          }
        },
        "ad75cebf44224afea41ccda23ea38693": {
          "model_module": "@jupyter-widgets/controls",
          "model_name": "HTMLModel",
          "model_module_version": "1.5.0",
          "state": {
            "_view_name": "HTMLView",
            "style": "IPY_MODEL_a749027a42a04a65a9d803187f4e5a66",
            "_dom_classes": [],
            "description": "",
            "_model_name": "HTMLModel",
            "placeholder": "​",
            "_view_module": "@jupyter-widgets/controls",
            "_model_module_version": "1.5.0",
            "value": " 135/10092 [01:57&lt;2:14:52,  1.23it/s]",
            "_view_count": null,
            "_view_module_version": "1.5.0",
            "description_tooltip": null,
            "_model_module": "@jupyter-widgets/controls",
            "layout": "IPY_MODEL_917bc863616e4ffb8c587b78a5371023"
          }
        },
        "51a9a56815654e6fbad81dbf08dd7a2c": {
          "model_module": "@jupyter-widgets/controls",
          "model_name": "DescriptionStyleModel",
          "model_module_version": "1.5.0",
          "state": {
            "_view_name": "StyleView",
            "_model_name": "DescriptionStyleModel",
            "description_width": "",
            "_view_module": "@jupyter-widgets/base",
            "_model_module_version": "1.5.0",
            "_view_count": null,
            "_view_module_version": "1.2.0",
            "_model_module": "@jupyter-widgets/controls"
          }
        },
        "98be56e700c748488c46b8efc1c7781d": {
          "model_module": "@jupyter-widgets/base",
          "model_name": "LayoutModel",
          "model_module_version": "1.2.0",
          "state": {
            "_view_name": "LayoutView",
            "grid_template_rows": null,
            "right": null,
            "justify_content": null,
            "_view_module": "@jupyter-widgets/base",
            "overflow": null,
            "_model_module_version": "1.2.0",
            "_view_count": null,
            "flex_flow": null,
            "width": null,
            "min_width": null,
            "border": null,
            "align_items": null,
            "bottom": null,
            "_model_module": "@jupyter-widgets/base",
            "top": null,
            "grid_column": null,
            "overflow_y": null,
            "overflow_x": null,
            "grid_auto_flow": null,
            "grid_area": null,
            "grid_template_columns": null,
            "flex": null,
            "_model_name": "LayoutModel",
            "justify_items": null,
            "grid_row": null,
            "max_height": null,
            "align_content": null,
            "visibility": null,
            "align_self": null,
            "height": null,
            "min_height": null,
            "padding": null,
            "grid_auto_rows": null,
            "grid_gap": null,
            "max_width": null,
            "order": null,
            "_view_module_version": "1.2.0",
            "grid_template_areas": null,
            "object_position": null,
            "object_fit": null,
            "grid_auto_columns": null,
            "margin": null,
            "display": null,
            "left": null
          }
        },
        "f499e79dee2b4d698a22693613a5ea82": {
          "model_module": "@jupyter-widgets/controls",
          "model_name": "ProgressStyleModel",
          "model_module_version": "1.5.0",
          "state": {
            "_view_name": "StyleView",
            "_model_name": "ProgressStyleModel",
            "description_width": "",
            "_view_module": "@jupyter-widgets/base",
            "_model_module_version": "1.5.0",
            "_view_count": null,
            "_view_module_version": "1.2.0",
            "bar_color": null,
            "_model_module": "@jupyter-widgets/controls"
          }
        },
        "8e842c3300114b7d8eaa4a21ac93a160": {
          "model_module": "@jupyter-widgets/base",
          "model_name": "LayoutModel",
          "model_module_version": "1.2.0",
          "state": {
            "_view_name": "LayoutView",
            "grid_template_rows": null,
            "right": null,
            "justify_content": null,
            "_view_module": "@jupyter-widgets/base",
            "overflow": null,
            "_model_module_version": "1.2.0",
            "_view_count": null,
            "flex_flow": null,
            "width": null,
            "min_width": null,
            "border": null,
            "align_items": null,
            "bottom": null,
            "_model_module": "@jupyter-widgets/base",
            "top": null,
            "grid_column": null,
            "overflow_y": null,
            "overflow_x": null,
            "grid_auto_flow": null,
            "grid_area": null,
            "grid_template_columns": null,
            "flex": null,
            "_model_name": "LayoutModel",
            "justify_items": null,
            "grid_row": null,
            "max_height": null,
            "align_content": null,
            "visibility": null,
            "align_self": null,
            "height": null,
            "min_height": null,
            "padding": null,
            "grid_auto_rows": null,
            "grid_gap": null,
            "max_width": null,
            "order": null,
            "_view_module_version": "1.2.0",
            "grid_template_areas": null,
            "object_position": null,
            "object_fit": null,
            "grid_auto_columns": null,
            "margin": null,
            "display": null,
            "left": null
          }
        },
        "a749027a42a04a65a9d803187f4e5a66": {
          "model_module": "@jupyter-widgets/controls",
          "model_name": "DescriptionStyleModel",
          "model_module_version": "1.5.0",
          "state": {
            "_view_name": "StyleView",
            "_model_name": "DescriptionStyleModel",
            "description_width": "",
            "_view_module": "@jupyter-widgets/base",
            "_model_module_version": "1.5.0",
            "_view_count": null,
            "_view_module_version": "1.2.0",
            "_model_module": "@jupyter-widgets/controls"
          }
        },
        "917bc863616e4ffb8c587b78a5371023": {
          "model_module": "@jupyter-widgets/base",
          "model_name": "LayoutModel",
          "model_module_version": "1.2.0",
          "state": {
            "_view_name": "LayoutView",
            "grid_template_rows": null,
            "right": null,
            "justify_content": null,
            "_view_module": "@jupyter-widgets/base",
            "overflow": null,
            "_model_module_version": "1.2.0",
            "_view_count": null,
            "flex_flow": null,
            "width": null,
            "min_width": null,
            "border": null,
            "align_items": null,
            "bottom": null,
            "_model_module": "@jupyter-widgets/base",
            "top": null,
            "grid_column": null,
            "overflow_y": null,
            "overflow_x": null,
            "grid_auto_flow": null,
            "grid_area": null,
            "grid_template_columns": null,
            "flex": null,
            "_model_name": "LayoutModel",
            "justify_items": null,
            "grid_row": null,
            "max_height": null,
            "align_content": null,
            "visibility": null,
            "align_self": null,
            "height": null,
            "min_height": null,
            "padding": null,
            "grid_auto_rows": null,
            "grid_gap": null,
            "max_width": null,
            "order": null,
            "_view_module_version": "1.2.0",
            "grid_template_areas": null,
            "object_position": null,
            "object_fit": null,
            "grid_auto_columns": null,
            "margin": null,
            "display": null,
            "left": null
          }
        },
        "d68d894cccde4befb8e66adeeb226a32": {
          "model_module": "@jupyter-widgets/controls",
          "model_name": "HBoxModel",
          "model_module_version": "1.5.0",
          "state": {
            "_view_name": "HBoxView",
            "_dom_classes": [],
            "_model_name": "HBoxModel",
            "_view_module": "@jupyter-widgets/controls",
            "_model_module_version": "1.5.0",
            "_view_count": null,
            "_view_module_version": "1.5.0",
            "box_style": "",
            "layout": "IPY_MODEL_a8a3b0b1f36b439686c55f6eba3d0c4b",
            "_model_module": "@jupyter-widgets/controls",
            "children": [
              "IPY_MODEL_73b98fa5c0d8468b92d3913608b8889e",
              "IPY_MODEL_a2e58f3fd7ba4225a2c20486e53a67bf",
              "IPY_MODEL_3159739318b5426daa24bab70a34ec00"
            ]
          }
        },
        "a8a3b0b1f36b439686c55f6eba3d0c4b": {
          "model_module": "@jupyter-widgets/base",
          "model_name": "LayoutModel",
          "model_module_version": "1.2.0",
          "state": {
            "_view_name": "LayoutView",
            "grid_template_rows": null,
            "right": null,
            "justify_content": null,
            "_view_module": "@jupyter-widgets/base",
            "overflow": null,
            "_model_module_version": "1.2.0",
            "_view_count": null,
            "flex_flow": "row wrap",
            "width": "100%",
            "min_width": null,
            "border": null,
            "align_items": null,
            "bottom": null,
            "_model_module": "@jupyter-widgets/base",
            "top": null,
            "grid_column": null,
            "overflow_y": null,
            "overflow_x": null,
            "grid_auto_flow": null,
            "grid_area": null,
            "grid_template_columns": null,
            "flex": null,
            "_model_name": "LayoutModel",
            "justify_items": null,
            "grid_row": null,
            "max_height": null,
            "align_content": null,
            "visibility": null,
            "align_self": null,
            "height": null,
            "min_height": null,
            "padding": null,
            "grid_auto_rows": null,
            "grid_gap": null,
            "max_width": null,
            "order": null,
            "_view_module_version": "1.2.0",
            "grid_template_areas": null,
            "object_position": null,
            "object_fit": null,
            "grid_auto_columns": null,
            "margin": null,
            "display": "inline-flex",
            "left": null
          }
        },
        "73b98fa5c0d8468b92d3913608b8889e": {
          "model_module": "@jupyter-widgets/controls",
          "model_name": "HTMLModel",
          "model_module_version": "1.5.0",
          "state": {
            "_view_name": "HTMLView",
            "style": "IPY_MODEL_56ea9a87eaca410daf14499cbc9e5729",
            "_dom_classes": [],
            "description": "",
            "_model_name": "HTMLModel",
            "placeholder": "​",
            "_view_module": "@jupyter-widgets/controls",
            "_model_module_version": "1.5.0",
            "value": "Validation sanity check:   0%",
            "_view_count": null,
            "_view_module_version": "1.5.0",
            "description_tooltip": null,
            "_model_module": "@jupyter-widgets/controls",
            "layout": "IPY_MODEL_fd1485b3112244de86a2ff8374bddb9c"
          }
        },
        "a2e58f3fd7ba4225a2c20486e53a67bf": {
          "model_module": "@jupyter-widgets/controls",
          "model_name": "FloatProgressModel",
          "model_module_version": "1.5.0",
          "state": {
            "_view_name": "ProgressView",
            "style": "IPY_MODEL_dd05cd19c2fd47909ba593e25729d50a",
            "_dom_classes": [],
            "description": "",
            "_model_name": "FloatProgressModel",
            "bar_style": "danger",
            "max": 2,
            "_view_module": "@jupyter-widgets/controls",
            "_model_module_version": "1.5.0",
            "value": 0,
            "_view_count": null,
            "_view_module_version": "1.5.0",
            "orientation": "horizontal",
            "min": 0,
            "description_tooltip": null,
            "_model_module": "@jupyter-widgets/controls",
            "layout": "IPY_MODEL_c788244df5904622ba12c2f20eedadad"
          }
        },
        "3159739318b5426daa24bab70a34ec00": {
          "model_module": "@jupyter-widgets/controls",
          "model_name": "HTMLModel",
          "model_module_version": "1.5.0",
          "state": {
            "_view_name": "HTMLView",
            "style": "IPY_MODEL_7250dc82ebc84d9385eaa305b8cee9bb",
            "_dom_classes": [],
            "description": "",
            "_model_name": "HTMLModel",
            "placeholder": "​",
            "_view_module": "@jupyter-widgets/controls",
            "_model_module_version": "1.5.0",
            "value": " 0/2 [00:02&lt;?, ?it/s]",
            "_view_count": null,
            "_view_module_version": "1.5.0",
            "description_tooltip": null,
            "_model_module": "@jupyter-widgets/controls",
            "layout": "IPY_MODEL_6a0ef6a527ba47ec8d8eca8a1dbfff74"
          }
        },
        "56ea9a87eaca410daf14499cbc9e5729": {
          "model_module": "@jupyter-widgets/controls",
          "model_name": "DescriptionStyleModel",
          "model_module_version": "1.5.0",
          "state": {
            "_view_name": "StyleView",
            "_model_name": "DescriptionStyleModel",
            "description_width": "",
            "_view_module": "@jupyter-widgets/base",
            "_model_module_version": "1.5.0",
            "_view_count": null,
            "_view_module_version": "1.2.0",
            "_model_module": "@jupyter-widgets/controls"
          }
        },
        "fd1485b3112244de86a2ff8374bddb9c": {
          "model_module": "@jupyter-widgets/base",
          "model_name": "LayoutModel",
          "model_module_version": "1.2.0",
          "state": {
            "_view_name": "LayoutView",
            "grid_template_rows": null,
            "right": null,
            "justify_content": null,
            "_view_module": "@jupyter-widgets/base",
            "overflow": null,
            "_model_module_version": "1.2.0",
            "_view_count": null,
            "flex_flow": null,
            "width": null,
            "min_width": null,
            "border": null,
            "align_items": null,
            "bottom": null,
            "_model_module": "@jupyter-widgets/base",
            "top": null,
            "grid_column": null,
            "overflow_y": null,
            "overflow_x": null,
            "grid_auto_flow": null,
            "grid_area": null,
            "grid_template_columns": null,
            "flex": null,
            "_model_name": "LayoutModel",
            "justify_items": null,
            "grid_row": null,
            "max_height": null,
            "align_content": null,
            "visibility": null,
            "align_self": null,
            "height": null,
            "min_height": null,
            "padding": null,
            "grid_auto_rows": null,
            "grid_gap": null,
            "max_width": null,
            "order": null,
            "_view_module_version": "1.2.0",
            "grid_template_areas": null,
            "object_position": null,
            "object_fit": null,
            "grid_auto_columns": null,
            "margin": null,
            "display": null,
            "left": null
          }
        },
        "dd05cd19c2fd47909ba593e25729d50a": {
          "model_module": "@jupyter-widgets/controls",
          "model_name": "ProgressStyleModel",
          "model_module_version": "1.5.0",
          "state": {
            "_view_name": "StyleView",
            "_model_name": "ProgressStyleModel",
            "description_width": "",
            "_view_module": "@jupyter-widgets/base",
            "_model_module_version": "1.5.0",
            "_view_count": null,
            "_view_module_version": "1.2.0",
            "bar_color": null,
            "_model_module": "@jupyter-widgets/controls"
          }
        },
        "c788244df5904622ba12c2f20eedadad": {
          "model_module": "@jupyter-widgets/base",
          "model_name": "LayoutModel",
          "model_module_version": "1.2.0",
          "state": {
            "_view_name": "LayoutView",
            "grid_template_rows": null,
            "right": null,
            "justify_content": null,
            "_view_module": "@jupyter-widgets/base",
            "overflow": null,
            "_model_module_version": "1.2.0",
            "_view_count": null,
            "flex_flow": null,
            "width": null,
            "min_width": null,
            "border": null,
            "align_items": null,
            "bottom": null,
            "_model_module": "@jupyter-widgets/base",
            "top": null,
            "grid_column": null,
            "overflow_y": null,
            "overflow_x": null,
            "grid_auto_flow": null,
            "grid_area": null,
            "grid_template_columns": null,
            "flex": "2",
            "_model_name": "LayoutModel",
            "justify_items": null,
            "grid_row": null,
            "max_height": null,
            "align_content": null,
            "visibility": null,
            "align_self": null,
            "height": null,
            "min_height": null,
            "padding": null,
            "grid_auto_rows": null,
            "grid_gap": null,
            "max_width": null,
            "order": null,
            "_view_module_version": "1.2.0",
            "grid_template_areas": null,
            "object_position": null,
            "object_fit": null,
            "grid_auto_columns": null,
            "margin": null,
            "display": null,
            "left": null
          }
        },
        "7250dc82ebc84d9385eaa305b8cee9bb": {
          "model_module": "@jupyter-widgets/controls",
          "model_name": "DescriptionStyleModel",
          "model_module_version": "1.5.0",
          "state": {
            "_view_name": "StyleView",
            "_model_name": "DescriptionStyleModel",
            "description_width": "",
            "_view_module": "@jupyter-widgets/base",
            "_model_module_version": "1.5.0",
            "_view_count": null,
            "_view_module_version": "1.2.0",
            "_model_module": "@jupyter-widgets/controls"
          }
        },
        "6a0ef6a527ba47ec8d8eca8a1dbfff74": {
          "model_module": "@jupyter-widgets/base",
          "model_name": "LayoutModel",
          "model_module_version": "1.2.0",
          "state": {
            "_view_name": "LayoutView",
            "grid_template_rows": null,
            "right": null,
            "justify_content": null,
            "_view_module": "@jupyter-widgets/base",
            "overflow": null,
            "_model_module_version": "1.2.0",
            "_view_count": null,
            "flex_flow": null,
            "width": null,
            "min_width": null,
            "border": null,
            "align_items": null,
            "bottom": null,
            "_model_module": "@jupyter-widgets/base",
            "top": null,
            "grid_column": null,
            "overflow_y": null,
            "overflow_x": null,
            "grid_auto_flow": null,
            "grid_area": null,
            "grid_template_columns": null,
            "flex": null,
            "_model_name": "LayoutModel",
            "justify_items": null,
            "grid_row": null,
            "max_height": null,
            "align_content": null,
            "visibility": null,
            "align_self": null,
            "height": null,
            "min_height": null,
            "padding": null,
            "grid_auto_rows": null,
            "grid_gap": null,
            "max_width": null,
            "order": null,
            "_view_module_version": "1.2.0",
            "grid_template_areas": null,
            "object_position": null,
            "object_fit": null,
            "grid_auto_columns": null,
            "margin": null,
            "display": null,
            "left": null
          }
        },
        "b12279de5b90440fa7d3aa6158fa1335": {
          "model_module": "@jupyter-widgets/controls",
          "model_name": "HBoxModel",
          "model_module_version": "1.5.0",
          "state": {
            "_view_name": "HBoxView",
            "_dom_classes": [],
            "_model_name": "HBoxModel",
            "_view_module": "@jupyter-widgets/controls",
            "_model_module_version": "1.5.0",
            "_view_count": null,
            "_view_module_version": "1.5.0",
            "box_style": "",
            "layout": "IPY_MODEL_53bd46f9944a4ca7bccd064ef2f708fb",
            "_model_module": "@jupyter-widgets/controls",
            "children": [
              "IPY_MODEL_92352c886cad488dbe9bd366e90359ea",
              "IPY_MODEL_505f29c729204beea910154e856bc639",
              "IPY_MODEL_75db67e10de347ec8624e025db020fc8"
            ]
          }
        },
        "53bd46f9944a4ca7bccd064ef2f708fb": {
          "model_module": "@jupyter-widgets/base",
          "model_name": "LayoutModel",
          "model_module_version": "1.2.0",
          "state": {
            "_view_name": "LayoutView",
            "grid_template_rows": null,
            "right": null,
            "justify_content": null,
            "_view_module": "@jupyter-widgets/base",
            "overflow": null,
            "_model_module_version": "1.2.0",
            "_view_count": null,
            "flex_flow": "row wrap",
            "width": "100%",
            "min_width": null,
            "border": null,
            "align_items": null,
            "bottom": null,
            "_model_module": "@jupyter-widgets/base",
            "top": null,
            "grid_column": null,
            "overflow_y": null,
            "overflow_x": null,
            "grid_auto_flow": null,
            "grid_area": null,
            "grid_template_columns": null,
            "flex": null,
            "_model_name": "LayoutModel",
            "justify_items": null,
            "grid_row": null,
            "max_height": null,
            "align_content": null,
            "visibility": null,
            "align_self": null,
            "height": null,
            "min_height": null,
            "padding": null,
            "grid_auto_rows": null,
            "grid_gap": null,
            "max_width": null,
            "order": null,
            "_view_module_version": "1.2.0",
            "grid_template_areas": null,
            "object_position": null,
            "object_fit": null,
            "grid_auto_columns": null,
            "margin": null,
            "display": "inline-flex",
            "left": null
          }
        },
        "92352c886cad488dbe9bd366e90359ea": {
          "model_module": "@jupyter-widgets/controls",
          "model_name": "HTMLModel",
          "model_module_version": "1.5.0",
          "state": {
            "_view_name": "HTMLView",
            "style": "IPY_MODEL_142fcd7026f646ac8fd332dce79fe7c0",
            "_dom_classes": [],
            "description": "",
            "_model_name": "HTMLModel",
            "placeholder": "​",
            "_view_module": "@jupyter-widgets/controls",
            "_model_module_version": "1.5.0",
            "value": "Epoch 0: 100%",
            "_view_count": null,
            "_view_module_version": "1.5.0",
            "description_tooltip": null,
            "_model_module": "@jupyter-widgets/controls",
            "layout": "IPY_MODEL_f2af390a590643a38c0db541f0ab04d6"
          }
        },
        "505f29c729204beea910154e856bc639": {
          "model_module": "@jupyter-widgets/controls",
          "model_name": "FloatProgressModel",
          "model_module_version": "1.5.0",
          "state": {
            "_view_name": "ProgressView",
            "style": "IPY_MODEL_7d9e54ddcf2945f99c9982358e16b2a0",
            "_dom_classes": [],
            "description": "",
            "_model_name": "FloatProgressModel",
            "bar_style": "success",
            "max": 1714,
            "_view_module": "@jupyter-widgets/controls",
            "_model_module_version": "1.5.0",
            "value": 1714,
            "_view_count": null,
            "_view_module_version": "1.5.0",
            "orientation": "horizontal",
            "min": 0,
            "description_tooltip": null,
            "_model_module": "@jupyter-widgets/controls",
            "layout": "IPY_MODEL_30c95503d9f246ef992c3fbf8b51c510"
          }
        },
        "75db67e10de347ec8624e025db020fc8": {
          "model_module": "@jupyter-widgets/controls",
          "model_name": "HTMLModel",
          "model_module_version": "1.5.0",
          "state": {
            "_view_name": "HTMLView",
            "style": "IPY_MODEL_80010e1dde3c4211ac08b49ad5c1a567",
            "_dom_classes": [],
            "description": "",
            "_model_name": "HTMLModel",
            "placeholder": "​",
            "_view_module": "@jupyter-widgets/controls",
            "_model_module_version": "1.5.0",
            "value": " 1714/1714 [52:24&lt;00:00,  1.83s/it, loss=5.96, v_num=1]",
            "_view_count": null,
            "_view_module_version": "1.5.0",
            "description_tooltip": null,
            "_model_module": "@jupyter-widgets/controls",
            "layout": "IPY_MODEL_fd0ecb5dd3814a59a7f86dcf3da97815"
          }
        },
        "142fcd7026f646ac8fd332dce79fe7c0": {
          "model_module": "@jupyter-widgets/controls",
          "model_name": "DescriptionStyleModel",
          "model_module_version": "1.5.0",
          "state": {
            "_view_name": "StyleView",
            "_model_name": "DescriptionStyleModel",
            "description_width": "",
            "_view_module": "@jupyter-widgets/base",
            "_model_module_version": "1.5.0",
            "_view_count": null,
            "_view_module_version": "1.2.0",
            "_model_module": "@jupyter-widgets/controls"
          }
        },
        "f2af390a590643a38c0db541f0ab04d6": {
          "model_module": "@jupyter-widgets/base",
          "model_name": "LayoutModel",
          "model_module_version": "1.2.0",
          "state": {
            "_view_name": "LayoutView",
            "grid_template_rows": null,
            "right": null,
            "justify_content": null,
            "_view_module": "@jupyter-widgets/base",
            "overflow": null,
            "_model_module_version": "1.2.0",
            "_view_count": null,
            "flex_flow": null,
            "width": null,
            "min_width": null,
            "border": null,
            "align_items": null,
            "bottom": null,
            "_model_module": "@jupyter-widgets/base",
            "top": null,
            "grid_column": null,
            "overflow_y": null,
            "overflow_x": null,
            "grid_auto_flow": null,
            "grid_area": null,
            "grid_template_columns": null,
            "flex": null,
            "_model_name": "LayoutModel",
            "justify_items": null,
            "grid_row": null,
            "max_height": null,
            "align_content": null,
            "visibility": null,
            "align_self": null,
            "height": null,
            "min_height": null,
            "padding": null,
            "grid_auto_rows": null,
            "grid_gap": null,
            "max_width": null,
            "order": null,
            "_view_module_version": "1.2.0",
            "grid_template_areas": null,
            "object_position": null,
            "object_fit": null,
            "grid_auto_columns": null,
            "margin": null,
            "display": null,
            "left": null
          }
        },
        "7d9e54ddcf2945f99c9982358e16b2a0": {
          "model_module": "@jupyter-widgets/controls",
          "model_name": "ProgressStyleModel",
          "model_module_version": "1.5.0",
          "state": {
            "_view_name": "StyleView",
            "_model_name": "ProgressStyleModel",
            "description_width": "",
            "_view_module": "@jupyter-widgets/base",
            "_model_module_version": "1.5.0",
            "_view_count": null,
            "_view_module_version": "1.2.0",
            "bar_color": null,
            "_model_module": "@jupyter-widgets/controls"
          }
        },
        "30c95503d9f246ef992c3fbf8b51c510": {
          "model_module": "@jupyter-widgets/base",
          "model_name": "LayoutModel",
          "model_module_version": "1.2.0",
          "state": {
            "_view_name": "LayoutView",
            "grid_template_rows": null,
            "right": null,
            "justify_content": null,
            "_view_module": "@jupyter-widgets/base",
            "overflow": null,
            "_model_module_version": "1.2.0",
            "_view_count": null,
            "flex_flow": null,
            "width": null,
            "min_width": null,
            "border": null,
            "align_items": null,
            "bottom": null,
            "_model_module": "@jupyter-widgets/base",
            "top": null,
            "grid_column": null,
            "overflow_y": null,
            "overflow_x": null,
            "grid_auto_flow": null,
            "grid_area": null,
            "grid_template_columns": null,
            "flex": "2",
            "_model_name": "LayoutModel",
            "justify_items": null,
            "grid_row": null,
            "max_height": null,
            "align_content": null,
            "visibility": null,
            "align_self": null,
            "height": null,
            "min_height": null,
            "padding": null,
            "grid_auto_rows": null,
            "grid_gap": null,
            "max_width": null,
            "order": null,
            "_view_module_version": "1.2.0",
            "grid_template_areas": null,
            "object_position": null,
            "object_fit": null,
            "grid_auto_columns": null,
            "margin": null,
            "display": null,
            "left": null
          }
        },
        "80010e1dde3c4211ac08b49ad5c1a567": {
          "model_module": "@jupyter-widgets/controls",
          "model_name": "DescriptionStyleModel",
          "model_module_version": "1.5.0",
          "state": {
            "_view_name": "StyleView",
            "_model_name": "DescriptionStyleModel",
            "description_width": "",
            "_view_module": "@jupyter-widgets/base",
            "_model_module_version": "1.5.0",
            "_view_count": null,
            "_view_module_version": "1.2.0",
            "_model_module": "@jupyter-widgets/controls"
          }
        },
        "fd0ecb5dd3814a59a7f86dcf3da97815": {
          "model_module": "@jupyter-widgets/base",
          "model_name": "LayoutModel",
          "model_module_version": "1.2.0",
          "state": {
            "_view_name": "LayoutView",
            "grid_template_rows": null,
            "right": null,
            "justify_content": null,
            "_view_module": "@jupyter-widgets/base",
            "overflow": null,
            "_model_module_version": "1.2.0",
            "_view_count": null,
            "flex_flow": null,
            "width": null,
            "min_width": null,
            "border": null,
            "align_items": null,
            "bottom": null,
            "_model_module": "@jupyter-widgets/base",
            "top": null,
            "grid_column": null,
            "overflow_y": null,
            "overflow_x": null,
            "grid_auto_flow": null,
            "grid_area": null,
            "grid_template_columns": null,
            "flex": null,
            "_model_name": "LayoutModel",
            "justify_items": null,
            "grid_row": null,
            "max_height": null,
            "align_content": null,
            "visibility": null,
            "align_self": null,
            "height": null,
            "min_height": null,
            "padding": null,
            "grid_auto_rows": null,
            "grid_gap": null,
            "max_width": null,
            "order": null,
            "_view_module_version": "1.2.0",
            "grid_template_areas": null,
            "object_position": null,
            "object_fit": null,
            "grid_auto_columns": null,
            "margin": null,
            "display": null,
            "left": null
          }
        },
        "ceebbc6fab5944df8a6b371744d05660": {
          "model_module": "@jupyter-widgets/controls",
          "model_name": "HBoxModel",
          "model_module_version": "1.5.0",
          "state": {
            "_view_name": "HBoxView",
            "_dom_classes": [],
            "_model_name": "HBoxModel",
            "_view_module": "@jupyter-widgets/controls",
            "_model_module_version": "1.5.0",
            "_view_count": null,
            "_view_module_version": "1.5.0",
            "box_style": "",
            "layout": "IPY_MODEL_2eed1b62c40142a6869dcfb974f07582",
            "_model_module": "@jupyter-widgets/controls",
            "children": [
              "IPY_MODEL_e7fe732aa16d4f48b42d3c2760e0866f",
              "IPY_MODEL_cc1cfde3cb544a4c9501beed66df1033",
              "IPY_MODEL_9ac6c85e04744e4480111c1b50aaf375"
            ]
          }
        },
        "2eed1b62c40142a6869dcfb974f07582": {
          "model_module": "@jupyter-widgets/base",
          "model_name": "LayoutModel",
          "model_module_version": "1.2.0",
          "state": {
            "_view_name": "LayoutView",
            "grid_template_rows": null,
            "right": null,
            "justify_content": null,
            "_view_module": "@jupyter-widgets/base",
            "overflow": null,
            "_model_module_version": "1.2.0",
            "_view_count": null,
            "flex_flow": "row wrap",
            "width": "100%",
            "min_width": null,
            "border": null,
            "align_items": null,
            "bottom": null,
            "_model_module": "@jupyter-widgets/base",
            "top": null,
            "grid_column": null,
            "overflow_y": null,
            "overflow_x": null,
            "grid_auto_flow": null,
            "grid_area": null,
            "grid_template_columns": null,
            "flex": null,
            "_model_name": "LayoutModel",
            "justify_items": null,
            "grid_row": null,
            "max_height": null,
            "align_content": null,
            "visibility": null,
            "align_self": null,
            "height": null,
            "min_height": null,
            "padding": null,
            "grid_auto_rows": null,
            "grid_gap": null,
            "max_width": null,
            "order": null,
            "_view_module_version": "1.2.0",
            "grid_template_areas": null,
            "object_position": null,
            "object_fit": null,
            "grid_auto_columns": null,
            "margin": null,
            "display": "inline-flex",
            "left": null
          }
        },
        "e7fe732aa16d4f48b42d3c2760e0866f": {
          "model_module": "@jupyter-widgets/controls",
          "model_name": "HTMLModel",
          "model_module_version": "1.5.0",
          "state": {
            "_view_name": "HTMLView",
            "style": "IPY_MODEL_9875b784616349f3ad4dc0be140cfe6b",
            "_dom_classes": [],
            "description": "",
            "_model_name": "HTMLModel",
            "placeholder": "​",
            "_view_module": "@jupyter-widgets/controls",
            "_model_module_version": "1.5.0",
            "value": "Validating: 100%",
            "_view_count": null,
            "_view_module_version": "1.5.0",
            "description_tooltip": null,
            "_model_module": "@jupyter-widgets/controls",
            "layout": "IPY_MODEL_e3cf15827f544d4d9916bd5b91139d6d"
          }
        },
        "cc1cfde3cb544a4c9501beed66df1033": {
          "model_module": "@jupyter-widgets/controls",
          "model_name": "FloatProgressModel",
          "model_module_version": "1.5.0",
          "state": {
            "_view_name": "ProgressView",
            "style": "IPY_MODEL_b9537bb7191b448680b336713357a9a4",
            "_dom_classes": [],
            "description": "",
            "_model_name": "FloatProgressModel",
            "bar_style": "",
            "max": 120,
            "_view_module": "@jupyter-widgets/controls",
            "_model_module_version": "1.5.0",
            "value": 120,
            "_view_count": null,
            "_view_module_version": "1.5.0",
            "orientation": "horizontal",
            "min": 0,
            "description_tooltip": null,
            "_model_module": "@jupyter-widgets/controls",
            "layout": "IPY_MODEL_763fba33c9884cb4abbcb30b28f891f3"
          }
        },
        "9ac6c85e04744e4480111c1b50aaf375": {
          "model_module": "@jupyter-widgets/controls",
          "model_name": "HTMLModel",
          "model_module_version": "1.5.0",
          "state": {
            "_view_name": "HTMLView",
            "style": "IPY_MODEL_f6d156a0ddf0427a933b7412eb0964c9",
            "_dom_classes": [],
            "description": "",
            "_model_name": "HTMLModel",
            "placeholder": "​",
            "_view_module": "@jupyter-widgets/controls",
            "_model_module_version": "1.5.0",
            "value": " 120/120 [00:43&lt;00:00,  2.93it/s]",
            "_view_count": null,
            "_view_module_version": "1.5.0",
            "description_tooltip": null,
            "_model_module": "@jupyter-widgets/controls",
            "layout": "IPY_MODEL_15902cce0d194ec89d49cba5670d83e7"
          }
        },
        "9875b784616349f3ad4dc0be140cfe6b": {
          "model_module": "@jupyter-widgets/controls",
          "model_name": "DescriptionStyleModel",
          "model_module_version": "1.5.0",
          "state": {
            "_view_name": "StyleView",
            "_model_name": "DescriptionStyleModel",
            "description_width": "",
            "_view_module": "@jupyter-widgets/base",
            "_model_module_version": "1.5.0",
            "_view_count": null,
            "_view_module_version": "1.2.0",
            "_model_module": "@jupyter-widgets/controls"
          }
        },
        "e3cf15827f544d4d9916bd5b91139d6d": {
          "model_module": "@jupyter-widgets/base",
          "model_name": "LayoutModel",
          "model_module_version": "1.2.0",
          "state": {
            "_view_name": "LayoutView",
            "grid_template_rows": null,
            "right": null,
            "justify_content": null,
            "_view_module": "@jupyter-widgets/base",
            "overflow": null,
            "_model_module_version": "1.2.0",
            "_view_count": null,
            "flex_flow": null,
            "width": null,
            "min_width": null,
            "border": null,
            "align_items": null,
            "bottom": null,
            "_model_module": "@jupyter-widgets/base",
            "top": null,
            "grid_column": null,
            "overflow_y": null,
            "overflow_x": null,
            "grid_auto_flow": null,
            "grid_area": null,
            "grid_template_columns": null,
            "flex": null,
            "_model_name": "LayoutModel",
            "justify_items": null,
            "grid_row": null,
            "max_height": null,
            "align_content": null,
            "visibility": null,
            "align_self": null,
            "height": null,
            "min_height": null,
            "padding": null,
            "grid_auto_rows": null,
            "grid_gap": null,
            "max_width": null,
            "order": null,
            "_view_module_version": "1.2.0",
            "grid_template_areas": null,
            "object_position": null,
            "object_fit": null,
            "grid_auto_columns": null,
            "margin": null,
            "display": null,
            "left": null
          }
        },
        "b9537bb7191b448680b336713357a9a4": {
          "model_module": "@jupyter-widgets/controls",
          "model_name": "ProgressStyleModel",
          "model_module_version": "1.5.0",
          "state": {
            "_view_name": "StyleView",
            "_model_name": "ProgressStyleModel",
            "description_width": "",
            "_view_module": "@jupyter-widgets/base",
            "_model_module_version": "1.5.0",
            "_view_count": null,
            "_view_module_version": "1.2.0",
            "bar_color": null,
            "_model_module": "@jupyter-widgets/controls"
          }
        },
        "763fba33c9884cb4abbcb30b28f891f3": {
          "model_module": "@jupyter-widgets/base",
          "model_name": "LayoutModel",
          "model_module_version": "1.2.0",
          "state": {
            "_view_name": "LayoutView",
            "grid_template_rows": null,
            "right": null,
            "justify_content": null,
            "_view_module": "@jupyter-widgets/base",
            "overflow": null,
            "_model_module_version": "1.2.0",
            "_view_count": null,
            "flex_flow": null,
            "width": null,
            "min_width": null,
            "border": null,
            "align_items": null,
            "bottom": null,
            "_model_module": "@jupyter-widgets/base",
            "top": null,
            "grid_column": null,
            "overflow_y": null,
            "overflow_x": null,
            "grid_auto_flow": null,
            "grid_area": null,
            "grid_template_columns": null,
            "flex": "2",
            "_model_name": "LayoutModel",
            "justify_items": null,
            "grid_row": null,
            "max_height": null,
            "align_content": null,
            "visibility": null,
            "align_self": null,
            "height": null,
            "min_height": null,
            "padding": null,
            "grid_auto_rows": null,
            "grid_gap": null,
            "max_width": null,
            "order": null,
            "_view_module_version": "1.2.0",
            "grid_template_areas": null,
            "object_position": null,
            "object_fit": null,
            "grid_auto_columns": null,
            "margin": null,
            "display": null,
            "left": null
          }
        },
        "f6d156a0ddf0427a933b7412eb0964c9": {
          "model_module": "@jupyter-widgets/controls",
          "model_name": "DescriptionStyleModel",
          "model_module_version": "1.5.0",
          "state": {
            "_view_name": "StyleView",
            "_model_name": "DescriptionStyleModel",
            "description_width": "",
            "_view_module": "@jupyter-widgets/base",
            "_model_module_version": "1.5.0",
            "_view_count": null,
            "_view_module_version": "1.2.0",
            "_model_module": "@jupyter-widgets/controls"
          }
        },
        "15902cce0d194ec89d49cba5670d83e7": {
          "model_module": "@jupyter-widgets/base",
          "model_name": "LayoutModel",
          "model_module_version": "1.2.0",
          "state": {
            "_view_name": "LayoutView",
            "grid_template_rows": null,
            "right": null,
            "justify_content": null,
            "_view_module": "@jupyter-widgets/base",
            "overflow": null,
            "_model_module_version": "1.2.0",
            "_view_count": null,
            "flex_flow": null,
            "width": null,
            "min_width": null,
            "border": null,
            "align_items": null,
            "bottom": null,
            "_model_module": "@jupyter-widgets/base",
            "top": null,
            "grid_column": null,
            "overflow_y": null,
            "overflow_x": null,
            "grid_auto_flow": null,
            "grid_area": null,
            "grid_template_columns": null,
            "flex": null,
            "_model_name": "LayoutModel",
            "justify_items": null,
            "grid_row": null,
            "max_height": null,
            "align_content": null,
            "visibility": null,
            "align_self": null,
            "height": null,
            "min_height": null,
            "padding": null,
            "grid_auto_rows": null,
            "grid_gap": null,
            "max_width": null,
            "order": null,
            "_view_module_version": "1.2.0",
            "grid_template_areas": null,
            "object_position": null,
            "object_fit": null,
            "grid_auto_columns": null,
            "margin": null,
            "display": null,
            "left": null
          }
        }
      }
    },
    "accelerator": "GPU"
  },
  "cells": [
    {
      "cell_type": "code",
      "metadata": {
        "id": "oXdDolTa-dAY",
        "colab": {
          "base_uri": "https://localhost:8080/",
          "height": 1000
        },
        "outputId": "d7710ecc-06ad-41e8-9818-650f8f652340"
      },
      "source": [
        "# If you're using Google Colab and not running locally, run this cell.\n",
        "\n",
        "## Install dependencies\n",
        "!pip install wget\n",
        "!apt-get install sox libsndfile1 ffmpeg\n",
        "!pip install unidecode\n",
        "\n",
        "\n",
        "## Install NeMo\n",
        "!python -m pip install nemo_toolkit[all]\n",
        "\n",
        "# !pip install torchtext==0.10.1\n",
        "# !pip install matplotlib==3.1.3\n",
        "\"\"\"\n",
        "Remember to restart the runtime for the kernel to pick up any upgraded packages (e.g. matplotlib)!\n",
        "Alternatively, you can uncomment the exit() below to crash and restart the kernel, in the case\n",
        "that you want to use the \"Run All Cells\" (or similar) option.\n",
        "\"\"\"\n",
        "#exit()"
      ],
      "execution_count": null,
      "outputs": [
        {
          "output_type": "stream",
          "name": "stdout",
          "text": [
            "Collecting wget\n",
            "  Downloading wget-3.2.zip (10 kB)\n",
            "Building wheels for collected packages: wget\n",
            "  Building wheel for wget (setup.py) ... \u001b[?25l\u001b[?25hdone\n",
            "  Created wheel for wget: filename=wget-3.2-py3-none-any.whl size=9672 sha256=9bccd86c1e788b7437d0ed6360f3e65c34dd5e488ed0b7c7affa3a6809513e8f\n",
            "  Stored in directory: /root/.cache/pip/wheels/a1/b6/7c/0e63e34eb06634181c63adacca38b79ff8f35c37e3c13e3c02\n",
            "Successfully built wget\n",
            "Installing collected packages: wget\n",
            "Successfully installed wget-3.2\n",
            "Reading package lists... Done\n",
            "Building dependency tree       \n",
            "Reading state information... Done\n",
            "libsndfile1 is already the newest version (1.0.28-4ubuntu0.18.04.2).\n",
            "ffmpeg is already the newest version (7:3.4.8-0ubuntu0.2).\n",
            "The following additional packages will be installed:\n",
            "  libmagic-mgc libmagic1 libopencore-amrnb0 libopencore-amrwb0 libsox-fmt-alsa\n",
            "  libsox-fmt-base libsox3\n",
            "Suggested packages:\n",
            "  file libsox-fmt-all\n",
            "The following NEW packages will be installed:\n",
            "  libmagic-mgc libmagic1 libopencore-amrnb0 libopencore-amrwb0 libsox-fmt-alsa\n",
            "  libsox-fmt-base libsox3 sox\n",
            "0 upgraded, 8 newly installed, 0 to remove and 37 not upgraded.\n",
            "Need to get 760 kB of archives.\n",
            "After this operation, 6,717 kB of additional disk space will be used.\n",
            "Get:1 http://archive.ubuntu.com/ubuntu bionic/universe amd64 libopencore-amrnb0 amd64 0.1.3-2.1 [92.0 kB]\n",
            "Get:2 http://archive.ubuntu.com/ubuntu bionic/universe amd64 libopencore-amrwb0 amd64 0.1.3-2.1 [45.8 kB]\n",
            "Get:3 http://archive.ubuntu.com/ubuntu bionic-updates/main amd64 libmagic-mgc amd64 1:5.32-2ubuntu0.4 [184 kB]\n",
            "Get:4 http://archive.ubuntu.com/ubuntu bionic-updates/main amd64 libmagic1 amd64 1:5.32-2ubuntu0.4 [68.6 kB]\n",
            "Get:5 http://archive.ubuntu.com/ubuntu bionic-updates/universe amd64 libsox3 amd64 14.4.2-3ubuntu0.18.04.1 [226 kB]\n",
            "Get:6 http://archive.ubuntu.com/ubuntu bionic-updates/universe amd64 libsox-fmt-alsa amd64 14.4.2-3ubuntu0.18.04.1 [10.6 kB]\n",
            "Get:7 http://archive.ubuntu.com/ubuntu bionic-updates/universe amd64 libsox-fmt-base amd64 14.4.2-3ubuntu0.18.04.1 [32.1 kB]\n",
            "Get:8 http://archive.ubuntu.com/ubuntu bionic-updates/universe amd64 sox amd64 14.4.2-3ubuntu0.18.04.1 [101 kB]\n",
            "Fetched 760 kB in 1s (733 kB/s)\n",
            "Selecting previously unselected package libopencore-amrnb0:amd64.\n",
            "(Reading database ... 155222 files and directories currently installed.)\n",
            "Preparing to unpack .../0-libopencore-amrnb0_0.1.3-2.1_amd64.deb ...\n",
            "Unpacking libopencore-amrnb0:amd64 (0.1.3-2.1) ...\n",
            "Selecting previously unselected package libopencore-amrwb0:amd64.\n",
            "Preparing to unpack .../1-libopencore-amrwb0_0.1.3-2.1_amd64.deb ...\n",
            "Unpacking libopencore-amrwb0:amd64 (0.1.3-2.1) ...\n",
            "Selecting previously unselected package libmagic-mgc.\n",
            "Preparing to unpack .../2-libmagic-mgc_1%3a5.32-2ubuntu0.4_amd64.deb ...\n",
            "Unpacking libmagic-mgc (1:5.32-2ubuntu0.4) ...\n",
            "Selecting previously unselected package libmagic1:amd64.\n",
            "Preparing to unpack .../3-libmagic1_1%3a5.32-2ubuntu0.4_amd64.deb ...\n",
            "Unpacking libmagic1:amd64 (1:5.32-2ubuntu0.4) ...\n",
            "Selecting previously unselected package libsox3:amd64.\n",
            "Preparing to unpack .../4-libsox3_14.4.2-3ubuntu0.18.04.1_amd64.deb ...\n",
            "Unpacking libsox3:amd64 (14.4.2-3ubuntu0.18.04.1) ...\n",
            "Selecting previously unselected package libsox-fmt-alsa:amd64.\n",
            "Preparing to unpack .../5-libsox-fmt-alsa_14.4.2-3ubuntu0.18.04.1_amd64.deb ...\n",
            "Unpacking libsox-fmt-alsa:amd64 (14.4.2-3ubuntu0.18.04.1) ...\n",
            "Selecting previously unselected package libsox-fmt-base:amd64.\n",
            "Preparing to unpack .../6-libsox-fmt-base_14.4.2-3ubuntu0.18.04.1_amd64.deb ...\n",
            "Unpacking libsox-fmt-base:amd64 (14.4.2-3ubuntu0.18.04.1) ...\n",
            "Selecting previously unselected package sox.\n",
            "Preparing to unpack .../7-sox_14.4.2-3ubuntu0.18.04.1_amd64.deb ...\n",
            "Unpacking sox (14.4.2-3ubuntu0.18.04.1) ...\n",
            "Setting up libmagic-mgc (1:5.32-2ubuntu0.4) ...\n",
            "Setting up libmagic1:amd64 (1:5.32-2ubuntu0.4) ...\n",
            "Setting up libopencore-amrnb0:amd64 (0.1.3-2.1) ...\n",
            "Setting up libopencore-amrwb0:amd64 (0.1.3-2.1) ...\n",
            "Setting up libsox3:amd64 (14.4.2-3ubuntu0.18.04.1) ...\n",
            "Setting up libsox-fmt-base:amd64 (14.4.2-3ubuntu0.18.04.1) ...\n",
            "Setting up libsox-fmt-alsa:amd64 (14.4.2-3ubuntu0.18.04.1) ...\n",
            "Setting up sox (14.4.2-3ubuntu0.18.04.1) ...\n",
            "Processing triggers for libc-bin (2.27-3ubuntu1.3) ...\n",
            "/sbin/ldconfig.real: /usr/local/lib/python3.7/dist-packages/ideep4py/lib/libmkldnn.so.0 is not a symbolic link\n",
            "\n",
            "Processing triggers for man-db (2.8.3-2ubuntu0.1) ...\n",
            "Processing triggers for mime-support (3.60ubuntu1) ...\n",
            "Collecting unidecode\n",
            "  Downloading Unidecode-1.3.2-py3-none-any.whl (235 kB)\n",
            "\u001b[K     |████████████████████████████████| 235 kB 5.3 MB/s \n",
            "\u001b[?25hInstalling collected packages: unidecode\n",
            "Successfully installed unidecode-1.3.2\n",
            "Collecting nemo_toolkit[all]\n",
            "  Downloading nemo_toolkit-1.5.0-py3-none-any.whl (2.7 MB)\n",
            "\u001b[K     |████████████████████████████████| 2.7 MB 5.3 MB/s \n",
            "\u001b[?25hCollecting ruamel.yaml\n",
            "  Downloading ruamel.yaml-0.17.17-py3-none-any.whl (109 kB)\n",
            "\u001b[K     |████████████████████████████████| 109 kB 49.0 MB/s \n",
            "\u001b[?25hRequirement already satisfied: scikit-learn in /usr/local/lib/python3.7/dist-packages (from nemo_toolkit[all]) (1.0.1)\n",
            "Requirement already satisfied: unidecode in /usr/local/lib/python3.7/dist-packages (from nemo_toolkit[all]) (1.3.2)\n",
            "Requirement already satisfied: numpy>=1.18.2 in /usr/local/lib/python3.7/dist-packages (from nemo_toolkit[all]) (1.19.5)\n",
            "Collecting onnx>=1.7.0\n",
            "  Downloading onnx-1.10.2-cp37-cp37m-manylinux_2_12_x86_64.manylinux2010_x86_64.whl (12.7 MB)\n",
            "\u001b[K     |████████████████████████████████| 12.7 MB 35.8 MB/s \n",
            "\u001b[?25hRequirement already satisfied: python-dateutil in /usr/local/lib/python3.7/dist-packages (from nemo_toolkit[all]) (2.8.2)\n",
            "Requirement already satisfied: wget in /usr/local/lib/python3.7/dist-packages (from nemo_toolkit[all]) (3.2)\n",
            "Requirement already satisfied: numba in /usr/local/lib/python3.7/dist-packages (from nemo_toolkit[all]) (0.51.2)\n",
            "Requirement already satisfied: wrapt in /usr/local/lib/python3.7/dist-packages (from nemo_toolkit[all]) (1.13.3)\n",
            "Collecting sentencepiece<1.0.0\n",
            "  Downloading sentencepiece-0.1.96-cp37-cp37m-manylinux_2_17_x86_64.manylinux2014_x86_64.whl (1.2 MB)\n",
            "\u001b[K     |████████████████████████████████| 1.2 MB 38.1 MB/s \n",
            "\u001b[?25hCollecting frozendict\n",
            "  Downloading frozendict-2.1.0-py3-none-any.whl (12 kB)\n",
            "Requirement already satisfied: tqdm>=4.41.0 in /usr/local/lib/python3.7/dist-packages (from nemo_toolkit[all]) (4.62.3)\n",
            "Requirement already satisfied: torch in /usr/local/lib/python3.7/dist-packages (from nemo_toolkit[all]) (1.10.0+cu111)\n",
            "Collecting g2p-en\n",
            "  Downloading g2p_en-2.1.0-py3-none-any.whl (3.1 MB)\n",
            "\u001b[K     |████████████████████████████████| 3.1 MB 36.3 MB/s \n",
            "\u001b[?25hCollecting pytest-runner\n",
            "  Downloading pytest_runner-5.3.1-py3-none-any.whl (7.1 kB)\n",
            "Collecting braceexpand\n",
            "  Downloading braceexpand-0.1.7-py2.py3-none-any.whl (5.9 kB)\n",
            "Requirement already satisfied: torchvision in /usr/local/lib/python3.7/dist-packages (from nemo_toolkit[all]) (0.11.1+cu111)\n",
            "Collecting isort[requirements]<5\n",
            "  Downloading isort-4.3.21-py2.py3-none-any.whl (42 kB)\n",
            "\u001b[K     |████████████████████████████████| 42 kB 914 kB/s \n",
            "\u001b[?25hCollecting boto3\n",
            "  Downloading boto3-1.20.14-py3-none-any.whl (131 kB)\n",
            "\u001b[K     |████████████████████████████████| 131 kB 40.6 MB/s \n",
            "\u001b[?25hRequirement already satisfied: pytest in /usr/local/lib/python3.7/dist-packages (from nemo_toolkit[all]) (3.6.4)\n",
            "Requirement already satisfied: packaging in /usr/local/lib/python3.7/dist-packages (from nemo_toolkit[all]) (21.3)\n",
            "Collecting torch-stft\n",
            "  Downloading torch_stft-0.1.4-py3-none-any.whl (6.2 kB)\n",
            "Collecting black==19.10b0\n",
            "  Downloading black-19.10b0-py36-none-any.whl (97 kB)\n",
            "\u001b[K     |████████████████████████████████| 97 kB 6.9 MB/s \n",
            "\u001b[?25hRequirement already satisfied: sphinx in /usr/local/lib/python3.7/dist-packages (from nemo_toolkit[all]) (1.8.6)\n",
            "Requirement already satisfied: librosa in /usr/local/lib/python3.7/dist-packages (from nemo_toolkit[all]) (0.8.1)\n",
            "Collecting kaldiio\n",
            "  Downloading kaldiio-2.17.2.tar.gz (24 kB)\n",
            "Collecting pypinyin\n",
            "  Downloading pypinyin-0.44.0-py2.py3-none-any.whl (1.3 MB)\n",
            "\u001b[K     |████████████████████████████████| 1.3 MB 33.8 MB/s \n",
            "\u001b[?25hRequirement already satisfied: jieba in /usr/local/lib/python3.7/dist-packages (from nemo_toolkit[all]) (0.42.1)\n",
            "Requirement already satisfied: inflect in /usr/local/lib/python3.7/dist-packages (from nemo_toolkit[all]) (2.1.0)\n",
            "Collecting attrdict\n",
            "  Downloading attrdict-2.0.1-py2.py3-none-any.whl (9.9 kB)\n",
            "Requirement already satisfied: pyyaml<6 in /usr/local/lib/python3.7/dist-packages (from nemo_toolkit[all]) (3.13)\n",
            "Requirement already satisfied: editdistance in /usr/local/lib/python3.7/dist-packages (from nemo_toolkit[all]) (0.5.3)\n",
            "Requirement already satisfied: gdown in /usr/local/lib/python3.7/dist-packages (from nemo_toolkit[all]) (3.6.4)\n",
            "Requirement already satisfied: pandas in /usr/local/lib/python3.7/dist-packages (from nemo_toolkit[all]) (1.1.5)\n",
            "Collecting sox\n",
            "  Downloading sox-1.4.1-py2.py3-none-any.whl (39 kB)\n",
            "Collecting pyannote.metrics\n",
            "  Downloading pyannote.metrics-3.1-py3-none-any.whl (49 kB)\n",
            "\u001b[K     |████████████████████████████████| 49 kB 5.2 MB/s \n",
            "\u001b[?25hCollecting pystoi\n",
            "  Downloading pystoi-0.3.3.tar.gz (7.0 kB)\n",
            "Collecting transformers>=4.0.1\n",
            "  Downloading transformers-4.12.5-py3-none-any.whl (3.1 MB)\n",
            "\u001b[K     |████████████████████████████████| 3.1 MB 38.1 MB/s \n",
            "\u001b[?25hCollecting webdataset<=0.1.62,>=0.1.48\n",
            "  Downloading webdataset-0.1.62-py3-none-any.whl (32 kB)\n",
            "Collecting pydub\n",
            "  Downloading pydub-0.25.1-py2.py3-none-any.whl (32 kB)\n",
            "Requirement already satisfied: h5py in /usr/local/lib/python3.7/dist-packages (from nemo_toolkit[all]) (3.1.0)\n",
            "Collecting parameterized\n",
            "  Downloading parameterized-0.8.1-py2.py3-none-any.whl (26 kB)\n",
            "Requirement already satisfied: soundfile in /usr/local/lib/python3.7/dist-packages (from nemo_toolkit[all]) (0.10.3.post1)\n",
            "Collecting pangu\n",
            "  Downloading pangu-4.0.6.1-py3-none-any.whl (6.4 kB)\n",
            "Collecting sacremoses>=0.0.43\n",
            "  Downloading sacremoses-0.0.46-py3-none-any.whl (895 kB)\n",
            "\u001b[K     |████████████████████████████████| 895 kB 31.2 MB/s \n",
            "\u001b[?25hCollecting matplotlib>=3.3.2\n",
            "  Downloading matplotlib-3.5.0-cp37-cp37m-manylinux_2_5_x86_64.manylinux1_x86_64.whl (11.2 MB)\n",
            "\u001b[K     |████████████████████████████████| 11.2 MB 46.5 MB/s \n",
            "\u001b[?25hCollecting opencc\n",
            "  Downloading OpenCC-1.1.3-cp37-cp37m-manylinux1_x86_64.whl (766 kB)\n",
            "\u001b[K     |████████████████████████████████| 766 kB 33.0 MB/s \n",
            "\u001b[?25hCollecting omegaconf>=2.1.0\n",
            "  Downloading omegaconf-2.1.1-py3-none-any.whl (74 kB)\n",
            "\u001b[K     |████████████████████████████████| 74 kB 2.9 MB/s \n",
            "\u001b[?25hCollecting pytorch-lightning>=1.5.0\n",
            "  Downloading pytorch_lightning-1.5.3-py3-none-any.whl (523 kB)\n",
            "\u001b[K     |████████████████████████████████| 523 kB 40.6 MB/s \n",
            "\u001b[?25hCollecting torchmetrics>=0.4.1rc0\n",
            "  Downloading torchmetrics-0.6.0-py3-none-any.whl (329 kB)\n",
            "\u001b[K     |████████████████████████████████| 329 kB 36.8 MB/s \n",
            "\u001b[?25hCollecting marshmallow\n",
            "  Downloading marshmallow-3.14.1-py3-none-any.whl (47 kB)\n",
            "\u001b[K     |████████████████████████████████| 47 kB 4.1 MB/s \n",
            "\u001b[?25hCollecting kaldi-python-io\n",
            "  Downloading kaldi-python-io-1.2.2.tar.gz (8.8 kB)\n",
            "Collecting hydra-core>=1.1.0\n",
            "  Downloading hydra_core-1.1.1-py3-none-any.whl (145 kB)\n",
            "\u001b[K     |████████████████████████████████| 145 kB 47.0 MB/s \n",
            "\u001b[?25hCollecting fasttext\n",
            "  Downloading fasttext-0.9.2.tar.gz (68 kB)\n",
            "\u001b[K     |████████████████████████████████| 68 kB 6.2 MB/s \n",
            "\u001b[?25hRequirement already satisfied: matplotlib in /usr/local/lib/python3.7/dist-packages (from nemo_toolkit[all]) (3.2.2)\n",
            "Collecting sphinxcontrib-bibtex\n",
            "  Downloading sphinxcontrib_bibtex-2.4.1-py3-none-any.whl (38 kB)\n",
            "Collecting wandb\n",
            "  Downloading wandb-0.12.7-py2.py3-none-any.whl (1.7 MB)\n",
            "\u001b[K     |████████████████████████████████| 1.7 MB 39.8 MB/s \n",
            "\u001b[?25hRequirement already satisfied: nltk in /usr/local/lib/python3.7/dist-packages (from nemo_toolkit[all]) (3.2.5)\n",
            "Collecting rapidfuzz\n",
            "  Downloading rapidfuzz-1.8.3-cp37-cp37m-manylinux_2_12_x86_64.manylinux2010_x86_64.whl (854 kB)\n",
            "\u001b[K     |████████████████████████████████| 854 kB 33.2 MB/s \n",
            "\u001b[?25hRequirement already satisfied: regex in /usr/local/lib/python3.7/dist-packages (from nemo_toolkit[all]) (2019.12.20)\n",
            "Collecting pesq\n",
            "  Downloading pesq-0.0.3.tar.gz (35 kB)\n",
            "Requirement already satisfied: ipywidgets in /usr/local/lib/python3.7/dist-packages (from nemo_toolkit[all]) (7.6.5)\n",
            "Requirement already satisfied: pillow in /usr/local/lib/python3.7/dist-packages (from nemo_toolkit[all]) (7.1.2)\n",
            "Collecting sacrebleu[ja]\n",
            "  Downloading sacrebleu-2.0.0-py3-none-any.whl (90 kB)\n",
            "\u001b[K     |████████████████████████████████| 90 kB 8.9 MB/s \n",
            "\u001b[?25hCollecting pyannote.core\n",
            "  Downloading pyannote.core-4.3-py3-none-any.whl (59 kB)\n",
            "\u001b[K     |████████████████████████████████| 59 kB 6.5 MB/s \n",
            "\u001b[?25hCollecting nltk>=3.6.5\n",
            "  Downloading nltk-3.6.5-py3-none-any.whl (1.5 MB)\n",
            "\u001b[K     |████████████████████████████████| 1.5 MB 45.3 MB/s \n",
            "\u001b[?25hCollecting youtokentome>=1.0.5\n",
            "  Downloading youtokentome-1.0.6-cp37-cp37m-manylinux2010_x86_64.whl (1.7 MB)\n",
            "\u001b[K     |████████████████████████████████| 1.7 MB 33.4 MB/s \n",
            "\u001b[?25hRequirement already satisfied: scipy in /usr/local/lib/python3.7/dist-packages (from nemo_toolkit[all]) (1.4.1)\n",
            "Collecting wordninja==2.0.0\n",
            "  Downloading wordninja-2.0.0.tar.gz (541 kB)\n",
            "\u001b[K     |████████████████████████████████| 541 kB 34.0 MB/s \n",
            "\u001b[?25hCollecting kaldi-io\n",
            "  Downloading kaldi_io-0.9.4-py3-none-any.whl (14 kB)\n",
            "Requirement already satisfied: click>=6.5 in /usr/local/lib/python3.7/dist-packages (from black==19.10b0->nemo_toolkit[all]) (7.1.2)\n",
            "Collecting typed-ast>=1.4.0\n",
            "  Downloading typed_ast-1.5.0-cp37-cp37m-manylinux_2_5_x86_64.manylinux1_x86_64.manylinux_2_12_x86_64.manylinux2010_x86_64.whl (843 kB)\n",
            "\u001b[K     |████████████████████████████████| 843 kB 31.5 MB/s \n",
            "\u001b[?25hRequirement already satisfied: toml>=0.9.4 in /usr/local/lib/python3.7/dist-packages (from black==19.10b0->nemo_toolkit[all]) (0.10.2)\n",
            "Collecting pathspec<1,>=0.6\n",
            "  Downloading pathspec-0.9.0-py2.py3-none-any.whl (31 kB)\n",
            "Requirement already satisfied: appdirs in /usr/local/lib/python3.7/dist-packages (from black==19.10b0->nemo_toolkit[all]) (1.4.4)\n",
            "Requirement already satisfied: attrs>=18.1.0 in /usr/local/lib/python3.7/dist-packages (from black==19.10b0->nemo_toolkit[all]) (21.2.0)\n",
            "Requirement already satisfied: importlib-resources in /usr/local/lib/python3.7/dist-packages (from hydra-core>=1.1.0->nemo_toolkit[all]) (5.4.0)\n",
            "Collecting antlr4-python3-runtime==4.8\n",
            "  Downloading antlr4-python3-runtime-4.8.tar.gz (112 kB)\n",
            "\u001b[K     |████████████████████████████████| 112 kB 46.4 MB/s \n",
            "\u001b[?25hCollecting pyyaml<6\n",
            "  Downloading PyYAML-5.4.1-cp37-cp37m-manylinux1_x86_64.whl (636 kB)\n",
            "\u001b[K     |████████████████████████████████| 636 kB 31.5 MB/s \n",
            "\u001b[?25hCollecting pipreqs\n",
            "  Downloading pipreqs-0.4.11-py2.py3-none-any.whl (32 kB)\n",
            "Collecting pip-api\n",
            "  Downloading pip_api-0.0.23-py3-none-any.whl (107 kB)\n",
            "\u001b[K     |████████████████████████████████| 107 kB 34.9 MB/s \n",
            "\u001b[?25hCollecting regex\n",
            "  Downloading regex-2021.11.10-cp37-cp37m-manylinux_2_17_x86_64.manylinux2014_x86_64.whl (749 kB)\n",
            "\u001b[K     |████████████████████████████████| 749 kB 20.7 MB/s \n",
            "\u001b[?25hRequirement already satisfied: joblib in /usr/local/lib/python3.7/dist-packages (from nltk>=3.6.5->nemo_toolkit[all]) (1.1.0)\n",
            "Requirement already satisfied: six in /usr/local/lib/python3.7/dist-packages (from onnx>=1.7.0->nemo_toolkit[all]) (1.15.0)\n",
            "Requirement already satisfied: typing-extensions>=3.6.2.1 in /usr/local/lib/python3.7/dist-packages (from onnx>=1.7.0->nemo_toolkit[all]) (3.10.0.2)\n",
            "Requirement already satisfied: protobuf in /usr/local/lib/python3.7/dist-packages (from onnx>=1.7.0->nemo_toolkit[all]) (3.17.3)\n",
            "Collecting fsspec[http]!=2021.06.0,>=2021.05.0\n",
            "  Downloading fsspec-2021.11.1-py3-none-any.whl (132 kB)\n",
            "\u001b[K     |████████████████████████████████| 132 kB 50.8 MB/s \n",
            "\u001b[?25hCollecting future>=0.17.1\n",
            "  Downloading future-0.18.2.tar.gz (829 kB)\n",
            "\u001b[K     |████████████████████████████████| 829 kB 40.4 MB/s \n",
            "\u001b[?25hRequirement already satisfied: tensorboard>=2.2.0 in /usr/local/lib/python3.7/dist-packages (from pytorch-lightning>=1.5.0->nemo_toolkit[all]) (2.7.0)\n",
            "Collecting pyDeprecate==0.3.1\n",
            "  Downloading pyDeprecate-0.3.1-py3-none-any.whl (10 kB)\n",
            "Collecting aiohttp\n",
            "  Downloading aiohttp-3.8.1-cp37-cp37m-manylinux_2_5_x86_64.manylinux1_x86_64.manylinux_2_12_x86_64.manylinux2010_x86_64.whl (1.1 MB)\n",
            "\u001b[K     |████████████████████████████████| 1.1 MB 33.9 MB/s \n",
            "\u001b[?25hRequirement already satisfied: requests in /usr/local/lib/python3.7/dist-packages (from fsspec[http]!=2021.06.0,>=2021.05.0->pytorch-lightning>=1.5.0->nemo_toolkit[all]) (2.23.0)\n",
            "Requirement already satisfied: pyparsing!=3.0.5,>=2.0.2 in /usr/local/lib/python3.7/dist-packages (from packaging->nemo_toolkit[all]) (3.0.6)\n",
            "Requirement already satisfied: tensorboard-plugin-wit>=1.6.0 in /usr/local/lib/python3.7/dist-packages (from tensorboard>=2.2.0->pytorch-lightning>=1.5.0->nemo_toolkit[all]) (1.8.0)\n",
            "Requirement already satisfied: tensorboard-data-server<0.7.0,>=0.6.0 in /usr/local/lib/python3.7/dist-packages (from tensorboard>=2.2.0->pytorch-lightning>=1.5.0->nemo_toolkit[all]) (0.6.1)\n",
            "Requirement already satisfied: grpcio>=1.24.3 in /usr/local/lib/python3.7/dist-packages (from tensorboard>=2.2.0->pytorch-lightning>=1.5.0->nemo_toolkit[all]) (1.42.0)\n",
            "Requirement already satisfied: markdown>=2.6.8 in /usr/local/lib/python3.7/dist-packages (from tensorboard>=2.2.0->pytorch-lightning>=1.5.0->nemo_toolkit[all]) (3.3.6)\n",
            "Requirement already satisfied: setuptools>=41.0.0 in /usr/local/lib/python3.7/dist-packages (from tensorboard>=2.2.0->pytorch-lightning>=1.5.0->nemo_toolkit[all]) (57.4.0)\n",
            "Requirement already satisfied: absl-py>=0.4 in /usr/local/lib/python3.7/dist-packages (from tensorboard>=2.2.0->pytorch-lightning>=1.5.0->nemo_toolkit[all]) (0.12.0)\n",
            "Requirement already satisfied: wheel>=0.26 in /usr/local/lib/python3.7/dist-packages (from tensorboard>=2.2.0->pytorch-lightning>=1.5.0->nemo_toolkit[all]) (0.37.0)\n",
            "Requirement already satisfied: google-auth<3,>=1.6.3 in /usr/local/lib/python3.7/dist-packages (from tensorboard>=2.2.0->pytorch-lightning>=1.5.0->nemo_toolkit[all]) (1.35.0)\n",
            "Requirement already satisfied: google-auth-oauthlib<0.5,>=0.4.1 in /usr/local/lib/python3.7/dist-packages (from tensorboard>=2.2.0->pytorch-lightning>=1.5.0->nemo_toolkit[all]) (0.4.6)\n",
            "Requirement already satisfied: werkzeug>=0.11.15 in /usr/local/lib/python3.7/dist-packages (from tensorboard>=2.2.0->pytorch-lightning>=1.5.0->nemo_toolkit[all]) (1.0.1)\n",
            "Requirement already satisfied: cachetools<5.0,>=2.0.0 in /usr/local/lib/python3.7/dist-packages (from google-auth<3,>=1.6.3->tensorboard>=2.2.0->pytorch-lightning>=1.5.0->nemo_toolkit[all]) (4.2.4)\n",
            "Requirement already satisfied: pyasn1-modules>=0.2.1 in /usr/local/lib/python3.7/dist-packages (from google-auth<3,>=1.6.3->tensorboard>=2.2.0->pytorch-lightning>=1.5.0->nemo_toolkit[all]) (0.2.8)\n",
            "Requirement already satisfied: rsa<5,>=3.1.4 in /usr/local/lib/python3.7/dist-packages (from google-auth<3,>=1.6.3->tensorboard>=2.2.0->pytorch-lightning>=1.5.0->nemo_toolkit[all]) (4.7.2)\n",
            "Requirement already satisfied: requests-oauthlib>=0.7.0 in /usr/local/lib/python3.7/dist-packages (from google-auth-oauthlib<0.5,>=0.4.1->tensorboard>=2.2.0->pytorch-lightning>=1.5.0->nemo_toolkit[all]) (1.3.0)\n",
            "Requirement already satisfied: importlib-metadata>=4.4 in /usr/local/lib/python3.7/dist-packages (from markdown>=2.6.8->tensorboard>=2.2.0->pytorch-lightning>=1.5.0->nemo_toolkit[all]) (4.8.2)\n",
            "Requirement already satisfied: zipp>=0.5 in /usr/local/lib/python3.7/dist-packages (from importlib-metadata>=4.4->markdown>=2.6.8->tensorboard>=2.2.0->pytorch-lightning>=1.5.0->nemo_toolkit[all]) (3.6.0)\n",
            "Requirement already satisfied: pyasn1<0.5.0,>=0.4.6 in /usr/local/lib/python3.7/dist-packages (from pyasn1-modules>=0.2.1->google-auth<3,>=1.6.3->tensorboard>=2.2.0->pytorch-lightning>=1.5.0->nemo_toolkit[all]) (0.4.8)\n",
            "Requirement already satisfied: urllib3!=1.25.0,!=1.25.1,<1.26,>=1.21.1 in /usr/local/lib/python3.7/dist-packages (from requests->fsspec[http]!=2021.06.0,>=2021.05.0->pytorch-lightning>=1.5.0->nemo_toolkit[all]) (1.24.3)\n",
            "Requirement already satisfied: chardet<4,>=3.0.2 in /usr/local/lib/python3.7/dist-packages (from requests->fsspec[http]!=2021.06.0,>=2021.05.0->pytorch-lightning>=1.5.0->nemo_toolkit[all]) (3.0.4)\n",
            "Requirement already satisfied: idna<3,>=2.5 in /usr/local/lib/python3.7/dist-packages (from requests->fsspec[http]!=2021.06.0,>=2021.05.0->pytorch-lightning>=1.5.0->nemo_toolkit[all]) (2.10)\n",
            "Requirement already satisfied: certifi>=2017.4.17 in /usr/local/lib/python3.7/dist-packages (from requests->fsspec[http]!=2021.06.0,>=2021.05.0->pytorch-lightning>=1.5.0->nemo_toolkit[all]) (2021.10.8)\n",
            "Requirement already satisfied: oauthlib>=3.0.0 in /usr/local/lib/python3.7/dist-packages (from requests-oauthlib>=0.7.0->google-auth-oauthlib<0.5,>=0.4.1->tensorboard>=2.2.0->pytorch-lightning>=1.5.0->nemo_toolkit[all]) (3.1.1)\n",
            "Collecting tokenizers<0.11,>=0.10.1\n",
            "  Downloading tokenizers-0.10.3-cp37-cp37m-manylinux_2_5_x86_64.manylinux1_x86_64.manylinux_2_12_x86_64.manylinux2010_x86_64.whl (3.3 MB)\n",
            "\u001b[K     |████████████████████████████████| 3.3 MB 37.9 MB/s \n",
            "\u001b[?25hRequirement already satisfied: filelock in /usr/local/lib/python3.7/dist-packages (from transformers>=4.0.1->nemo_toolkit[all]) (3.4.0)\n",
            "Collecting huggingface-hub<1.0,>=0.1.0\n",
            "  Downloading huggingface_hub-0.1.2-py3-none-any.whl (59 kB)\n",
            "\u001b[K     |████████████████████████████████| 59 kB 5.7 MB/s \n",
            "\u001b[?25hCollecting multidict<7.0,>=4.5\n",
            "  Downloading multidict-5.2.0-cp37-cp37m-manylinux_2_5_x86_64.manylinux1_x86_64.manylinux_2_12_x86_64.manylinux2010_x86_64.whl (160 kB)\n",
            "\u001b[K     |████████████████████████████████| 160 kB 32.4 MB/s \n",
            "\u001b[?25hRequirement already satisfied: charset-normalizer<3.0,>=2.0 in /usr/local/lib/python3.7/dist-packages (from aiohttp->fsspec[http]!=2021.06.0,>=2021.05.0->pytorch-lightning>=1.5.0->nemo_toolkit[all]) (2.0.7)\n",
            "Collecting aiosignal>=1.1.2\n",
            "  Downloading aiosignal-1.2.0-py3-none-any.whl (8.2 kB)\n",
            "Collecting yarl<2.0,>=1.0\n",
            "  Downloading yarl-1.7.2-cp37-cp37m-manylinux_2_5_x86_64.manylinux1_x86_64.manylinux_2_12_x86_64.manylinux2010_x86_64.whl (271 kB)\n",
            "\u001b[K     |████████████████████████████████| 271 kB 47.4 MB/s \n",
            "\u001b[?25hCollecting async-timeout<5.0,>=4.0.0a3\n",
            "  Downloading async_timeout-4.0.1-py3-none-any.whl (5.7 kB)\n",
            "Collecting asynctest==0.13.0\n",
            "  Downloading asynctest-0.13.0-py3-none-any.whl (26 kB)\n",
            "Collecting frozenlist>=1.1.1\n",
            "  Downloading frozenlist-1.2.0-cp37-cp37m-manylinux_2_5_x86_64.manylinux1_x86_64.manylinux_2_12_x86_64.manylinux2010_x86_64.whl (192 kB)\n",
            "\u001b[K     |████████████████████████████████| 192 kB 48.2 MB/s \n",
            "\u001b[?25hCollecting botocore<1.24.0,>=1.23.14\n",
            "  Downloading botocore-1.23.14-py3-none-any.whl (8.2 MB)\n",
            "\u001b[K     |████████████████████████████████| 8.2 MB 16.8 MB/s \n",
            "\u001b[?25hCollecting jmespath<1.0.0,>=0.7.1\n",
            "  Downloading jmespath-0.10.0-py2.py3-none-any.whl (24 kB)\n",
            "Collecting s3transfer<0.6.0,>=0.5.0\n",
            "  Downloading s3transfer-0.5.0-py3-none-any.whl (79 kB)\n",
            "\u001b[K     |████████████████████████████████| 79 kB 6.5 MB/s \n",
            "\u001b[?25hCollecting urllib3!=1.25.0,!=1.25.1,<1.26,>=1.21.1\n",
            "  Downloading urllib3-1.25.11-py2.py3-none-any.whl (127 kB)\n",
            "\u001b[K     |████████████████████████████████| 127 kB 43.0 MB/s \n",
            "\u001b[?25hCollecting pybind11>=2.2\n",
            "  Using cached pybind11-2.8.1-py2.py3-none-any.whl (208 kB)\n",
            "Collecting distance>=0.1.3\n",
            "  Downloading Distance-0.1.3.tar.gz (180 kB)\n",
            "\u001b[K     |████████████████████████████████| 180 kB 38.5 MB/s \n",
            "\u001b[?25hRequirement already satisfied: cached-property in /usr/local/lib/python3.7/dist-packages (from h5py->nemo_toolkit[all]) (1.5.2)\n",
            "Requirement already satisfied: ipykernel>=4.5.1 in /usr/local/lib/python3.7/dist-packages (from ipywidgets->nemo_toolkit[all]) (4.10.1)\n",
            "Requirement already satisfied: nbformat>=4.2.0 in /usr/local/lib/python3.7/dist-packages (from ipywidgets->nemo_toolkit[all]) (5.1.3)\n",
            "Requirement already satisfied: ipython>=4.0.0 in /usr/local/lib/python3.7/dist-packages (from ipywidgets->nemo_toolkit[all]) (5.5.0)\n",
            "Requirement already satisfied: jupyterlab-widgets>=1.0.0 in /usr/local/lib/python3.7/dist-packages (from ipywidgets->nemo_toolkit[all]) (1.0.2)\n",
            "Requirement already satisfied: widgetsnbextension~=3.5.0 in /usr/local/lib/python3.7/dist-packages (from ipywidgets->nemo_toolkit[all]) (3.5.2)\n",
            "Requirement already satisfied: traitlets>=4.3.1 in /usr/local/lib/python3.7/dist-packages (from ipywidgets->nemo_toolkit[all]) (5.1.1)\n",
            "Requirement already satisfied: ipython-genutils~=0.2.0 in /usr/local/lib/python3.7/dist-packages (from ipywidgets->nemo_toolkit[all]) (0.2.0)\n",
            "Requirement already satisfied: tornado>=4.0 in /usr/local/lib/python3.7/dist-packages (from ipykernel>=4.5.1->ipywidgets->nemo_toolkit[all]) (5.1.1)\n",
            "Requirement already satisfied: jupyter-client in /usr/local/lib/python3.7/dist-packages (from ipykernel>=4.5.1->ipywidgets->nemo_toolkit[all]) (5.3.5)\n",
            "Requirement already satisfied: pygments in /usr/local/lib/python3.7/dist-packages (from ipython>=4.0.0->ipywidgets->nemo_toolkit[all]) (2.6.1)\n",
            "Requirement already satisfied: pickleshare in /usr/local/lib/python3.7/dist-packages (from ipython>=4.0.0->ipywidgets->nemo_toolkit[all]) (0.7.5)\n",
            "Requirement already satisfied: prompt-toolkit<2.0.0,>=1.0.4 in /usr/local/lib/python3.7/dist-packages (from ipython>=4.0.0->ipywidgets->nemo_toolkit[all]) (1.0.18)\n",
            "Requirement already satisfied: simplegeneric>0.8 in /usr/local/lib/python3.7/dist-packages (from ipython>=4.0.0->ipywidgets->nemo_toolkit[all]) (0.8.1)\n",
            "Requirement already satisfied: decorator in /usr/local/lib/python3.7/dist-packages (from ipython>=4.0.0->ipywidgets->nemo_toolkit[all]) (4.4.2)\n",
            "Requirement already satisfied: pexpect in /usr/local/lib/python3.7/dist-packages (from ipython>=4.0.0->ipywidgets->nemo_toolkit[all]) (4.8.0)\n",
            "Requirement already satisfied: jupyter-core in /usr/local/lib/python3.7/dist-packages (from nbformat>=4.2.0->ipywidgets->nemo_toolkit[all]) (4.9.1)\n",
            "Requirement already satisfied: jsonschema!=2.5.0,>=2.4 in /usr/local/lib/python3.7/dist-packages (from nbformat>=4.2.0->ipywidgets->nemo_toolkit[all]) (2.6.0)\n",
            "Requirement already satisfied: wcwidth in /usr/local/lib/python3.7/dist-packages (from prompt-toolkit<2.0.0,>=1.0.4->ipython>=4.0.0->ipywidgets->nemo_toolkit[all]) (0.2.5)\n",
            "Requirement already satisfied: notebook>=4.4.1 in /usr/local/lib/python3.7/dist-packages (from widgetsnbextension~=3.5.0->ipywidgets->nemo_toolkit[all]) (5.3.1)\n",
            "Requirement already satisfied: Send2Trash in /usr/local/lib/python3.7/dist-packages (from notebook>=4.4.1->widgetsnbextension~=3.5.0->ipywidgets->nemo_toolkit[all]) (1.8.0)\n",
            "Requirement already satisfied: nbconvert in /usr/local/lib/python3.7/dist-packages (from notebook>=4.4.1->widgetsnbextension~=3.5.0->ipywidgets->nemo_toolkit[all]) (5.6.1)\n",
            "Requirement already satisfied: jinja2 in /usr/local/lib/python3.7/dist-packages (from notebook>=4.4.1->widgetsnbextension~=3.5.0->ipywidgets->nemo_toolkit[all]) (2.11.3)\n",
            "Requirement already satisfied: terminado>=0.8.1 in /usr/local/lib/python3.7/dist-packages (from notebook>=4.4.1->widgetsnbextension~=3.5.0->ipywidgets->nemo_toolkit[all]) (0.12.1)\n",
            "Requirement already satisfied: pyzmq>=13 in /usr/local/lib/python3.7/dist-packages (from jupyter-client->ipykernel>=4.5.1->ipywidgets->nemo_toolkit[all]) (22.3.0)\n",
            "Requirement already satisfied: ptyprocess in /usr/local/lib/python3.7/dist-packages (from terminado>=0.8.1->notebook>=4.4.1->widgetsnbextension~=3.5.0->ipywidgets->nemo_toolkit[all]) (0.7.0)\n",
            "Requirement already satisfied: MarkupSafe>=0.23 in /usr/local/lib/python3.7/dist-packages (from jinja2->notebook>=4.4.1->widgetsnbextension~=3.5.0->ipywidgets->nemo_toolkit[all]) (2.0.1)\n",
            "Requirement already satisfied: resampy>=0.2.2 in /usr/local/lib/python3.7/dist-packages (from librosa->nemo_toolkit[all]) (0.2.2)\n",
            "Requirement already satisfied: audioread>=2.0.0 in /usr/local/lib/python3.7/dist-packages (from librosa->nemo_toolkit[all]) (2.1.9)\n",
            "Requirement already satisfied: pooch>=1.0 in /usr/local/lib/python3.7/dist-packages (from librosa->nemo_toolkit[all]) (1.5.2)\n",
            "Requirement already satisfied: llvmlite<0.35,>=0.34.0.dev0 in /usr/local/lib/python3.7/dist-packages (from numba->nemo_toolkit[all]) (0.34.0)\n",
            "Requirement already satisfied: threadpoolctl>=2.0.0 in /usr/local/lib/python3.7/dist-packages (from scikit-learn->nemo_toolkit[all]) (3.0.0)\n",
            "Requirement already satisfied: cffi>=1.0 in /usr/local/lib/python3.7/dist-packages (from soundfile->nemo_toolkit[all]) (1.15.0)\n",
            "Requirement already satisfied: pycparser in /usr/local/lib/python3.7/dist-packages (from cffi>=1.0->soundfile->nemo_toolkit[all]) (2.21)\n",
            "Requirement already satisfied: cycler>=0.10 in /usr/local/lib/python3.7/dist-packages (from matplotlib->nemo_toolkit[all]) (0.11.0)\n",
            "Requirement already satisfied: kiwisolver>=1.0.1 in /usr/local/lib/python3.7/dist-packages (from matplotlib->nemo_toolkit[all]) (1.3.2)\n",
            "Requirement already satisfied: defusedxml in /usr/local/lib/python3.7/dist-packages (from nbconvert->notebook>=4.4.1->widgetsnbextension~=3.5.0->ipywidgets->nemo_toolkit[all]) (0.7.1)\n",
            "Requirement already satisfied: pandocfilters>=1.4.1 in /usr/local/lib/python3.7/dist-packages (from nbconvert->notebook>=4.4.1->widgetsnbextension~=3.5.0->ipywidgets->nemo_toolkit[all]) (1.5.0)\n",
            "Requirement already satisfied: mistune<2,>=0.8.1 in /usr/local/lib/python3.7/dist-packages (from nbconvert->notebook>=4.4.1->widgetsnbextension~=3.5.0->ipywidgets->nemo_toolkit[all]) (0.8.4)\n",
            "Requirement already satisfied: entrypoints>=0.2.2 in /usr/local/lib/python3.7/dist-packages (from nbconvert->notebook>=4.4.1->widgetsnbextension~=3.5.0->ipywidgets->nemo_toolkit[all]) (0.3)\n",
            "Requirement already satisfied: testpath in /usr/local/lib/python3.7/dist-packages (from nbconvert->notebook>=4.4.1->widgetsnbextension~=3.5.0->ipywidgets->nemo_toolkit[all]) (0.5.0)\n",
            "Requirement already satisfied: bleach in /usr/local/lib/python3.7/dist-packages (from nbconvert->notebook>=4.4.1->widgetsnbextension~=3.5.0->ipywidgets->nemo_toolkit[all]) (4.1.0)\n",
            "Requirement already satisfied: webencodings in /usr/local/lib/python3.7/dist-packages (from bleach->nbconvert->notebook>=4.4.1->widgetsnbextension~=3.5.0->ipywidgets->nemo_toolkit[all]) (0.5.1)\n",
            "Requirement already satisfied: pytz>=2017.2 in /usr/local/lib/python3.7/dist-packages (from pandas->nemo_toolkit[all]) (2018.9)\n",
            "Requirement already satisfied: pip in /usr/local/lib/python3.7/dist-packages (from pip-api->isort[requirements]<5->nemo_toolkit[all]) (21.1.3)\n",
            "Collecting yarg\n",
            "  Downloading yarg-0.1.9-py2.py3-none-any.whl (19 kB)\n",
            "Requirement already satisfied: docopt in /usr/local/lib/python3.7/dist-packages (from pipreqs->isort[requirements]<5->nemo_toolkit[all]) (0.6.2)\n",
            "Requirement already satisfied: sortedcontainers>=2.0.4 in /usr/local/lib/python3.7/dist-packages (from pyannote.core->nemo_toolkit[all]) (2.4.0)\n",
            "Collecting simplejson>=3.8.1\n",
            "  Downloading simplejson-3.17.6-cp37-cp37m-manylinux_2_5_x86_64.manylinux1_x86_64.manylinux_2_12_x86_64.manylinux2010_x86_64.whl (130 kB)\n",
            "\u001b[K     |████████████████████████████████| 130 kB 45.0 MB/s \n",
            "\u001b[?25hCollecting pyannote.database>=4.0.1\n",
            "  Downloading pyannote.database-4.1.1-py3-none-any.whl (41 kB)\n",
            "\u001b[K     |████████████████████████████████| 41 kB 222 kB/s \n",
            "\u001b[?25hRequirement already satisfied: sympy>=1.1 in /usr/local/lib/python3.7/dist-packages (from pyannote.metrics->nemo_toolkit[all]) (1.7.1)\n",
            "Requirement already satisfied: tabulate>=0.7.7 in /usr/local/lib/python3.7/dist-packages (from pyannote.metrics->nemo_toolkit[all]) (0.8.9)\n",
            "Collecting typer[all]>=0.2.1\n",
            "  Downloading typer-0.4.0-py3-none-any.whl (27 kB)\n",
            "Requirement already satisfied: mpmath>=0.19 in /usr/local/lib/python3.7/dist-packages (from sympy>=1.1->pyannote.metrics->nemo_toolkit[all]) (1.2.1)\n",
            "Collecting shellingham<2.0.0,>=1.3.0\n",
            "  Downloading shellingham-1.4.0-py2.py3-none-any.whl (9.4 kB)\n",
            "Collecting colorama<0.5.0,>=0.4.3\n",
            "  Downloading colorama-0.4.4-py2.py3-none-any.whl (16 kB)\n",
            "Requirement already satisfied: atomicwrites>=1.0 in /usr/local/lib/python3.7/dist-packages (from pytest->nemo_toolkit[all]) (1.4.0)\n",
            "Requirement already satisfied: py>=1.5.0 in /usr/local/lib/python3.7/dist-packages (from pytest->nemo_toolkit[all]) (1.11.0)\n",
            "Requirement already satisfied: pluggy<0.8,>=0.5 in /usr/local/lib/python3.7/dist-packages (from pytest->nemo_toolkit[all]) (0.7.1)\n",
            "Requirement already satisfied: more-itertools>=4.0.0 in /usr/local/lib/python3.7/dist-packages (from pytest->nemo_toolkit[all]) (8.11.0)\n",
            "Collecting ruamel.yaml.clib>=0.1.2\n",
            "  Downloading ruamel.yaml.clib-0.2.6-cp37-cp37m-manylinux1_x86_64.whl (546 kB)\n",
            "\u001b[K     |████████████████████████████████| 546 kB 35.8 MB/s \n",
            "\u001b[?25hCollecting portalocker\n",
            "  Downloading portalocker-2.3.2-py2.py3-none-any.whl (15 kB)\n",
            "Collecting mecab-python3==1.0.3\n",
            "  Downloading mecab_python3-1.0.3-cp37-cp37m-manylinux1_x86_64.whl (487 kB)\n",
            "\u001b[K     |████████████████████████████████| 487 kB 36.9 MB/s \n",
            "\u001b[?25hCollecting ipadic<2.0,>=1.0\n",
            "  Downloading ipadic-1.0.0.tar.gz (13.4 MB)\n",
            "\u001b[K     |████████████████████████████████| 13.4 MB 19.0 MB/s \n",
            "\u001b[?25hRequirement already satisfied: babel!=2.0,>=1.3 in /usr/local/lib/python3.7/dist-packages (from sphinx->nemo_toolkit[all]) (2.9.1)\n",
            "Requirement already satisfied: docutils<0.18,>=0.11 in /usr/local/lib/python3.7/dist-packages (from sphinx->nemo_toolkit[all]) (0.17.1)\n",
            "Requirement already satisfied: alabaster<0.8,>=0.7 in /usr/local/lib/python3.7/dist-packages (from sphinx->nemo_toolkit[all]) (0.7.12)\n",
            "Requirement already satisfied: imagesize in /usr/local/lib/python3.7/dist-packages (from sphinx->nemo_toolkit[all]) (1.3.0)\n",
            "Requirement already satisfied: snowballstemmer>=1.1 in /usr/local/lib/python3.7/dist-packages (from sphinx->nemo_toolkit[all]) (2.2.0)\n",
            "Requirement already satisfied: sphinxcontrib-websupport in /usr/local/lib/python3.7/dist-packages (from sphinx->nemo_toolkit[all]) (1.2.4)\n",
            "Collecting pybtex>=0.20\n",
            "  Downloading pybtex-0.24.0-py2.py3-none-any.whl (561 kB)\n",
            "\u001b[K     |████████████████████████████████| 561 kB 36.4 MB/s \n",
            "\u001b[?25hCollecting sphinx\n",
            "  Downloading Sphinx-4.3.1-py3-none-any.whl (3.1 MB)\n",
            "\u001b[K     |████████████████████████████████| 3.1 MB 23.6 MB/s \n",
            "\u001b[?25hCollecting pybtex-docutils>=1.0.0\n",
            "  Downloading pybtex_docutils-1.0.1-py3-none-any.whl (4.8 kB)\n",
            "Collecting latexcodec>=1.0.4\n",
            "  Downloading latexcodec-2.0.1-py2.py3-none-any.whl (18 kB)\n",
            "Requirement already satisfied: sphinxcontrib-serializinghtml>=1.1.5 in /usr/local/lib/python3.7/dist-packages (from sphinx->nemo_toolkit[all]) (1.1.5)\n",
            "Collecting sphinxcontrib-jsmath\n",
            "  Downloading sphinxcontrib_jsmath-1.0.1-py2.py3-none-any.whl (5.1 kB)\n",
            "Collecting sphinxcontrib-qthelp\n",
            "  Downloading sphinxcontrib_qthelp-1.0.3-py2.py3-none-any.whl (90 kB)\n",
            "\u001b[K     |████████████████████████████████| 90 kB 7.5 MB/s \n",
            "\u001b[?25hCollecting sphinxcontrib-htmlhelp>=2.0.0\n",
            "  Downloading sphinxcontrib_htmlhelp-2.0.0-py2.py3-none-any.whl (100 kB)\n",
            "\u001b[K     |████████████████████████████████| 100 kB 9.4 MB/s \n",
            "\u001b[?25hCollecting sphinxcontrib-applehelp\n",
            "  Downloading sphinxcontrib_applehelp-1.0.2-py2.py3-none-any.whl (121 kB)\n",
            "\u001b[K     |████████████████████████████████| 121 kB 33.4 MB/s \n",
            "\u001b[?25hCollecting sphinxcontrib-devhelp\n",
            "  Downloading sphinxcontrib_devhelp-1.0.2-py2.py3-none-any.whl (84 kB)\n",
            "\u001b[K     |████████████████████████████████| 84 kB 3.0 MB/s \n",
            "\u001b[?25hCollecting sentry-sdk>=1.0.0\n",
            "  Downloading sentry_sdk-1.5.0-py2.py3-none-any.whl (140 kB)\n",
            "\u001b[K     |████████████████████████████████| 140 kB 44.1 MB/s \n",
            "\u001b[?25hCollecting yaspin>=1.0.0\n",
            "  Downloading yaspin-2.1.0-py3-none-any.whl (18 kB)\n",
            "Collecting configparser>=3.8.1\n",
            "  Downloading configparser-5.1.0-py3-none-any.whl (19 kB)\n",
            "Requirement already satisfied: promise<3,>=2.0 in /usr/local/lib/python3.7/dist-packages (from wandb->nemo_toolkit[all]) (2.3)\n",
            "Collecting subprocess32>=3.5.3\n",
            "  Downloading subprocess32-3.5.4.tar.gz (97 kB)\n",
            "\u001b[K     |████████████████████████████████| 97 kB 5.9 MB/s \n",
            "\u001b[?25hCollecting docker-pycreds>=0.4.0\n",
            "  Downloading docker_pycreds-0.4.0-py2.py3-none-any.whl (9.0 kB)\n",
            "Collecting GitPython>=1.0.0\n",
            "  Downloading GitPython-3.1.24-py3-none-any.whl (180 kB)\n",
            "\u001b[K     |████████████████████████████████| 180 kB 47.3 MB/s \n",
            "\u001b[?25hCollecting shortuuid>=0.5.0\n",
            "  Downloading shortuuid-1.0.8-py3-none-any.whl (9.5 kB)\n",
            "Collecting pathtools\n",
            "  Downloading pathtools-0.1.2.tar.gz (11 kB)\n",
            "Requirement already satisfied: psutil>=5.0.0 in /usr/local/lib/python3.7/dist-packages (from wandb->nemo_toolkit[all]) (5.4.8)\n",
            "Collecting gitdb<5,>=4.0.1\n",
            "  Downloading gitdb-4.0.9-py3-none-any.whl (63 kB)\n",
            "\u001b[K     |████████████████████████████████| 63 kB 1.7 MB/s \n",
            "\u001b[?25hCollecting smmap<6,>=3.0.1\n",
            "  Downloading smmap-5.0.0-py3-none-any.whl (24 kB)\n",
            "Requirement already satisfied: termcolor<2.0.0,>=1.1.0 in /usr/local/lib/python3.7/dist-packages (from yaspin>=1.0.0->wandb->nemo_toolkit[all]) (1.1.0)\n",
            "Building wheels for collected packages: wordninja, antlr4-python3-runtime, future, fasttext, distance, kaldi-python-io, kaldiio, pesq, pystoi, ipadic, subprocess32, pathtools\n",
            "  Building wheel for wordninja (setup.py) ... \u001b[?25l\u001b[?25hdone\n",
            "  Created wheel for wordninja: filename=wordninja-2.0.0-py3-none-any.whl size=541551 sha256=b8594884fa3d5d8d3956fddbbf9a5b11448050159e94dbbb5a95a42fbbd6e11f\n",
            "  Stored in directory: /root/.cache/pip/wheels/dd/3f/eb/a2692e3d2b9deb1487b09ba4967dd6920bd5032bfd9ff7acfc\n",
            "  Building wheel for antlr4-python3-runtime (setup.py) ... \u001b[?25l\u001b[?25hdone\n",
            "  Created wheel for antlr4-python3-runtime: filename=antlr4_python3_runtime-4.8-py3-none-any.whl size=141230 sha256=71ff5c30adb74f84012ad9fe3bc58411b562af2e4c1c648f50cf7edd66d621c7\n",
            "  Stored in directory: /root/.cache/pip/wheels/ca/33/b7/336836125fc9bb4ceaa4376d8abca10ca8bc84ddc824baea6c\n",
            "  Building wheel for future (setup.py) ... \u001b[?25l\u001b[?25hdone\n",
            "  Created wheel for future: filename=future-0.18.2-py3-none-any.whl size=491070 sha256=b16d3a56046091d4dea25b828d29b8467820b34a978f97bafc99abf01bffe561\n",
            "  Stored in directory: /root/.cache/pip/wheels/56/b0/fe/4410d17b32f1f0c3cf54cdfb2bc04d7b4b8f4ae377e2229ba0\n",
            "  Building wheel for fasttext (setup.py) ... \u001b[?25l\u001b[?25hdone\n",
            "  Created wheel for fasttext: filename=fasttext-0.9.2-cp37-cp37m-linux_x86_64.whl size=3125561 sha256=f24adbc81e4ce1b26317cde359aee09d2917133edc46b7b53c74ab295b47cedd\n",
            "  Stored in directory: /root/.cache/pip/wheels/4e/ca/bf/b020d2be95f7641801a6597a29c8f4f19e38f9c02a345bab9b\n",
            "  Building wheel for distance (setup.py) ... \u001b[?25l\u001b[?25hdone\n",
            "  Created wheel for distance: filename=Distance-0.1.3-py3-none-any.whl size=16275 sha256=6a6c6351fea998a46602b73c14c5a19facc718a98a28eee2d0d4edf56e87b20f\n",
            "  Stored in directory: /root/.cache/pip/wheels/b2/10/1b/96fca621a1be378e2fe104cfb0d160bb6cdf3d04a3d35266cc\n",
            "  Building wheel for kaldi-python-io (setup.py) ... \u001b[?25l\u001b[?25hdone\n",
            "  Created wheel for kaldi-python-io: filename=kaldi_python_io-1.2.2-py3-none-any.whl size=8968 sha256=ceeb7e6300c76024bf56318f051bf3d2b897c6bfa93add9465ae2770f2e753ab\n",
            "  Stored in directory: /root/.cache/pip/wheels/a9/26/38/7678d1ff6cd1bbcbfc0d80b0a29d94d917dfa9ad790b4a85a9\n",
            "  Building wheel for kaldiio (setup.py) ... \u001b[?25l\u001b[?25hdone\n",
            "  Created wheel for kaldiio: filename=kaldiio-2.17.2-py3-none-any.whl size=24472 sha256=87cbb784e8fdd43e6bc033a82d65e47a1d9ea958111574adfa5f937b9f85522d\n",
            "  Stored in directory: /root/.cache/pip/wheels/04/07/e8/45641287c59bf6ce41e22259f8680b521c31e6306cb88392ac\n",
            "  Building wheel for pesq (setup.py) ... \u001b[?25l\u001b[?25hdone\n",
            "  Created wheel for pesq: filename=pesq-0.0.3-cp37-cp37m-linux_x86_64.whl size=209961 sha256=8b7b0d3d94de8a05c3ca8f06d9bc66f0a229c5b34b500d8bbed3dafcf44b4444\n",
            "  Stored in directory: /root/.cache/pip/wheels/4f/67/5b/aa7cf31fe0c7199e35c604bb7bc91c629a13726bf221fedba0\n",
            "  Building wheel for pystoi (setup.py) ... \u001b[?25l\u001b[?25hdone\n",
            "  Created wheel for pystoi: filename=pystoi-0.3.3-py2.py3-none-any.whl size=7793 sha256=64cbe58c18960f674f7c65ff6b12c3f9e882aac8ed86911e4536631050c3a43c\n",
            "  Stored in directory: /root/.cache/pip/wheels/46/4a/ad/3ab460193ed0535430b4b1575f255aa6bae69df17453628e86\n",
            "  Building wheel for ipadic (setup.py) ... \u001b[?25l\u001b[?25hdone\n",
            "  Created wheel for ipadic: filename=ipadic-1.0.0-py3-none-any.whl size=13556723 sha256=c04f50a9b39f1de4597192fbe2f9a97e06d77593569f0ea9aeb90b57270349b0\n",
            "  Stored in directory: /root/.cache/pip/wheels/33/8b/99/cf0d27191876637cd3639a560f93aa982d7855ce826c94348b\n",
            "  Building wheel for subprocess32 (setup.py) ... \u001b[?25l\u001b[?25hdone\n",
            "  Created wheel for subprocess32: filename=subprocess32-3.5.4-py3-none-any.whl size=6502 sha256=d200a56b8957c032e635202d38ac203a8136ea031ecf59e5c9ed052c3f4a854f\n",
            "  Stored in directory: /root/.cache/pip/wheels/50/ca/fa/8fca8d246e64f19488d07567547ddec8eb084e8c0d7a59226a\n",
            "  Building wheel for pathtools (setup.py) ... \u001b[?25l\u001b[?25hdone\n",
            "  Created wheel for pathtools: filename=pathtools-0.1.2-py3-none-any.whl size=8807 sha256=25f7b85c1280824db2ed896108a91bd4610f3f622c53edb3174eb7932c127369\n",
            "  Stored in directory: /root/.cache/pip/wheels/3e/31/09/fa59cef12cdcfecc627b3d24273699f390e71828921b2cbba2\n",
            "Successfully built wordninja antlr4-python3-runtime future fasttext distance kaldi-python-io kaldiio pesq pystoi ipadic subprocess32 pathtools\n",
            "Installing collected packages: urllib3, multidict, frozenlist, yarl, typer, smmap, simplejson, shellingham, pyyaml, latexcodec, jmespath, colorama, asynctest, async-timeout, aiosignal, yarg, sphinxcontrib-qthelp, sphinxcontrib-jsmath, sphinxcontrib-htmlhelp, sphinxcontrib-devhelp, sphinxcontrib-applehelp, ruamel.yaml.clib, regex, pybtex, pyannote.core, portalocker, gitdb, fsspec, botocore, antlr4-python3-runtime, aiohttp, yaspin, typed-ast, torchmetrics, tokenizers, subprocess32, sphinx, shortuuid, sentry-sdk, sentencepiece, sacremoses, sacrebleu, s3transfer, ruamel.yaml, pyDeprecate, pybtex-docutils, pybind11, pyannote.database, pipreqs, pip-api, pathtools, pathspec, onnx, omegaconf, nltk, mecab-python3, isort, ipadic, huggingface-hub, GitPython, future, frozendict, docker-pycreds, distance, configparser, braceexpand, youtokentome, wordninja, webdataset, wandb, transformers, torch-stft, sphinxcontrib-bibtex, sox, rapidfuzz, pytorch-lightning, pytest-runner, pystoi, pypinyin, pydub, pyannote.metrics, pesq, parameterized, pangu, opencc, nemo-toolkit, marshmallow, kaldiio, kaldi-python-io, kaldi-io, hydra-core, g2p-en, fasttext, boto3, black, attrdict\n",
            "  Attempting uninstall: urllib3\n",
            "    Found existing installation: urllib3 1.24.3\n",
            "    Uninstalling urllib3-1.24.3:\n",
            "      Successfully uninstalled urllib3-1.24.3\n",
            "  Attempting uninstall: pyyaml\n",
            "    Found existing installation: PyYAML 3.13\n",
            "    Uninstalling PyYAML-3.13:\n",
            "      Successfully uninstalled PyYAML-3.13\n",
            "  Attempting uninstall: regex\n",
            "    Found existing installation: regex 2019.12.20\n",
            "    Uninstalling regex-2019.12.20:\n",
            "      Successfully uninstalled regex-2019.12.20\n",
            "  Attempting uninstall: sphinx\n",
            "    Found existing installation: Sphinx 1.8.6\n",
            "    Uninstalling Sphinx-1.8.6:\n",
            "      Successfully uninstalled Sphinx-1.8.6\n",
            "  Attempting uninstall: nltk\n",
            "    Found existing installation: nltk 3.2.5\n",
            "    Uninstalling nltk-3.2.5:\n",
            "      Successfully uninstalled nltk-3.2.5\n",
            "  Attempting uninstall: future\n",
            "    Found existing installation: future 0.16.0\n",
            "    Uninstalling future-0.16.0:\n",
            "      Successfully uninstalled future-0.16.0\n",
            "\u001b[31mERROR: pip's dependency resolver does not currently take into account all the packages that are installed. This behaviour is the source of the following dependency conflicts.\n",
            "datascience 0.10.6 requires folium==0.2.1, but you have folium 0.8.3 which is incompatible.\u001b[0m\n",
            "Successfully installed GitPython-3.1.24 aiohttp-3.8.1 aiosignal-1.2.0 antlr4-python3-runtime-4.8 async-timeout-4.0.1 asynctest-0.13.0 attrdict-2.0.1 black-19.10b0 boto3-1.20.14 botocore-1.23.14 braceexpand-0.1.7 colorama-0.4.4 configparser-5.1.0 distance-0.1.3 docker-pycreds-0.4.0 fasttext-0.9.2 frozendict-2.1.0 frozenlist-1.2.0 fsspec-2021.11.1 future-0.18.2 g2p-en-2.1.0 gitdb-4.0.9 huggingface-hub-0.1.2 hydra-core-1.1.1 ipadic-1.0.0 isort-4.3.21 jmespath-0.10.0 kaldi-io-0.9.4 kaldi-python-io-1.2.2 kaldiio-2.17.2 latexcodec-2.0.1 marshmallow-3.14.1 mecab-python3-1.0.3 multidict-5.2.0 nemo-toolkit-1.5.0 nltk-3.6.5 omegaconf-2.1.1 onnx-1.10.2 opencc-1.1.3 pangu-4.0.6.1 parameterized-0.8.1 pathspec-0.9.0 pathtools-0.1.2 pesq-0.0.3 pip-api-0.0.23 pipreqs-0.4.11 portalocker-2.3.2 pyDeprecate-0.3.1 pyannote.core-4.3 pyannote.database-4.1.1 pyannote.metrics-3.1 pybind11-2.8.1 pybtex-0.24.0 pybtex-docutils-1.0.1 pydub-0.25.1 pypinyin-0.44.0 pystoi-0.3.3 pytest-runner-5.3.1 pytorch-lightning-1.5.3 pyyaml-5.4.1 rapidfuzz-1.8.3 regex-2021.11.10 ruamel.yaml-0.17.17 ruamel.yaml.clib-0.2.6 s3transfer-0.5.0 sacrebleu-2.0.0 sacremoses-0.0.46 sentencepiece-0.1.96 sentry-sdk-1.5.0 shellingham-1.4.0 shortuuid-1.0.8 simplejson-3.17.6 smmap-5.0.0 sox-1.4.1 sphinx-4.3.1 sphinxcontrib-applehelp-1.0.2 sphinxcontrib-bibtex-2.4.1 sphinxcontrib-devhelp-1.0.2 sphinxcontrib-htmlhelp-2.0.0 sphinxcontrib-jsmath-1.0.1 sphinxcontrib-qthelp-1.0.3 subprocess32-3.5.4 tokenizers-0.10.3 torch-stft-0.1.4 torchmetrics-0.6.0 transformers-4.12.5 typed-ast-1.5.0 typer-0.4.0 urllib3-1.25.11 wandb-0.12.7 webdataset-0.1.62 wordninja-2.0.0 yarg-0.1.9 yarl-1.7.2 yaspin-2.1.0 youtokentome-1.0.6\n"
          ]
        },
        {
          "output_type": "execute_result",
          "data": {
            "application/vnd.google.colaboratory.intrinsic+json": {
              "type": "string"
            },
            "text/plain": [
              "'\\nRemember to restart the runtime for the kernel to pick up any upgraded packages (e.g. matplotlib)!\\nAlternatively, you can uncomment the exit() below to crash and restart the kernel, in the case\\nthat you want to use the \"Run All Cells\" (or similar) option.\\n'"
            ]
          },
          "metadata": {},
          "execution_count": 1
        }
      ]
    },
    {
      "cell_type": "code",
      "metadata": {
        "colab": {
          "base_uri": "https://localhost:8080/"
        },
        "id": "IXVRxMz8-j-9",
        "outputId": "4e146098-1b56-448a-d909-0132213de8c5"
      },
      "source": [
        "! head /content/test/crowd/manifest.jsonl"
      ],
      "execution_count": null,
      "outputs": [
        {
          "output_type": "stream",
          "name": "stdout",
          "text": [
            "head: cannot open '/content/test/crowd/manifest.jsonl' for reading: No such file or directory\n"
          ]
        }
      ]
    },
    {
      "cell_type": "code",
      "metadata": {
        "colab": {
          "base_uri": "https://localhost:8080/"
        },
        "id": "YvfsEvHLjOr4",
        "outputId": "bdd9ca6a-3a38-4a73-e31c-f77828ac7371"
      },
      "source": [
        "#from google.colab import drive\n",
        "#drive.mount('/content/drive')"
      ],
      "execution_count": null,
      "outputs": [
        {
          "output_type": "stream",
          "name": "stdout",
          "text": [
            "Mounted at /content/drive\n"
          ]
        }
      ]
    },
    {
      "cell_type": "code",
      "metadata": {
        "colab": {
          "base_uri": "https://localhost:8080/"
        },
        "id": "5dqE7VyqjO1p",
        "outputId": "af797988-5d04-4afb-ef9b-7a8fbaf7c9ed"
      },
      "source": [
        "#! cat | ls /content/drive/MyDrive/golos/train/farfield > names.txt"
      ],
      "execution_count": null,
      "outputs": [
        {
          "output_type": "stream",
          "name": "stdout",
          "text": [
            "^C\n"
          ]
        }
      ]
    },
    {
      "cell_type": "code",
      "metadata": {
        "id": "sjh4omhZk15n"
      },
      "source": [
        "#! ls $\"/content/drive/MyDrive/golos/train/farfield\" > /content/drive/MyDrive/golos/train/names.txt"
      ],
      "execution_count": null,
      "outputs": []
    },
    {
      "cell_type": "code",
      "metadata": {
        "id": "kGymv3_epO4K"
      },
      "source": [
        "data_dir = '/content/drive/MyDrive/golos/train/farfield/'"
      ],
      "execution_count": null,
      "outputs": []
    },
    {
      "cell_type": "code",
      "metadata": {
        "id": "mKFsNHtlk2EY"
      },
      "source": [
        "import librosa\n",
        "import IPython.display as ipd\n",
        "\n",
        "# Load and listen to the audio file\n",
        "example_file = data_dir + '375e547e51a71f9e18b811dd89244baf.wav'\n",
        "\n",
        "#audio, sample_rate = librosa.load(example_file)\n",
        "\n",
        "#ipd.Audio(example_file, rate=sample_rate)"
      ],
      "execution_count": null,
      "outputs": []
    },
    {
      "cell_type": "code",
      "metadata": {
        "colab": {
          "base_uri": "https://localhost:8080/"
        },
        "id": "KG6cqVaLmnCd",
        "outputId": "d341c4ce-f4c2-4c8d-c88e-cce28b088819"
      },
      "source": [
        "# NeMo's \"core\" package\n",
        "import nemo\n",
        "# NeMo's ASR collection - this collections contains complete ASR models and\n",
        "# building blocks (modules) for ASR\n",
        "import nemo.collections.asr as nemo_asr"
      ],
      "execution_count": null,
      "outputs": [
        {
          "output_type": "stream",
          "name": "stderr",
          "text": [
            "[NeMo W 2021-11-27 17:39:50 optimizers:50] Apex was not found. Using the lamb or fused_adam optimizer will error out.\n",
            "################################################################################\n",
            "### WARNING, path does not exist: KALDI_ROOT=/mnt/matylda5/iveselyk/Tools/kaldi-trunk\n",
            "###          (please add 'export KALDI_ROOT=<your_path>' in your $HOME/.profile)\n",
            "###          (or run as: KALDI_ROOT=<your_path> python <your_script>.py)\n",
            "################################################################################\n",
            "\n"
          ]
        }
      ]
    },
    {
      "cell_type": "code",
      "metadata": {
        "id": "MnKCwEOmr6wW"
      },
      "source": [
        "import glob\n",
        "import os\n",
        "import subprocess\n",
        "import tarfile\n",
        "import wget\n",
        "\n",
        "def load(golos_url, fname):\n",
        "  if not os.path.exists(os.path.join(data_dir, fname)):\n",
        "      golos_path = wget.download(golos_url, os.path.join(data_dir, fname))\n",
        "      print(f\"Dataset downloaded at: {golos_path}\")\n",
        "  else:\n",
        "      print(\"Tarfile already exists.\")\n",
        "      golos_path = os.path.join(data_dir, fname)\n",
        "  return golos_path"
      ],
      "execution_count": null,
      "outputs": []
    },
    {
      "cell_type": "code",
      "metadata": {
        "colab": {
          "base_uri": "https://localhost:8080/"
        },
        "id": "iBFYC5T9mnJh",
        "outputId": "c21cff24-38df-40f7-bc26-92bbf8e348c4"
      },
      "source": [
        "load(\"https://sc.link/ZMv\", \"QuartzNet15x5_golos.nemo\")\n",
        "asr_model = nemo_asr.models.EncDecCTCModel.restore_from(os.path.join(data_dir, \"QuartzNet15x5_golos.nemo\"))"
      ],
      "execution_count": null,
      "outputs": [
        {
          "output_type": "stream",
          "name": "stdout",
          "text": [
            "Tarfile already exists.\n"
          ]
        },
        {
          "output_type": "stream",
          "name": "stderr",
          "text": [
            "[NeMo W 2021-11-27 19:18:42 modelPT:131] If you intend to do training or fine-tuning, please call the ModelPT.setup_training_data() method and provide a valid configuration file to setup the train data loader.\n",
            "    Train config : \n",
            "    manifest_filepath: train/golos_and_mcv.jsonl\n",
            "    sample_rate: 16000\n",
            "    labels:\n",
            "    - ' '\n",
            "    - а\n",
            "    - б\n",
            "    - в\n",
            "    - г\n",
            "    - д\n",
            "    - е\n",
            "    - ж\n",
            "    - з\n",
            "    - и\n",
            "    - й\n",
            "    - к\n",
            "    - л\n",
            "    - м\n",
            "    - н\n",
            "    - о\n",
            "    - п\n",
            "    - р\n",
            "    - с\n",
            "    - т\n",
            "    - у\n",
            "    - ф\n",
            "    - х\n",
            "    - ц\n",
            "    - ч\n",
            "    - ш\n",
            "    - щ\n",
            "    - ъ\n",
            "    - ы\n",
            "    - ь\n",
            "    - э\n",
            "    - ю\n",
            "    - я\n",
            "    batch_size: 64\n",
            "    trim_silence: false\n",
            "    max_duration: 20.0\n",
            "    min_duration: 0.1\n",
            "    num_workers: 20\n",
            "    shuffle: true\n",
            "    is_tarred: false\n",
            "    tarred_audio_filepaths: null\n",
            "    tarred_shard_strategy: scatter\n",
            "    parser: ru\n",
            "    \n",
            "[NeMo W 2021-11-27 19:18:42 modelPT:138] If you intend to do validation, please call the ModelPT.setup_validation_data() or ModelPT.setup_multiple_validation_data() method and provide a valid configuration file to setup the validation data loader(s). \n",
            "    Validation config : \n",
            "    manifest_filepath:\n",
            "    - test/mcv/dev_ru.jsonl\n",
            "    - test/mcv/test_ru.jsonl\n",
            "    - test/crowd/crowd.jsonl\n",
            "    - test/farfield/farfield.jsonl\n",
            "    sample_rate: 16000\n",
            "    labels:\n",
            "    - ' '\n",
            "    - а\n",
            "    - б\n",
            "    - в\n",
            "    - г\n",
            "    - д\n",
            "    - е\n",
            "    - ж\n",
            "    - з\n",
            "    - и\n",
            "    - й\n",
            "    - к\n",
            "    - л\n",
            "    - м\n",
            "    - н\n",
            "    - о\n",
            "    - п\n",
            "    - р\n",
            "    - с\n",
            "    - т\n",
            "    - у\n",
            "    - ф\n",
            "    - х\n",
            "    - ц\n",
            "    - ч\n",
            "    - ш\n",
            "    - щ\n",
            "    - ъ\n",
            "    - ы\n",
            "    - ь\n",
            "    - э\n",
            "    - ю\n",
            "    - я\n",
            "    batch_size: 64\n",
            "    num_workers: 20\n",
            "    shuffle: false\n",
            "    parser: ru\n",
            "    \n",
            "[NeMo W 2021-11-27 19:18:42 modelPT:144] Please call the ModelPT.setup_test_data() or ModelPT.setup_multiple_test_data() method and provide a valid configuration file to setup the test data loader(s).\n",
            "    Test config : \n",
            "    manifest_filepath: test/mcv/test_ru.jsonl\n",
            "    sample_rate: 16000\n",
            "    labels:\n",
            "    - ' '\n",
            "    - а\n",
            "    - б\n",
            "    - в\n",
            "    - г\n",
            "    - д\n",
            "    - е\n",
            "    - ж\n",
            "    - з\n",
            "    - и\n",
            "    - й\n",
            "    - к\n",
            "    - л\n",
            "    - м\n",
            "    - н\n",
            "    - о\n",
            "    - п\n",
            "    - р\n",
            "    - с\n",
            "    - т\n",
            "    - у\n",
            "    - ф\n",
            "    - х\n",
            "    - ц\n",
            "    - ч\n",
            "    - ш\n",
            "    - щ\n",
            "    - ъ\n",
            "    - ы\n",
            "    - ь\n",
            "    - э\n",
            "    - ю\n",
            "    - я\n",
            "    batch_size: 64\n",
            "    shuffle: false\n",
            "    parser: ru\n",
            "    \n"
          ]
        },
        {
          "output_type": "stream",
          "name": "stdout",
          "text": [
            "[NeMo I 2021-11-27 19:18:42 features:265] PADDING: 16\n",
            "[NeMo I 2021-11-27 19:18:42 features:282] STFT using torch\n",
            "[NeMo I 2021-11-27 19:18:44 save_restore_connector:149] Model EncDecCTCModel was successfully restored from /content/drive/MyDrive/golos/train/farfield/QuartzNet15x5_golos.nemo.\n"
          ]
        }
      ]
    },
    {
      "cell_type": "code",
      "metadata": {
        "colab": {
          "base_uri": "https://localhost:8080/",
          "height": 188,
          "referenced_widgets": [
            "9fc3c8f4967b44899679fe1e04adbe96",
            "3d4c1e618665424da4cac21868191bea",
            "e7e1c56bb5e844f4aac542cdfe3f557b",
            "e49d945b0a984f7aa994a5c9afbc175a",
            "4085603222f9479fbf9b110944521aca",
            "3ba9e8b60fe94bb38c3317e07af831a6",
            "050df94c894646e4ac27f65ed3d3919d",
            "faddf6a71968496398edeec45c969ab2",
            "b59f3adc3f4c4ab1af312f5f65acd1d3",
            "a574e4a4689447aabe810302d189b7ee",
            "450b7af7ae584563879dd84106fd5746"
          ]
        },
        "id": "R6KxHrssmnNJ",
        "outputId": "51019653-c932-4082-c237-662eeff7ebd5"
      },
      "source": [
        "#files = [data_dir + \"000d74b0a69ed3d664627cbf062ccca8.wav\",\n",
        "#         data_dir + \"001035256056ef4155106153b7f3809a.wav\"]\n",
        "#transcriptions = asr_model.transcribe(paths2audio_files=files)\n",
        "\n",
        "#for fname, transcription in zip(files, transcriptions):\n",
        "#  print(f\"Audio in {fname} was recognized as: {transcription}\")"
      ],
      "execution_count": null,
      "outputs": [
        {
          "output_type": "display_data",
          "data": {
            "application/vnd.jupyter.widget-view+json": {
              "model_id": "9fc3c8f4967b44899679fe1e04adbe96",
              "version_minor": 0,
              "version_major": 2
            },
            "text/plain": [
              "Transcribing:   0%|          | 0/1 [00:00<?, ?it/s]"
            ]
          },
          "metadata": {}
        },
        {
          "output_type": "stream",
          "name": "stderr",
          "text": [
            "[NeMo W 2021-11-26 06:41:25 patch_utils:50] torch.stft() signature has been updated for PyTorch 1.7+\n",
            "    Please update PyTorch to remain compatible with later versions of NeMo.\n",
            "[NeMo W 2021-11-26 06:41:26 nemo_logging:349] /usr/local/lib/python3.7/dist-packages/nemo/collections/asr/parts/submodules/jasper.py:280: UserWarning: __floordiv__ is deprecated, and its behavior will change in a future version of pytorch. It currently rounds toward 0 (like the 'trunc' function NOT 'floor'). This results in incorrect rounding for negative values. To keep the current behavior, use torch.div(a, b, rounding_mode='trunc'), or for actual floor division, use torch.div(a, b, rounding_mode='floor').\n",
            "      ) // self.conv.stride[0] + 1\n",
            "    \n"
          ]
        },
        {
          "output_type": "stream",
          "name": "stdout",
          "text": [
            "Audio in /content/drive/MyDrive/golos/train/farfield/000d74b0a69ed3d664627cbf062ccca8.wav was recognized as: сколько денег осталось на сбербанке\n",
            "Audio in /content/drive/MyDrive/golos/train/farfield/001035256056ef4155106153b7f3809a.wav was recognized as: джой завтра будет дождь\n"
          ]
        }
      ]
    },
    {
      "cell_type": "code",
      "metadata": {
        "id": "QAS7S3Jrw6LN"
      },
      "source": [
        "input_names = open(\"/content/drive/MyDrive/golos/train/names.txt\", 'r')"
      ],
      "execution_count": null,
      "outputs": []
    },
    {
      "cell_type": "code",
      "metadata": {
        "id": "ySddqY44xm53"
      },
      "source": [
        "names = input_names.read()"
      ],
      "execution_count": null,
      "outputs": []
    },
    {
      "cell_type": "code",
      "metadata": {
        "id": "E-RzNqaNxssK"
      },
      "source": [
        "names = names.split('\\n')"
      ],
      "execution_count": null,
      "outputs": []
    },
    {
      "cell_type": "code",
      "metadata": {
        "id": "m7Q5B_h7x7WS"
      },
      "source": [
        "names = names[:-1]"
      ],
      "execution_count": null,
      "outputs": []
    },
    {
      "cell_type": "code",
      "metadata": {
        "colab": {
          "base_uri": "https://localhost:8080/"
        },
        "id": "h4a8ZyF2OlNX",
        "outputId": "8202339b-ab4f-4d03-9abf-30c4bb31dc77"
      },
      "source": [
        "print(len(names))"
      ],
      "execution_count": null,
      "outputs": [
        {
          "output_type": "stream",
          "name": "stdout",
          "text": [
            "40367\n"
          ]
        }
      ]
    },
    {
      "cell_type": "code",
      "metadata": {
        "colab": {
          "base_uri": "https://localhost:8080/"
        },
        "id": "6UzFDaYa-IcE",
        "outputId": "53cfb405-469b-4ad6-9beb-ac9455d7a68d"
      },
      "source": [
        "print(names[0])"
      ],
      "execution_count": null,
      "outputs": [
        {
          "output_type": "stream",
          "name": "stdout",
          "text": [
            "0002ced408295f33e28a7817ad4e441e.wav\n"
          ]
        }
      ]
    },
    {
      "cell_type": "code",
      "metadata": {
        "id": "9dk1nolyw2Y3",
        "colab": {
          "base_uri": "https://localhost:8080/",
          "height": 970,
          "referenced_widgets": [
            "81bd937ddf59425db12388b0df0e7a94",
            "391a689bd2dc402fb2959b550bfe5159",
            "92f8f55121954c6d8451b09139287d99",
            "faa10a406e30435d808d520765eff2ec",
            "6c3f6f7c9e2141f4843336ce8918e2c9",
            "517f5de3c74a4dfcb9205abde5ed5ad9",
            "18918d72741f410f80ab0c72ba0f765a",
            "089b4d15086646208949756852711658",
            "9ad905d0960b4c9ea5435822790e1dfb",
            "9aade6b3028c44d682e25c720fe0be81",
            "1add11f95dd44e7a823779b672156a35"
          ]
        },
        "outputId": "1374f2c5-5a41-44b4-b7a4-f1cc59224050"
      },
      "source": [
        "#files = []\n",
        "#for i in range(50):\n",
        "#  files.append(data_dir+names[i])\n",
        "#transcriptions = asr_model.transcribe(paths2audio_files=files)\n",
        "\n",
        "#for fname, transcription in zip(files, transcriptions):\n",
        "#  print(f\"Audio in {fname} was recognized as: {transcription}\")"
      ],
      "execution_count": null,
      "outputs": [
        {
          "output_type": "display_data",
          "data": {
            "application/vnd.jupyter.widget-view+json": {
              "model_id": "81bd937ddf59425db12388b0df0e7a94",
              "version_minor": 0,
              "version_major": 2
            },
            "text/plain": [
              "Transcribing:   0%|          | 0/13 [00:00<?, ?it/s]"
            ]
          },
          "metadata": {}
        },
        {
          "output_type": "stream",
          "name": "stderr",
          "text": [
            "[NeMo W 2021-11-27 19:18:47 nemo_logging:349] /usr/local/lib/python3.7/dist-packages/nemo/collections/asr/parts/submodules/jasper.py:280: UserWarning: __floordiv__ is deprecated, and its behavior will change in a future version of pytorch. It currently rounds toward 0 (like the 'trunc' function NOT 'floor'). This results in incorrect rounding for negative values. To keep the current behavior, use torch.div(a, b, rounding_mode='trunc'), or for actual floor division, use torch.div(a, b, rounding_mode='floor').\n",
            "      ) // self.conv.stride[0] + 1\n",
            "    \n"
          ]
        },
        {
          "output_type": "stream",
          "name": "stdout",
          "text": [
            "Audio in /content/drive/MyDrive/golos/train/farfield/0002ced408295f33e28a7817ad4e441e.wav was recognized as: джой нужен ближайший банкомат\n",
            "Audio in /content/drive/MyDrive/golos/train/farfield/0002e6cf2d8b2fa9afecef1cfe63d7bf.wav was recognized as:  \n",
            "Audio in /content/drive/MyDrive/golos/train/farfield/000367d085e15086cb4750793e56a5b8.wav was recognized as: джой источники истории турции\n",
            "Audio in /content/drive/MyDrive/golos/train/farfield/0003c74f3e67c8b8d91e695fe19f056b.wav was recognized as: джой подскажи баланс на моей карте втб банка\n",
            "Audio in /content/drive/MyDrive/golos/train/farfield/00042add38e20acf2c82b8f730b7669c.wav was recognized as: сбер переведи с моей основной карты полторы тысячи мужу напиши там сообщение типа на день рождения\n",
            "Audio in /content/drive/MyDrive/golos/train/farfield/0004b8e23e14bd33bf632449add3f7fb.wav was recognized as: салют монарх это часть чего\n",
            "Audio in /content/drive/MyDrive/golos/train/farfield/0007cb9e231b64f7e042da89fa5fc295.wav was recognized as: джой уменьши яркость в келье наполовину\n",
            "Audio in /content/drive/MyDrive/golos/train/farfield/0007e59cc982786384e413e9884d242d.wav was recognized as: сбер посчитай корень из ста двадцать одного\n",
            "Audio in /content/drive/MyDrive/golos/train/farfield/00095615c69f4bd8606856b5fbdc0d72.wav was recognized as: афина я хочу оформить карту сделай это\n",
            "Audio in /content/drive/MyDrive/golos/train/farfield/000a60ee3c4d4bbef1e9b5edbe31aee8.wav was recognized as: сбер фильм любовь и голуби\n",
            "Audio in /content/drive/MyDrive/golos/train/farfield/000ac4a5a3fb13e938afb8c9d0472254.wav was recognized as: джой длина бт семь\n",
            "Audio in /content/drive/MyDrive/golos/train/farfield/000b432186a7c00e8ae463b5c1c73234.wav was recognized as: мобильный банк\n",
            "Audio in /content/drive/MyDrive/golos/train/farfield/000d74b0a69ed3d664627cbf062ccca8.wav was recognized as: сколько денег осталось на сбербанке\n",
            "Audio in /content/drive/MyDrive/golos/train/farfield/000e6975c18fc8b0b5fe3286a3256e15.wav was recognized as: сбер анекдоты про работников сбер мультфильм гуси лебеди\n",
            "Audio in /content/drive/MyDrive/golos/train/farfield/000f6cd3b67ec7eea4fa122dbc0b4852.wav was recognized as: афина существуют ли сервисы в которых читатели и эксперты делятся отзывами о прочитанных книгах\n",
            "Audio in /content/drive/MyDrive/golos/train/farfield/000f79fa32a3bda5d64217328ecb7bb9.wav was recognized as: самых лучших комедий две тысячи девятнадцатого года\n",
            "Audio in /content/drive/MyDrive/golos/train/farfield/001035256056ef4155106153b7f3809a.wav was recognized as: джой завтра будет дождь\n",
            "Audio in /content/drive/MyDrive/golos/train/farfield/00103ef09ccedfc91f5562d829e95842.wav was recognized as: пять семьдесят два\n",
            "Audio in /content/drive/MyDrive/golos/train/farfield/00105165f99d446d115b8504f350bcdb.wav was recognized as: джой сколько торговых экспедиций было организовано компанией купцов лондона торгующих на островах индии\n",
            "Audio in /content/drive/MyDrive/golos/train/farfield/001262f279048fc5cff7714ee4af7968.wav was recognized as: джой дора дора помидора\n",
            "Audio in /content/drive/MyDrive/golos/train/farfield/001274a4b184a01ccb6867984c5543c4.wav was recognized as: курсы гонконгского доллара в сбербанке\n",
            "Audio in /content/drive/MyDrive/golos/train/farfield/00142ca0b2c0fbb549624c26391117b2.wav was recognized as:  \n",
            "Audio in /content/drive/MyDrive/golos/train/farfield/00143c4c196e79ad1ceeca71b66730e2.wav was recognized as: салют что предстояло построить экспедиции в короткий срок\n",
            "Audio in /content/drive/MyDrive/golos/train/farfield/0014981c6fd1b2fbddaf1b80ee877639.wav was recognized as: джой джулия робертс клуни брэд питт\n",
            "Audio in /content/drive/MyDrive/golos/train/farfield/0014e787ab4c45b10605dc1372832d94.wav was recognized as: афина сколько людей живет в азии\n",
            "Audio in /content/drive/MyDrive/golos/train/farfield/001585f302d22db331e5e2b0ad67c407.wav was recognized as: салют обладает ли казинцев тимур ухоженной внешностью\n",
            "Audio in /content/drive/MyDrive/golos/train/farfield/0015a52b1109eeaadb1dad3439ab79c0.wav was recognized as: джой организуй мне стол в кафе на завтра\n",
            "Audio in /content/drive/MyDrive/golos/train/farfield/00162b2b2b785fc417e828aecf3d8810.wav was recognized as: афина выруби освещение\n",
            "Audio in /content/drive/MyDrive/golos/train/farfield/0016a9559382a6b03baddf44e879f6d3.wav was recognized as: джой широта национальный парк тель мегидо\n",
            "Audio in /content/drive/MyDrive/golos/train/farfield/00177bbaa7976bed77729b2830be86cc.wav was recognized as: джой среда прошлой недели это какое было число\n",
            "Audio in /content/drive/MyDrive/golos/train/farfield/0017875b2e7213aeecf03b63a55cafe1.wav was recognized as: салют какая сфера деятельности филателист\n",
            "Audio in /content/drive/MyDrive/golos/train/farfield/001932791ae082b879abc712483c3fb4.wav was recognized as: сбер переведи триста пятьдесят рублей на номер папуля\n",
            "Audio in /content/drive/MyDrive/golos/train/farfield/00196a339173b5d1df88a396b4b44652.wav was recognized as: салют какие виды белого пива ты знаешь\n",
            "Audio in /content/drive/MyDrive/golos/train/farfield/001ff1b00b44233f9085bfe6f93fdbc3.wav was recognized as: показать канал тдк\n",
            "Audio in /content/drive/MyDrive/golos/train/farfield/0023808ddf0c2255b5c8bc184e7be735.wav was recognized as: сбер найти телеканал большая азия\n",
            "Audio in /content/drive/MyDrive/golos/train/farfield/0023aedf015e747110765eaab4727569.wav was recognized as: сбер что делать если не могу перевести деньги на счет\n",
            "Audio in /content/drive/MyDrive/golos/train/farfield/0023f5c7664e1b910bad8f2125403334.wav was recognized as: сбер какой сегодня день недели\n",
            "Audio in /content/drive/MyDrive/golos/train/farfield/002490b01ac559bde134d597961cd6da.wav was recognized as: салют название консула древнего рима\n",
            "Audio in /content/drive/MyDrive/golos/train/farfield/00269cd06274844227107b7833c6bda0.wav was recognized as: принимали участие в съемках фильма однажды в голливуде\n",
            "Audio in /content/drive/MyDrive/golos/train/farfield/002711984ed5f411a8ce79c306cf73d0.wav was recognized as: джой найди рапунцель\n",
            "Audio in /content/drive/MyDrive/golos/train/farfield/0027d699715293bc34387085a78dcc56.wav was recognized as: одна из моих карт истекает\n",
            "Audio in /content/drive/MyDrive/golos/train/farfield/0029a6a42bbf7c2c287b7a9a4e98052e.wav was recognized as: афина пятьсот юань в рублях\n",
            "Audio in /content/drive/MyDrive/golos/train/farfield/0029b1eaa4a1bb57bfa12e1abc2cc5f5.wav was recognized as: сбер засеки таймер на двадцать минут\n",
            "Audio in /content/drive/MyDrive/golos/train/farfield/002a9431810b3158acffcfbbe66e97b8.wav was recognized as: афина какая наиболее обычная и распространенная форма размножения\n",
            "Audio in /content/drive/MyDrive/golos/train/farfield/002aa20ea468806d84cc5ef8baeaf0a7.wav was recognized as: афина октябрьская революция в честь кого назвали\n",
            "Audio in /content/drive/MyDrive/golos/train/farfield/002b3bd557b6149e56dcd047ff26eff5.wav was recognized as: джой отмечает ли день рождения станислав константинович\n",
            "Audio in /content/drive/MyDrive/golos/train/farfield/002e0c685cac611b5ce11e0222a4b1b1.wav was recognized as: афина брат одна тысяча девятьсот девяносто седьмой год\n",
            "Audio in /content/drive/MyDrive/golos/train/farfield/0031e09a8622b7ecfda5d3d2bc447838.wav was recognized as: где училась йоханссон\n",
            "Audio in /content/drive/MyDrive/golos/train/farfield/0031eeb04fc3dfdbfcbe02ffe4d8fe05.wav was recognized as: салют оплатить свой номер через мобильного оператора\n",
            "Audio in /content/drive/MyDrive/golos/train/farfield/00354636598a449b7be1a814c81e6f4d.wav was recognized as: джой хочу послушать дэнс манки последнюю песню которую я слушала\n"
          ]
        }
      ]
    },
    {
      "cell_type": "code",
      "metadata": {
        "id": "gDcZ-tjKsG1r",
        "colab": {
          "base_uri": "https://localhost:8080/",
          "height": 163
        },
        "outputId": "ba41cfe1-e13c-4fd6-fcdd-d3fe9b9fc1e1"
      },
      "source": [
        "#transcriptions"
      ],
      "execution_count": null,
      "outputs": [
        {
          "output_type": "error",
          "ename": "NameError",
          "evalue": "ignored",
          "traceback": [
            "\u001b[0;31m---------------------------------------------------------------------------\u001b[0m",
            "\u001b[0;31mNameError\u001b[0m                                 Traceback (most recent call last)",
            "\u001b[0;32m<ipython-input-14-140d4c4e4409>\u001b[0m in \u001b[0;36m<module>\u001b[0;34m()\u001b[0m\n\u001b[0;32m----> 1\u001b[0;31m \u001b[0mtranscriptions\u001b[0m\u001b[0;34m\u001b[0m\u001b[0;34m\u001b[0m\u001b[0m\n\u001b[0m",
            "\u001b[0;31mNameError\u001b[0m: name 'transcriptions' is not defined"
          ]
        }
      ]
    },
    {
      "cell_type": "code",
      "metadata": {
        "id": "qgkmI3ND56fO"
      },
      "source": [
        "f2out1 = open('/content/drive/MyDrive/golos/tmp/real_tmp_names.txt', 'w')"
      ],
      "execution_count": null,
      "outputs": []
    },
    {
      "cell_type": "code",
      "metadata": {
        "id": "N_-HpIXK-UCO"
      },
      "source": [
        "true_names_map={}"
      ],
      "execution_count": null,
      "outputs": []
    },
    {
      "cell_type": "code",
      "metadata": {
        "colab": {
          "base_uri": "https://localhost:8080/"
        },
        "id": "a8My4P5e9PCK",
        "outputId": "28a69c2a-abd2-451d-dda4-e34419ce822d"
      },
      "source": [
        "# --- Building Manifest Files --- #\n",
        "import json\n",
        "real_text=[]\n",
        "# Function to build a manifest\n",
        "def build_manifest(manifest_rel, manifest_abs, arr=None, flag = False):\n",
        "    manifest_path = os.path.split(os.path.abspath(manifest_rel))[0]\n",
        "    with open(manifest_rel, 'r') as fin:\n",
        "        with open(manifest_abs, 'w') as fout:\n",
        "            for line in fin:\n",
        "                if flag:\n",
        "                  a = 8\n",
        "                else:\n",
        "                  a = 6\n",
        "                metadata = json.loads(line)\n",
        "                if metadata['id'] == '375e547e51a71f9e18b811dd89244baf':\n",
        "                  continue\n",
        "                metadata[\"audio_filepath\"]=os.path.join(manifest_path, metadata[\"audio_filepath\"][a:])\n",
        "                if flag:\n",
        "                  true_names_map[metadata[\"id\"]] = metadata[\"text\"]\n",
        "                  f2out1.write(metadata[\"id\"]+' '+metadata[\"text\"])\n",
        "                  f2out1.write('\\n')\n",
        "                 # pass\n",
        "                 # arr.append(metadata['text'])\n",
        "                json.dump(metadata, fout)\n",
        "                fout.write('\\n')\n",
        "                if flag and metadata['id'] == '5ab4ae4de2d64d8fc0e7c12c07e37a79':\n",
        "                  break\n",
        "\n",
        "                \n",
        "# Building Manifests\n",
        "print(\"******\")\n",
        "\n",
        "build_manifest(\"/content/drive/MyDrive/golos/train/train_manifest.jsonl\", \"/content/drive/MyDrive/golos/train/outfile.jsonl\", real_text, True)\n",
        "train_manifest = \"/content/drive/MyDrive/golos/train/outfile.jsonl\"\n",
        "\n",
        "build_manifest(\"/content/drive/MyDrive/golos/test/manifest.jsonl\", \"/content/drive/MyDrive/golos/test/outfile_test.jsonl\")\n",
        "test_manifest = \"/content/drive/MyDrive/golos/test/outfile_test.jsonl\""
      ],
      "execution_count": null,
      "outputs": [
        {
          "output_type": "stream",
          "name": "stdout",
          "text": [
            "******\n"
          ]
        }
      ]
    },
    {
      "cell_type": "code",
      "metadata": {
        "id": "p0hmPGY5-OY0"
      },
      "source": [
        "! ls \"/content/drive/MyDrive/golos/test/\" | grep acd44c1b8a144b89f36d357727abd6aa"
      ],
      "execution_count": null,
      "outputs": []
    },
    {
      "cell_type": "code",
      "metadata": {
        "colab": {
          "base_uri": "https://localhost:8080/"
        },
        "id": "bXCGiPZn77te",
        "outputId": "4b8f2e87-4300-4f51-c5e2-741b8b2a9f87"
      },
      "source": [
        "! cat \"/content/drive/MyDrive/golos/test/manifest.jsonl\" | grep acd44c1b8a144b89f36d357727abd6aa"
      ],
      "execution_count": null,
      "outputs": [
        {
          "output_type": "stream",
          "name": "stdout",
          "text": [
            "{\"id\": \"acd44c1b8a144b89f36d357727abd6aa\", \"audio_filepath\": \"files/acd44c1b8a144b89f36d357727abd6aa.wav\", \"text\": \"\\u0441\\u0430\\u043b\\u044e\\u0442 \\u043f\\u0440\\u0438\\u043b\\u043e\\u0436\\u0435\\u043d\\u0438\\u0435 \\u0441\\u0432\\u0435\\u0440\\u043d\\u0438\", \"duration\": 1.9996875}\n"
          ]
        }
      ]
    },
    {
      "cell_type": "code",
      "metadata": {
        "colab": {
          "base_uri": "https://localhost:8080/"
        },
        "id": "TSNwcC_lYrhI",
        "outputId": "3f33e6b2-af93-4ba7-b095-d0c0f60cddaa"
      },
      "source": [
        "! head \"/content/drive/MyDrive/golos/train/train_manifest.jsonl\""
      ],
      "execution_count": null,
      "outputs": [
        {
          "output_type": "stream",
          "name": "stdout",
          "text": [
            "{\"id\": \"77b380796d242cf5bc09cfb551cffecd\", \"audio_filepath\": \"crowd/0/77b380796d242cf5bc09cfb551cffecd.wav\", \"text\": \"\\u0430\\u043b\\u0438\\u0431\\u0438\", \"duration\": 1.21}\n",
            "{\"id\": \"404e1eecbc38a687e036739f2e5dd6d3\", \"audio_filepath\": \"crowd/0/404e1eecbc38a687e036739f2e5dd6d3.wav\", \"text\": \"\\u0441\\u043a\\u0430\\u0437\\u043a\\u0430\", \"duration\": 2.9}\n",
            "{\"id\": \"f913db484595c1bcdd9476194b08a1f4\", \"audio_filepath\": \"crowd/0/f913db484595c1bcdd9476194b08a1f4.wav\", \"text\": \"\\u043d\\u0430\\u0439\\u0434\\u0438 \\u0432 \\u043d\\u0435\\u0442\\u0435 \\u043c\\u0443\\u043b\\u044c\\u0442 \\u0441\\u0442\\u0430\\u043b\\u044c\\u043d\\u043e\\u0439 \\u0433\\u0438\\u0433\\u0430\\u043d\\u0442\", \"duration\": 4.76}\n",
            "{\"id\": \"eca448acf1712fa7ca08aede3d2df1ac\", \"audio_filepath\": \"crowd/0/eca448acf1712fa7ca08aede3d2df1ac.wav\", \"text\": \"\\u043c\\u043e\\u043d\\u0430 \\u043b\\u0438\\u0437\\u0430\", \"duration\": 2.3}\n",
            "{\"id\": \"a366eecb0a85ef76463e1f4b5188b698\", \"audio_filepath\": \"crowd/0/a366eecb0a85ef76463e1f4b5188b698.wav\", \"text\": \"\\u0441\\u043c\\u043e\\u0442\\u0440\\u0435\\u0442\\u044c \\u0441\\u0435\\u0440\\u0438\\u0430\\u043b \\u0432\\u043e\\u0441\\u0435\\u043c\\u044c \\u0441 \\u043f\\u043e\\u043b\\u043e\\u0432\\u0438\\u043d\\u043e\\u0439\", \"duration\": 3.78}\n",
            "{\"id\": \"37e7ee229ce692fc007e344e6376e90a\", \"audio_filepath\": \"crowd/0/37e7ee229ce692fc007e344e6376e90a.wav\", \"text\": \"\\u0432\\u0440\\u0443\\u0431\\u0438 \\u0440\\u043e\\u0441\\u0441\\u0438\\u0439\\u0441\\u043a\\u0438\\u0439 \\u0444\\u0438\\u043b\\u044c\\u043c \\u043c\\u043e\\u0441\\u0433\\u043e\\u0440\\u0441\\u043c\\u0435\\u0445\", \"duration\": 4.54}\n",
            "{\"id\": \"69c2473c78844219a6625157c0a9cb2d\", \"audio_filepath\": \"crowd/0/69c2473c78844219a6625157c0a9cb2d.wav\", \"text\": \"\\u043d\\u0430\\u0439\\u0434\\u0438 \\u043d\\u0430 \\u044e\\u0442\\u0443\\u0431\\u0435 \\u0444\\u0438\\u043b\\u044c\\u043c \\u043c\\u0435\\u043d\\u044f \\u0437\\u043e\\u0432\\u0443\\u0442 \\u043c\\u043e\\u0445\\u0430\\u043c\\u043c\\u0435\\u0434 \\u0430\\u043b\\u0438\", \"duration\": 4.24}\n",
            "{\"id\": \"3d5e79e898a2d4deadda9f728fc8a3ec\", \"audio_filepath\": \"crowd/0/3d5e79e898a2d4deadda9f728fc8a3ec.wav\", \"text\": \"\\u043c\\u043e\\u0436\\u0435\\u0448\\u044c \\u043c\\u043d\\u0435 \\u043f\\u043e\\u0441\\u0442\\u0430\\u0432\\u0438\\u0442\\u044c \\u043c\\u0443\\u043b\\u044c\\u0442\\u0444\\u0438\\u043b\\u044c\\u043c \\u043a\\u0432\\u0430\\u0434\\u0440\\u0430\\u0442\\u043d\\u044b\\u0435 \\u0437\\u0432\\u0435\\u0440\\u044e\\u0448\\u043a\\u0438\", \"duration\": 4.22}\n",
            "{\"id\": \"da1727c120db7575744bd2740755c57d\", \"audio_filepath\": \"crowd/0/da1727c120db7575744bd2740755c57d.wav\", \"text\": \"\\u0441\\u0432\\u0430\\u0442\\u044b \\u043f\\u043e\\u0431\\u044b\\u0441\\u0442\\u0440\\u0435\\u0435 \\u0432\\u043a\\u043b\\u044e\\u0447\\u0438 \\u043f\\u043e\\u0436\\u0430\\u043b\\u0443\\u0439\\u0441\\u0442\\u0430\", \"duration\": 4.62}\n",
            "{\"id\": \"ad4bbc81eb33d17f2ff22cbbd23c4eac\", \"audio_filepath\": \"crowd/0/ad4bbc81eb33d17f2ff22cbbd23c4eac.wav\", \"text\": \"\\u0440\\u043e\\u043a\\u0435\\u0442\\u043c\\u0435\\u043d \\u0441\\u043c\\u043e\\u0442\\u0440\\u0435\\u0442\\u044c \\u0441\\u0435\\u0440\\u0438\\u0430\\u043b \\u0440\\u043e\\u043a\\u0435\\u0442\\u043c\\u0435\\u043d\", \"duration\": 4.82}\n"
          ]
        }
      ]
    },
    {
      "cell_type": "code",
      "metadata": {
        "colab": {
          "base_uri": "https://localhost:8080/"
        },
        "id": "KBXKw8fhPUe-",
        "outputId": "19893375-c16d-4750-b312-e4a4c2cffcc9"
      },
      "source": [
        "! cat \"/content/drive/MyDrive/golos/test/outfile_test.jsonl\" | grep acd44c1b8a144b89f36d357727abd6aa"
      ],
      "execution_count": null,
      "outputs": [
        {
          "output_type": "stream",
          "name": "stdout",
          "text": [
            "{\"id\": \"acd44c1b8a144b89f36d357727abd6aa\", \"audio_filepath\": \"/content/drive/MyDrive/golos/test/acd44c1b8a144b89f36d357727abd6aa.wav\", \"text\": \"\\u0441\\u0430\\u043b\\u044e\\u0442 \\u043f\\u0440\\u0438\\u043b\\u043e\\u0436\\u0435\\u043d\\u0438\\u0435 \\u0441\\u0432\\u0435\\u0440\\u043d\\u0438\", \"duration\": 1.9996875}\n"
          ]
        }
      ]
    },
    {
      "cell_type": "code",
      "metadata": {
        "colab": {
          "base_uri": "https://localhost:8080/"
        },
        "id": "LgUAWOiVbwpE",
        "outputId": "d44f7fd1-efb9-4c18-e9ae-7d4a111e2dc5"
      },
      "source": [
        "! head \"/content/drive/MyDrive/golos/test/outfile_test.jsonl\""
      ],
      "execution_count": null,
      "outputs": [
        {
          "output_type": "stream",
          "name": "stdout",
          "text": [
            "{\"id\": \"58b586f67f5e634506e215df5996b82e\", \"audio_filepath\": \"/content/drive/MyDrive/golos/test/58b586f67f5e634506e215df5996b82e.wav\", \"text\": \"\\u0434\\u0436\\u043e\\u0439 \\u0445\\u0432\\u0430\\u0442\\u0438\\u0442\", \"duration\": 1.696625}\n",
            "{\"id\": \"26093ef7a8c5ec6a3c586a6a929c1bd3\", \"audio_filepath\": \"/content/drive/MyDrive/golos/test/26093ef7a8c5ec6a3c586a6a929c1bd3.wav\", \"text\": \"\\u0441\\u0430\\u043b\\u044e\\u0442 \\u0432\\u044b\\u0437\\u043e\\u0432 \\u0441\\u0432\\u0435\\u0442\\u043b\\u0430\\u043d\\u0435 \\u0432\\u0430\\u0441\\u0438\\u043b\\u044c\\u0435\\u0432\\u043d\\u0435 \\u043d\\u0438\\u043a\\u043e\\u043b\\u0435\\u043d\\u043a\\u043e\", \"duration\": 3.1720625}\n",
            "{\"id\": \"b42d13ab3dc159fac39a1120e8011f66\", \"audio_filepath\": \"/content/drive/MyDrive/golos/test/b42d13ab3dc159fac39a1120e8011f66.wav\", \"text\": \"\\u0441\\u0430\\u043b\\u044e\\u0442 \\u0445\\u0432\\u0430\\u0442\\u0438\\u0442\", \"duration\": 1.5226875}\n",
            "{\"id\": \"7e55843e745a239b35212e2caba77239\", \"audio_filepath\": \"/content/drive/MyDrive/golos/test/7e55843e745a239b35212e2caba77239.wav\", \"text\": \"\\u0434\\u0436\\u043e\\u0439 \\u0437\\u0432\\u043e\\u043d\\u043e\\u043a \\u044e\\u0440\\u0438\\u044e \\u0438\\u0432\\u0430\\u043d\\u043e\\u0432\\u0438\\u0447\\u0443 \\u0446\\u0430\\u0440\\u044c\\u043a\\u043e\\u0432\\u0443\", \"duration\": 3.0640625}\n",
            "{\"id\": \"a0c621e2819a3747e42d05940aab0446\", \"audio_filepath\": \"/content/drive/MyDrive/golos/test/a0c621e2819a3747e42d05940aab0446.wav\", \"text\": \"\\u0434\\u0436\\u043e\\u0439 \\u0432\\u044b\\u0439\\u0442\\u0438 \\u0438\\u0437 \\u0441\\u0446\\u0435\\u043d\\u0430\\u0440\\u0438\\u044f\", \"duration\": 2.31475}\n",
            "{\"id\": \"f293e3548bd266460c8ea6ac1fb76478\", \"audio_filepath\": \"/content/drive/MyDrive/golos/test/f293e3548bd266460c8ea6ac1fb76478.wav\", \"text\": \"\\u0441\\u0430\\u043b\\u044e\\u0442 \\u0432\\u044b\\u0439\\u0442\\u0438\", \"duration\": 1.310125}\n",
            "{\"id\": \"b3fc5f249351a9087ffedc0a34385463\", \"audio_filepath\": \"/content/drive/MyDrive/golos/test/b3fc5f249351a9087ffedc0a34385463.wav\", \"text\": \"\\u0441\\u0430\\u043b\\u044e\\u0442 \\u0437\\u0430\\u043a\\u0440\\u043e\\u0439\\u0441\\u044f\", \"duration\": 1.9009375}\n",
            "{\"id\": \"ee2144d4bc00e96131a9bef5c74edd97\", \"audio_filepath\": \"/content/drive/MyDrive/golos/test/ee2144d4bc00e96131a9bef5c74edd97.wav\", \"text\": \"\\u0441\\u0430\\u043b\\u044e\\u0442 \\u043d\\u0430\\u0431\\u0435\\u0440\\u0438 \\u0434\\u0430\\u043d\\u0438\\u043b\\u043e\\u0432\\u0430\", \"duration\": 1.8129375}\n",
            "{\"id\": \"94f4ad577967f9f61d5d88cd92b1339c\", \"audio_filepath\": \"/content/drive/MyDrive/golos/test/94f4ad577967f9f61d5d88cd92b1339c.wav\", \"text\": \"\\u0441\\u0431\\u0435\\u0440 \\u043c\\u043d\\u0435 \\u043d\\u0440\\u0430\\u0432\\u0438\\u0442\\u0441\\u044f\", \"duration\": 1.9945}\n",
            "{\"id\": \"a97958419827c57069bc3550c4353eb9\", \"audio_filepath\": \"/content/drive/MyDrive/golos/test/a97958419827c57069bc3550c4353eb9.wav\", \"text\": \"\\u0441\\u0430\\u043b\\u044e\\u0442 \\u043f\\u0440\\u0435\\u043a\\u0440\\u0430\\u0442\\u0438\", \"duration\": 1.4965}\n"
          ]
        }
      ]
    },
    {
      "cell_type": "code",
      "metadata": {
        "id": "Y0dIR1iTsG-5"
      },
      "source": [
        "len(transcriptions)"
      ],
      "execution_count": null,
      "outputs": []
    },
    {
      "cell_type": "code",
      "metadata": {
        "id": "yVJS_4oKM703"
      },
      "source": [
        "len(files)"
      ],
      "execution_count": null,
      "outputs": []
    },
    {
      "cell_type": "code",
      "metadata": {
        "id": "Yjel_yl2dUCT"
      },
      "source": [
        "transcriptions2 = [] "
      ],
      "execution_count": null,
      "outputs": []
    },
    {
      "cell_type": "code",
      "metadata": {
        "id": "sxdqIN7_dt9H"
      },
      "source": [
        "files=[]"
      ],
      "execution_count": null,
      "outputs": []
    },
    {
      "cell_type": "code",
      "metadata": {
        "colab": {
          "base_uri": "https://localhost:8080/",
          "height": 511,
          "referenced_widgets": [
            "dacc8404a90445bd96c38a6263d888a5",
            "7c113745218d4422954c6fdfc9da067e",
            "2c08cdd51d7c4c74980a92f1ae31f6dd",
            "19949973e0b54e7ab63788cd74b87e93",
            "ad75cebf44224afea41ccda23ea38693",
            "51a9a56815654e6fbad81dbf08dd7a2c",
            "98be56e700c748488c46b8efc1c7781d",
            "f499e79dee2b4d698a22693613a5ea82",
            "8e842c3300114b7d8eaa4a21ac93a160",
            "a749027a42a04a65a9d803187f4e5a66",
            "917bc863616e4ffb8c587b78a5371023"
          ]
        },
        "id": "Y1d8gYYXlrqW",
        "outputId": "0768865b-ff71-4c09-af6a-5197a039319d"
      },
      "source": [
        "#files = []\n",
        "#transcriptions = []\n",
        "\n",
        "#for name in names:\n",
        "#  if name != '375e547e51a71f9e18b811dd89244baf.wav':\n",
        "#    files.append(data_dir+name)\n",
        "  #full_name = data_dir+name\n",
        "  #tmp = []\n",
        "  #tmp.append(full_name)\n",
        "  #try: transcriptions2.append(asr_model.transcribe(paths2audio_files=tmp))\n",
        " # except ValueError: print(name)\n",
        "#transcriptions = asr_model.transcribe(paths2audio_files=files)\n",
        "\n",
        "\n",
        "#for fname, transcription in zip(files, transcriptions):\n",
        "#  print(f\"Audio in {fname} was recognized as: {transcription}\")"
      ],
      "execution_count": null,
      "outputs": [
        {
          "data": {
            "application/vnd.jupyter.widget-view+json": {
              "model_id": "dacc8404a90445bd96c38a6263d888a5",
              "version_major": 2,
              "version_minor": 0
            },
            "text/plain": [
              "Transcribing:   0%|          | 0/10092 [00:00<?, ?it/s]"
            ]
          },
          "metadata": {},
          "output_type": "display_data"
        },
        {
          "metadata": {
            "tags": null
          },
          "name": "stderr",
          "output_type": "stream",
          "text": [
            "[NeMo W 2021-11-27 17:47:21 patch_utils:50] torch.stft() signature has been updated for PyTorch 1.7+\n",
            "    Please update PyTorch to remain compatible with later versions of NeMo.\n",
            "[NeMo W 2021-11-27 17:47:21 nemo_logging:349] /usr/local/lib/python3.7/dist-packages/nemo/collections/asr/parts/submodules/jasper.py:280: UserWarning: __floordiv__ is deprecated, and its behavior will change in a future version of pytorch. It currently rounds toward 0 (like the 'trunc' function NOT 'floor'). This results in incorrect rounding for negative values. To keep the current behavior, use torch.div(a, b, rounding_mode='trunc'), or for actual floor division, use torch.div(a, b, rounding_mode='floor').\n",
            "      ) // self.conv.stride[0] + 1\n",
            "    \n"
          ]
        },
        {
          "output_type": "error",
          "ename": "KeyboardInterrupt",
          "evalue": "ignored",
          "traceback": [
            "\u001b[0;31m---------------------------------------------------------------------------\u001b[0m",
            "\u001b[0;31mKeyboardInterrupt\u001b[0m                         Traceback (most recent call last)",
            "\u001b[0;32m<ipython-input-20-d96ca25b6fb3>\u001b[0m in \u001b[0;36m<module>\u001b[0;34m()\u001b[0m\n\u001b[1;32m     10\u001b[0m   \u001b[0;31m#try: transcriptions2.append(asr_model.transcribe(paths2audio_files=tmp))\u001b[0m\u001b[0;34m\u001b[0m\u001b[0;34m\u001b[0m\u001b[0;34m\u001b[0m\u001b[0m\n\u001b[1;32m     11\u001b[0m  \u001b[0;31m# except ValueError: print(name)\u001b[0m\u001b[0;34m\u001b[0m\u001b[0;34m\u001b[0m\u001b[0;34m\u001b[0m\u001b[0m\n\u001b[0;32m---> 12\u001b[0;31m \u001b[0mtranscriptions\u001b[0m \u001b[0;34m=\u001b[0m \u001b[0masr_model\u001b[0m\u001b[0;34m.\u001b[0m\u001b[0mtranscribe\u001b[0m\u001b[0;34m(\u001b[0m\u001b[0mpaths2audio_files\u001b[0m\u001b[0;34m=\u001b[0m\u001b[0mfiles\u001b[0m\u001b[0;34m)\u001b[0m\u001b[0;34m\u001b[0m\u001b[0;34m\u001b[0m\u001b[0m\n\u001b[0m\u001b[1;32m     13\u001b[0m \u001b[0;34m\u001b[0m\u001b[0m\n\u001b[1;32m     14\u001b[0m \u001b[0;34m\u001b[0m\u001b[0m\n",
            "\u001b[0;32m/usr/local/lib/python3.7/dist-packages/torch/autograd/grad_mode.py\u001b[0m in \u001b[0;36mdecorate_context\u001b[0;34m(*args, **kwargs)\u001b[0m\n\u001b[1;32m     26\u001b[0m         \u001b[0;32mdef\u001b[0m \u001b[0mdecorate_context\u001b[0m\u001b[0;34m(\u001b[0m\u001b[0;34m*\u001b[0m\u001b[0margs\u001b[0m\u001b[0;34m,\u001b[0m \u001b[0;34m**\u001b[0m\u001b[0mkwargs\u001b[0m\u001b[0;34m)\u001b[0m\u001b[0;34m:\u001b[0m\u001b[0;34m\u001b[0m\u001b[0;34m\u001b[0m\u001b[0m\n\u001b[1;32m     27\u001b[0m             \u001b[0;32mwith\u001b[0m \u001b[0mself\u001b[0m\u001b[0;34m.\u001b[0m\u001b[0m__class__\u001b[0m\u001b[0;34m(\u001b[0m\u001b[0;34m)\u001b[0m\u001b[0;34m:\u001b[0m\u001b[0;34m\u001b[0m\u001b[0;34m\u001b[0m\u001b[0m\n\u001b[0;32m---> 28\u001b[0;31m                 \u001b[0;32mreturn\u001b[0m \u001b[0mfunc\u001b[0m\u001b[0;34m(\u001b[0m\u001b[0;34m*\u001b[0m\u001b[0margs\u001b[0m\u001b[0;34m,\u001b[0m \u001b[0;34m**\u001b[0m\u001b[0mkwargs\u001b[0m\u001b[0;34m)\u001b[0m\u001b[0;34m\u001b[0m\u001b[0;34m\u001b[0m\u001b[0m\n\u001b[0m\u001b[1;32m     29\u001b[0m         \u001b[0;32mreturn\u001b[0m \u001b[0mcast\u001b[0m\u001b[0;34m(\u001b[0m\u001b[0mF\u001b[0m\u001b[0;34m,\u001b[0m \u001b[0mdecorate_context\u001b[0m\u001b[0;34m)\u001b[0m\u001b[0;34m\u001b[0m\u001b[0;34m\u001b[0m\u001b[0m\n\u001b[1;32m     30\u001b[0m \u001b[0;34m\u001b[0m\u001b[0m\n",
            "\u001b[0;32m/usr/local/lib/python3.7/dist-packages/nemo/collections/asr/models/ctc_models.py\u001b[0m in \u001b[0;36mtranscribe\u001b[0;34m(self, paths2audio_files, batch_size, logprobs, return_hypotheses)\u001b[0m\n\u001b[1;32m    256\u001b[0m \u001b[0;34m\u001b[0m\u001b[0m\n\u001b[1;32m    257\u001b[0m                 \u001b[0mtemporary_datalayer\u001b[0m \u001b[0;34m=\u001b[0m \u001b[0mself\u001b[0m\u001b[0;34m.\u001b[0m\u001b[0m_setup_transcribe_dataloader\u001b[0m\u001b[0;34m(\u001b[0m\u001b[0mconfig\u001b[0m\u001b[0;34m)\u001b[0m\u001b[0;34m\u001b[0m\u001b[0;34m\u001b[0m\u001b[0m\n\u001b[0;32m--> 258\u001b[0;31m                 \u001b[0;32mfor\u001b[0m \u001b[0mtest_batch\u001b[0m \u001b[0;32min\u001b[0m \u001b[0mtqdm\u001b[0m\u001b[0;34m(\u001b[0m\u001b[0mtemporary_datalayer\u001b[0m\u001b[0;34m,\u001b[0m \u001b[0mdesc\u001b[0m\u001b[0;34m=\u001b[0m\u001b[0;34m\"Transcribing\"\u001b[0m\u001b[0;34m)\u001b[0m\u001b[0;34m:\u001b[0m\u001b[0;34m\u001b[0m\u001b[0;34m\u001b[0m\u001b[0m\n\u001b[0m\u001b[1;32m    259\u001b[0m                     logits, logits_len, greedy_predictions = self.forward(\n\u001b[1;32m    260\u001b[0m                         \u001b[0minput_signal\u001b[0m\u001b[0;34m=\u001b[0m\u001b[0mtest_batch\u001b[0m\u001b[0;34m[\u001b[0m\u001b[0;36m0\u001b[0m\u001b[0;34m]\u001b[0m\u001b[0;34m.\u001b[0m\u001b[0mto\u001b[0m\u001b[0;34m(\u001b[0m\u001b[0mdevice\u001b[0m\u001b[0;34m)\u001b[0m\u001b[0;34m,\u001b[0m \u001b[0minput_signal_length\u001b[0m\u001b[0;34m=\u001b[0m\u001b[0mtest_batch\u001b[0m\u001b[0;34m[\u001b[0m\u001b[0;36m1\u001b[0m\u001b[0;34m]\u001b[0m\u001b[0;34m.\u001b[0m\u001b[0mto\u001b[0m\u001b[0;34m(\u001b[0m\u001b[0mdevice\u001b[0m\u001b[0;34m)\u001b[0m\u001b[0;34m\u001b[0m\u001b[0;34m\u001b[0m\u001b[0m\n",
            "\u001b[0;32m/usr/local/lib/python3.7/dist-packages/tqdm/notebook.py\u001b[0m in \u001b[0;36m__iter__\u001b[0;34m(self)\u001b[0m\n\u001b[1;32m    255\u001b[0m     \u001b[0;32mdef\u001b[0m \u001b[0m__iter__\u001b[0m\u001b[0;34m(\u001b[0m\u001b[0mself\u001b[0m\u001b[0;34m)\u001b[0m\u001b[0;34m:\u001b[0m\u001b[0;34m\u001b[0m\u001b[0;34m\u001b[0m\u001b[0m\n\u001b[1;32m    256\u001b[0m         \u001b[0;32mtry\u001b[0m\u001b[0;34m:\u001b[0m\u001b[0;34m\u001b[0m\u001b[0;34m\u001b[0m\u001b[0m\n\u001b[0;32m--> 257\u001b[0;31m             \u001b[0;32mfor\u001b[0m \u001b[0mobj\u001b[0m \u001b[0;32min\u001b[0m \u001b[0msuper\u001b[0m\u001b[0;34m(\u001b[0m\u001b[0mtqdm_notebook\u001b[0m\u001b[0;34m,\u001b[0m \u001b[0mself\u001b[0m\u001b[0;34m)\u001b[0m\u001b[0;34m.\u001b[0m\u001b[0m__iter__\u001b[0m\u001b[0;34m(\u001b[0m\u001b[0;34m)\u001b[0m\u001b[0;34m:\u001b[0m\u001b[0;34m\u001b[0m\u001b[0;34m\u001b[0m\u001b[0m\n\u001b[0m\u001b[1;32m    258\u001b[0m                 \u001b[0;31m# return super(tqdm...) will not catch exception\u001b[0m\u001b[0;34m\u001b[0m\u001b[0;34m\u001b[0m\u001b[0;34m\u001b[0m\u001b[0m\n\u001b[1;32m    259\u001b[0m                 \u001b[0;32myield\u001b[0m \u001b[0mobj\u001b[0m\u001b[0;34m\u001b[0m\u001b[0;34m\u001b[0m\u001b[0m\n",
            "\u001b[0;32m/usr/local/lib/python3.7/dist-packages/tqdm/std.py\u001b[0m in \u001b[0;36m__iter__\u001b[0;34m(self)\u001b[0m\n\u001b[1;32m   1178\u001b[0m \u001b[0;34m\u001b[0m\u001b[0m\n\u001b[1;32m   1179\u001b[0m         \u001b[0;32mtry\u001b[0m\u001b[0;34m:\u001b[0m\u001b[0;34m\u001b[0m\u001b[0;34m\u001b[0m\u001b[0m\n\u001b[0;32m-> 1180\u001b[0;31m             \u001b[0;32mfor\u001b[0m \u001b[0mobj\u001b[0m \u001b[0;32min\u001b[0m \u001b[0miterable\u001b[0m\u001b[0;34m:\u001b[0m\u001b[0;34m\u001b[0m\u001b[0;34m\u001b[0m\u001b[0m\n\u001b[0m\u001b[1;32m   1181\u001b[0m                 \u001b[0;32myield\u001b[0m \u001b[0mobj\u001b[0m\u001b[0;34m\u001b[0m\u001b[0;34m\u001b[0m\u001b[0m\n\u001b[1;32m   1182\u001b[0m                 \u001b[0;31m# Update and possibly print the progressbar.\u001b[0m\u001b[0;34m\u001b[0m\u001b[0;34m\u001b[0m\u001b[0;34m\u001b[0m\u001b[0m\n",
            "\u001b[0;32m/usr/local/lib/python3.7/dist-packages/torch/utils/data/dataloader.py\u001b[0m in \u001b[0;36m__next__\u001b[0;34m(self)\u001b[0m\n\u001b[1;32m    519\u001b[0m             \u001b[0;32mif\u001b[0m \u001b[0mself\u001b[0m\u001b[0;34m.\u001b[0m\u001b[0m_sampler_iter\u001b[0m \u001b[0;32mis\u001b[0m \u001b[0;32mNone\u001b[0m\u001b[0;34m:\u001b[0m\u001b[0;34m\u001b[0m\u001b[0;34m\u001b[0m\u001b[0m\n\u001b[1;32m    520\u001b[0m                 \u001b[0mself\u001b[0m\u001b[0;34m.\u001b[0m\u001b[0m_reset\u001b[0m\u001b[0;34m(\u001b[0m\u001b[0;34m)\u001b[0m\u001b[0;34m\u001b[0m\u001b[0;34m\u001b[0m\u001b[0m\n\u001b[0;32m--> 521\u001b[0;31m             \u001b[0mdata\u001b[0m \u001b[0;34m=\u001b[0m \u001b[0mself\u001b[0m\u001b[0;34m.\u001b[0m\u001b[0m_next_data\u001b[0m\u001b[0;34m(\u001b[0m\u001b[0;34m)\u001b[0m\u001b[0;34m\u001b[0m\u001b[0;34m\u001b[0m\u001b[0m\n\u001b[0m\u001b[1;32m    522\u001b[0m             \u001b[0mself\u001b[0m\u001b[0;34m.\u001b[0m\u001b[0m_num_yielded\u001b[0m \u001b[0;34m+=\u001b[0m \u001b[0;36m1\u001b[0m\u001b[0;34m\u001b[0m\u001b[0;34m\u001b[0m\u001b[0m\n\u001b[1;32m    523\u001b[0m             \u001b[0;32mif\u001b[0m \u001b[0mself\u001b[0m\u001b[0;34m.\u001b[0m\u001b[0m_dataset_kind\u001b[0m \u001b[0;34m==\u001b[0m \u001b[0m_DatasetKind\u001b[0m\u001b[0;34m.\u001b[0m\u001b[0mIterable\u001b[0m \u001b[0;32mand\u001b[0m\u001b[0;31m \u001b[0m\u001b[0;31m\\\u001b[0m\u001b[0;34m\u001b[0m\u001b[0;34m\u001b[0m\u001b[0m\n",
            "\u001b[0;32m/usr/local/lib/python3.7/dist-packages/torch/utils/data/dataloader.py\u001b[0m in \u001b[0;36m_next_data\u001b[0;34m(self)\u001b[0m\n\u001b[1;32m   1184\u001b[0m \u001b[0;34m\u001b[0m\u001b[0m\n\u001b[1;32m   1185\u001b[0m             \u001b[0;32massert\u001b[0m \u001b[0;32mnot\u001b[0m \u001b[0mself\u001b[0m\u001b[0;34m.\u001b[0m\u001b[0m_shutdown\u001b[0m \u001b[0;32mand\u001b[0m \u001b[0mself\u001b[0m\u001b[0;34m.\u001b[0m\u001b[0m_tasks_outstanding\u001b[0m \u001b[0;34m>\u001b[0m \u001b[0;36m0\u001b[0m\u001b[0;34m\u001b[0m\u001b[0;34m\u001b[0m\u001b[0m\n\u001b[0;32m-> 1186\u001b[0;31m             \u001b[0midx\u001b[0m\u001b[0;34m,\u001b[0m \u001b[0mdata\u001b[0m \u001b[0;34m=\u001b[0m \u001b[0mself\u001b[0m\u001b[0;34m.\u001b[0m\u001b[0m_get_data\u001b[0m\u001b[0;34m(\u001b[0m\u001b[0;34m)\u001b[0m\u001b[0;34m\u001b[0m\u001b[0;34m\u001b[0m\u001b[0m\n\u001b[0m\u001b[1;32m   1187\u001b[0m             \u001b[0mself\u001b[0m\u001b[0;34m.\u001b[0m\u001b[0m_tasks_outstanding\u001b[0m \u001b[0;34m-=\u001b[0m \u001b[0;36m1\u001b[0m\u001b[0;34m\u001b[0m\u001b[0;34m\u001b[0m\u001b[0m\n\u001b[1;32m   1188\u001b[0m             \u001b[0;32mif\u001b[0m \u001b[0mself\u001b[0m\u001b[0;34m.\u001b[0m\u001b[0m_dataset_kind\u001b[0m \u001b[0;34m==\u001b[0m \u001b[0m_DatasetKind\u001b[0m\u001b[0;34m.\u001b[0m\u001b[0mIterable\u001b[0m\u001b[0;34m:\u001b[0m\u001b[0;34m\u001b[0m\u001b[0;34m\u001b[0m\u001b[0m\n",
            "\u001b[0;32m/usr/local/lib/python3.7/dist-packages/torch/utils/data/dataloader.py\u001b[0m in \u001b[0;36m_get_data\u001b[0;34m(self)\u001b[0m\n\u001b[1;32m   1140\u001b[0m         \u001b[0;32melif\u001b[0m \u001b[0mself\u001b[0m\u001b[0;34m.\u001b[0m\u001b[0m_pin_memory\u001b[0m\u001b[0;34m:\u001b[0m\u001b[0;34m\u001b[0m\u001b[0;34m\u001b[0m\u001b[0m\n\u001b[1;32m   1141\u001b[0m             \u001b[0;32mwhile\u001b[0m \u001b[0mself\u001b[0m\u001b[0;34m.\u001b[0m\u001b[0m_pin_memory_thread\u001b[0m\u001b[0;34m.\u001b[0m\u001b[0mis_alive\u001b[0m\u001b[0;34m(\u001b[0m\u001b[0;34m)\u001b[0m\u001b[0;34m:\u001b[0m\u001b[0;34m\u001b[0m\u001b[0;34m\u001b[0m\u001b[0m\n\u001b[0;32m-> 1142\u001b[0;31m                 \u001b[0msuccess\u001b[0m\u001b[0;34m,\u001b[0m \u001b[0mdata\u001b[0m \u001b[0;34m=\u001b[0m \u001b[0mself\u001b[0m\u001b[0;34m.\u001b[0m\u001b[0m_try_get_data\u001b[0m\u001b[0;34m(\u001b[0m\u001b[0;34m)\u001b[0m\u001b[0;34m\u001b[0m\u001b[0;34m\u001b[0m\u001b[0m\n\u001b[0m\u001b[1;32m   1143\u001b[0m                 \u001b[0;32mif\u001b[0m \u001b[0msuccess\u001b[0m\u001b[0;34m:\u001b[0m\u001b[0;34m\u001b[0m\u001b[0;34m\u001b[0m\u001b[0m\n\u001b[1;32m   1144\u001b[0m                     \u001b[0;32mreturn\u001b[0m \u001b[0mdata\u001b[0m\u001b[0;34m\u001b[0m\u001b[0;34m\u001b[0m\u001b[0m\n",
            "\u001b[0;32m/usr/local/lib/python3.7/dist-packages/torch/utils/data/dataloader.py\u001b[0m in \u001b[0;36m_try_get_data\u001b[0;34m(self, timeout)\u001b[0m\n\u001b[1;32m    988\u001b[0m         \u001b[0;31m#   (bool: whether successfully get data, any: data if successful else None)\u001b[0m\u001b[0;34m\u001b[0m\u001b[0;34m\u001b[0m\u001b[0;34m\u001b[0m\u001b[0m\n\u001b[1;32m    989\u001b[0m         \u001b[0;32mtry\u001b[0m\u001b[0;34m:\u001b[0m\u001b[0;34m\u001b[0m\u001b[0;34m\u001b[0m\u001b[0m\n\u001b[0;32m--> 990\u001b[0;31m             \u001b[0mdata\u001b[0m \u001b[0;34m=\u001b[0m \u001b[0mself\u001b[0m\u001b[0;34m.\u001b[0m\u001b[0m_data_queue\u001b[0m\u001b[0;34m.\u001b[0m\u001b[0mget\u001b[0m\u001b[0;34m(\u001b[0m\u001b[0mtimeout\u001b[0m\u001b[0;34m=\u001b[0m\u001b[0mtimeout\u001b[0m\u001b[0;34m)\u001b[0m\u001b[0;34m\u001b[0m\u001b[0;34m\u001b[0m\u001b[0m\n\u001b[0m\u001b[1;32m    991\u001b[0m             \u001b[0;32mreturn\u001b[0m \u001b[0;34m(\u001b[0m\u001b[0;32mTrue\u001b[0m\u001b[0;34m,\u001b[0m \u001b[0mdata\u001b[0m\u001b[0;34m)\u001b[0m\u001b[0;34m\u001b[0m\u001b[0;34m\u001b[0m\u001b[0m\n\u001b[1;32m    992\u001b[0m         \u001b[0;32mexcept\u001b[0m \u001b[0mException\u001b[0m \u001b[0;32mas\u001b[0m \u001b[0me\u001b[0m\u001b[0;34m:\u001b[0m\u001b[0;34m\u001b[0m\u001b[0;34m\u001b[0m\u001b[0m\n",
            "\u001b[0;32m/usr/lib/python3.7/queue.py\u001b[0m in \u001b[0;36mget\u001b[0;34m(self, block, timeout)\u001b[0m\n\u001b[1;32m    177\u001b[0m                     \u001b[0;32mif\u001b[0m \u001b[0mremaining\u001b[0m \u001b[0;34m<=\u001b[0m \u001b[0;36m0.0\u001b[0m\u001b[0;34m:\u001b[0m\u001b[0;34m\u001b[0m\u001b[0;34m\u001b[0m\u001b[0m\n\u001b[1;32m    178\u001b[0m                         \u001b[0;32mraise\u001b[0m \u001b[0mEmpty\u001b[0m\u001b[0;34m\u001b[0m\u001b[0;34m\u001b[0m\u001b[0m\n\u001b[0;32m--> 179\u001b[0;31m                     \u001b[0mself\u001b[0m\u001b[0;34m.\u001b[0m\u001b[0mnot_empty\u001b[0m\u001b[0;34m.\u001b[0m\u001b[0mwait\u001b[0m\u001b[0;34m(\u001b[0m\u001b[0mremaining\u001b[0m\u001b[0;34m)\u001b[0m\u001b[0;34m\u001b[0m\u001b[0;34m\u001b[0m\u001b[0m\n\u001b[0m\u001b[1;32m    180\u001b[0m             \u001b[0mitem\u001b[0m \u001b[0;34m=\u001b[0m \u001b[0mself\u001b[0m\u001b[0;34m.\u001b[0m\u001b[0m_get\u001b[0m\u001b[0;34m(\u001b[0m\u001b[0;34m)\u001b[0m\u001b[0;34m\u001b[0m\u001b[0;34m\u001b[0m\u001b[0m\n\u001b[1;32m    181\u001b[0m             \u001b[0mself\u001b[0m\u001b[0;34m.\u001b[0m\u001b[0mnot_full\u001b[0m\u001b[0;34m.\u001b[0m\u001b[0mnotify\u001b[0m\u001b[0;34m(\u001b[0m\u001b[0;34m)\u001b[0m\u001b[0;34m\u001b[0m\u001b[0;34m\u001b[0m\u001b[0m\n",
            "\u001b[0;32m/usr/lib/python3.7/threading.py\u001b[0m in \u001b[0;36mwait\u001b[0;34m(self, timeout)\u001b[0m\n\u001b[1;32m    298\u001b[0m             \u001b[0;32melse\u001b[0m\u001b[0;34m:\u001b[0m\u001b[0;34m\u001b[0m\u001b[0;34m\u001b[0m\u001b[0m\n\u001b[1;32m    299\u001b[0m                 \u001b[0;32mif\u001b[0m \u001b[0mtimeout\u001b[0m \u001b[0;34m>\u001b[0m \u001b[0;36m0\u001b[0m\u001b[0;34m:\u001b[0m\u001b[0;34m\u001b[0m\u001b[0;34m\u001b[0m\u001b[0m\n\u001b[0;32m--> 300\u001b[0;31m                     \u001b[0mgotit\u001b[0m \u001b[0;34m=\u001b[0m \u001b[0mwaiter\u001b[0m\u001b[0;34m.\u001b[0m\u001b[0macquire\u001b[0m\u001b[0;34m(\u001b[0m\u001b[0;32mTrue\u001b[0m\u001b[0;34m,\u001b[0m \u001b[0mtimeout\u001b[0m\u001b[0;34m)\u001b[0m\u001b[0;34m\u001b[0m\u001b[0;34m\u001b[0m\u001b[0m\n\u001b[0m\u001b[1;32m    301\u001b[0m                 \u001b[0;32melse\u001b[0m\u001b[0;34m:\u001b[0m\u001b[0;34m\u001b[0m\u001b[0;34m\u001b[0m\u001b[0m\n\u001b[1;32m    302\u001b[0m                     \u001b[0mgotit\u001b[0m \u001b[0;34m=\u001b[0m \u001b[0mwaiter\u001b[0m\u001b[0;34m.\u001b[0m\u001b[0macquire\u001b[0m\u001b[0;34m(\u001b[0m\u001b[0;32mFalse\u001b[0m\u001b[0;34m)\u001b[0m\u001b[0;34m\u001b[0m\u001b[0;34m\u001b[0m\u001b[0m\n",
            "\u001b[0;31mKeyboardInterrupt\u001b[0m: "
          ]
        }
      ]
    },
    {
      "cell_type": "code",
      "metadata": {
        "id": "5f0CPfx7qguV"
      },
      "source": [
        "#f2out = open('/content/drive/MyDrive/golos/tmp/tmp_names.txt', 'w')"
      ],
      "execution_count": null,
      "outputs": []
    },
    {
      "cell_type": "code",
      "metadata": {
        "id": "rr8YfiHI8N3h"
      },
      "source": [
        "#for name in transcriptions:\n",
        " # f2out.write(name)\n",
        "#  f2out.write('\\n')"
      ],
      "execution_count": null,
      "outputs": []
    },
    {
      "cell_type": "code",
      "metadata": {
        "id": "y8ptViljlrtg"
      },
      "source": [
        "input_names2 = open(\"/content/drive/MyDrive/golos/tmp/tmp_names.txt\", 'r')"
      ],
      "execution_count": null,
      "outputs": []
    },
    {
      "cell_type": "code",
      "metadata": {
        "id": "ok0Yc3i1lrxt"
      },
      "source": [
        "pred_text = input_names2.read()\n",
        "pred_text = pred_text.split('\\n')\n",
        "pred_text = pred_text[:-1]"
      ],
      "execution_count": null,
      "outputs": []
    },
    {
      "cell_type": "code",
      "metadata": {
        "id": "n6FhkJPEAID9"
      },
      "source": [
        "predicted_name_map = {}"
      ],
      "execution_count": null,
      "outputs": []
    },
    {
      "cell_type": "code",
      "metadata": {
        "id": "Ko-UJaIyEbZn",
        "colab": {
          "base_uri": "https://localhost:8080/"
        },
        "outputId": "a82f1df4-ff42-4883-884a-ca8cb9154411"
      },
      "source": [
        "true_names_map"
      ],
      "execution_count": null,
      "outputs": [
        {
          "output_type": "execute_result",
          "data": {
            "text/plain": [
              "{'77b380796d242cf5bc09cfb551cffecd': 'алиби',\n",
              " '404e1eecbc38a687e036739f2e5dd6d3': 'сказка',\n",
              " 'f913db484595c1bcdd9476194b08a1f4': 'найди в нете мульт стальной гигант',\n",
              " 'eca448acf1712fa7ca08aede3d2df1ac': 'мона лиза',\n",
              " 'a366eecb0a85ef76463e1f4b5188b698': 'смотреть сериал восемь с половиной',\n",
              " '37e7ee229ce692fc007e344e6376e90a': 'вруби российский фильм мосгорсмех',\n",
              " '69c2473c78844219a6625157c0a9cb2d': 'найди на ютубе фильм меня зовут мохаммед али',\n",
              " '3d5e79e898a2d4deadda9f728fc8a3ec': 'можешь мне поставить мультфильм квадратные зверюшки',\n",
              " 'da1727c120db7575744bd2740755c57d': 'сваты побыстрее включи пожалуйста',\n",
              " 'ad4bbc81eb33d17f2ff22cbbd23c4eac': 'рокетмен смотреть сериал рокетмен',\n",
              " '2ecbe67fb35c14c7e8274145e3da6bfe': 'можешь поставить мировая прогулка индия гоа',\n",
              " 'd954f088c73669fe21a1923a9196fee3': 'найди ка мне фильм в нете мастера секса',\n",
              " '003588da55473ff09bc6f31a9fb42aa2': 'поставь третий сезон сериала кровь за кровь',\n",
              " 'a02d329c50b9abc8fdbfb54e02e90345': 'тачки три',\n",
              " 'f19de139f75fccafb187633bc624defd': 'найди мне фильм бесстыдники',\n",
              " '68006b47adcfbdcb9550cf3d7f2441d2': 'все умрут',\n",
              " 'ace845a2b1463b014922a9dc3ac80a12': 'поставь побыстрее фильм зов крови',\n",
              " 'ef562cc72742c4060b3e8b8e0ca04284': 'а можешь включить кинороман',\n",
              " '2963a8104490e1cfe63cc827a549de03': 'смотреть мультфильм кунг фу панда',\n",
              " '9dc1362123848d9758d2e3de85570084': 'включи ка мстители финал',\n",
              " '13fda0a5c53543127dbd6d5fbd2a458b': 'вруби ка мне мультфильм уроки от пинги и кроки',\n",
              " '5e8f6edc39a735d09a038e06d2126046': 'даша путешественница',\n",
              " '648b00d69d3916c53c81565a451f4ceb': 'хочу посмотреть фильм снегоуборщик',\n",
              " 'e4bdda82aee183eed2af2dcdf9b83595': 'малыш кид',\n",
              " 'a72caa1be7e8449217c6f773fd559630': 'найди на ютуб сериал во имя справедливости четвертый сезон финальная серия',\n",
              " '39e7d7e509200bba03a357411b1bb6a4': 'поставь мне фильм нюхач',\n",
              " 'd05883ab387f0d06def68115cb37b1a3': 'уиджи доска дьявола',\n",
              " '00fe7d446669a6687fbdc37381e692db': 'звездные войны новая надежда',\n",
              " '7538f2bd4f9c472743b50268f36cc31d': 'мультфильм буксирок по имени тут тринадцатая серия',\n",
              " '5895100b0664b48bdf86278250f479a9': 'найди мне в нете стражи галактики',\n",
              " 'ee6f35dec9e31653675683ecca4951d5': 'игра престолов один день из жизни',\n",
              " '6242e09c092f3d8b82257943c3eeb6ce': 'давай посмотрим тайную жизнь домашних животных два',\n",
              " 'c4d4328e8faa66eb9fe2e6239dda3ff1': 'можешь поставить пожалуйста фильм смерть шпионам лисья нора',\n",
              " 'a80723875f59ba4f1d0885ab479c2ff7': 'найди мне фильм секрет неприступной красавицы',\n",
              " '76faf6bf63352d81fc7718200ae01158': 'поставь мне фильм люцифер',\n",
              " '20ead360cc54504a67b517925c9965ab': 'фильм мой брат смотреть',\n",
              " '49fbe240cca72781b5d7e18a7185cb4b': 'запусти мне в онлайне фильм нереальная история',\n",
              " '187932f8756bb1dd97798e9f37335fff': 'включи мне сериальчик тернер и хуч',\n",
              " '7c791faee3281235e6624ccb894ecb65': 'вруби сериал москва никогда не спит',\n",
              " '366b325b170085c2b482a4c4bcb3001b': 'секс долл',\n",
              " 'c90487e43be8ddb2dd1a3b40c1e57176': 'сериал вампиры три пробуждение зла пятый сезон десятая серия найди пожалуйста',\n",
              " 'e70793e95647bc3f500af6070ef455c4': 'сериал бетховен два первая серия смотреть онлайн',\n",
              " '6a24e5a8b0daa51c03d43a7a49af6eab': 'найди мне в интернете фильм необходимая жестокость в качестве ультра эйч ди четыре ка',\n",
              " '09f04c8fc9d6b87722e065951f5fee3c': 'золотая парочка фильм включи',\n",
              " 'b1795395ddc0db2cf38531137e3fb6ad': 'рога и копыта',\n",
              " 'de14a98434c080dfe311dfd70d76456c': 'смывайся',\n",
              " '78e01a235e39e4694517cda2e654eb9c': 'включи мне фильм офицеры',\n",
              " '70191fdd05f1ea13d972f43f1a16af8d': 'мулан',\n",
              " '6c4526e73a581e48af7903ae1a11eef0': 'охота на дикарей',\n",
              " 'c8ddcc8172998870e087808021370207': 'турбо',\n",
              " 'bbd6e88d2d16aa3e0a4953d76735aa13': 'все люди лгут',\n",
              " 'baaafcca4cacb41987dd7392542c3097': 'бандитский петербург шесть журналист',\n",
              " 'b6f26b4a97df359487cbcda6c159ed30': 'хочу посмотреть фильм шерлок холмс включи мне',\n",
              " '85d3803cf52617119fbe7a203dfca74e': 'найди мне кино третья жена',\n",
              " 'f7e12a2bcbfd854ffd6399a515535530': 'хочу посмотреть фильм мой брат включи мне',\n",
              " '4a127342912f8bcfca80275c79abc643': 'запусти фильм без права на ошибку',\n",
              " 'bad118347ffb07989107dbdb9de342cb': 'запусти ка фильм подпольная империя',\n",
              " '2e9e72d20ee71e1d03bc7ce321a3ad3b': 'запусти мне фильм сплетница',\n",
              " '746eb69d329e1ad0a43ef3359db3bd59': 'быстро вруби ка мне фильм трое в лифте не считая собаки',\n",
              " '150719161680c3fda71a756b10b8a6b8': 'включи сериал да здравствует цезарь два сезон первая серия',\n",
              " 'f65fca54e0d839cd0b128fded8fad14b': 'запусти онлайн фильм когда растаял снег',\n",
              " 'c6a862e5503e215e7ee13a355eb5b910': 'включи ка сериальчик крутящий момент',\n",
              " 'a3ad10fb6cd823c56ff4a825a6dd83fd': 'поставь мне фильм чужие дети',\n",
              " 'e01c810f3a0ef7ebafd5de663b9bd43a': 'апокалипсис сегодня',\n",
              " '0a99a1601864a92ab1fc392564a3b4a5': 'давай посмотрим доктор хаус',\n",
              " '6ee9804bd6f6a3c466482145fe598b5d': 'поставь ка фильм нормана бакли мертвое лето',\n",
              " '91f1730cf88bd1ad1eed5fc8517f005a': 'белые люди не умеют прыгать',\n",
              " '90cc2020f15d80a0c7d0c47ea9ec52d5': 'включи мне по быстрому фильм однажды в стране чудес',\n",
              " 'd5a4b83effa26d43c7aab2cd401a4d51': 'смотреть сериал час пик три онлайн',\n",
              " '1f475e0bcc67ac04d1fa5e584de7835a': 'можешь поставить мультик маша и медведь футбольный выпуск',\n",
              " '0d615c0cb23aae266982e937ae69c0fa': 'найди на ютубе сериал игра по чужим правилам второй сезон последняя серия',\n",
              " '9470615de76012f777a24b8c1fdd942f': 'новая подружка пятый сезон последняя серия',\n",
              " '10ee5b776c2c551a99e1cf516ad32a24': 'включи ка бэмби',\n",
              " '870c8c9616ec80b483d10827e66567af': 'поставь ка мне триллер во все тяжкие',\n",
              " '00a4bbe5c4758a5495d33584288528eb': 'мультфильм бобр добр тринадцатая серия',\n",
              " '0958492eee553595a1e3c694126a1095': 'мультик уроки тетушки совы уроки осторожности включи пожалуйста',\n",
              " '1afc6cc57df55cb6f3d28c352df824cd': 'детектив последний ход королевы',\n",
              " '1e2fbbcbb70abe1151046e3a93852b54': 'найди пожалуйста мне сериальчик телекинез',\n",
              " 'ff1f65134e28d6bace498307c7103296': 'гринч похититель рождества',\n",
              " '5abf9750f08263201aaface9cd9572a3': 'включи мультик маленькая люси',\n",
              " 'e681890c17594a4604d970067a13daeb': 'фильм золотая парочка смотреть',\n",
              " '12af7d28ac96505952e183e810ccd7bf': 'хостел три',\n",
              " '782c69aa76aaed2f54ecb108d5791aa3': 'фильм оптимисты смотреть онлайн',\n",
              " '6a0d6510e8ccb882ad662484327ea517': 'приключения капитана врунгеля',\n",
              " 'f0d09fe19c2545c020869391861105e8': 'невидимая сторона',\n",
              " 'affeea6e8f48de209f9a2a7e6bf7530b': 'наркокурьер смотреть онлайн',\n",
              " 'd6e9d192f022e26a46378d15e698e959': 'найди мне фильм оранжевый хит сезона',\n",
              " '855002d18f0963b14de6f8177eb5f2bf': 'смотреть мультик загадки шамана',\n",
              " '24ecbd7ed3e03e7578dbfd5616654faf': 'поставь фильм охотники за головами',\n",
              " '00b23a46ee5998827c0ffddab4522656': 'включи фильм щит',\n",
              " '6770d3231bf0ec8f4927a99289f0ec23': 'золото',\n",
              " '9544efd3fdef9d863863e6dec2c62bda': 'включи мне фильм завучи',\n",
              " '23754c78d326d887dfb12e1fd03de1d1': 'фильм стрела смотреть онлайн',\n",
              " '8c2e4947e64f4e1bfd08d4fb11b0f682': 'властелин колец возвращение короля расширенная версия',\n",
              " '3e0c9258f48fdb5ebd1f7b3c73a9a736': 'включи фильм дикая замбия',\n",
              " 'e2f573735ca4b060b636af2139152490': 'кэти морган',\n",
              " '834263c514a96a73e1232fd3ddd6d67e': 'найди ка мне фильм в нете череп и кости',\n",
              " 'c1ce6a67b82909eb1ee8bdb06ecd6a9b': 'смотреть фильм маргарита назарова',\n",
              " 'f44c2e1883296160aa5b1dcf70eb5780': 'запусти мне фильм одинокая судьба',\n",
              " '2db0a0fcddbe2717ab7e3175c411711d': 'смотреть мстители финал онлайн',\n",
              " 'fddeebb72f301c801846df376551ea5b': 'фильм на край света ютуб',\n",
              " '2e4dae76975d653f77ce478486d1e1b5': 'ну ка мне включи фильм орлова и александров',\n",
              " '35096924ab022fd27f3b3cdd5e06f4fa': 'найди ка мне фильм беглецы',\n",
              " '16d77f67c16e25c83f1db054eabdd04d': 'вруби сериал семь секунд',\n",
              " '7897aa6257b4b70afe565709f13737b3': 'поставь пожалуйста фильм анна каренина',\n",
              " '7fe1ca0f4d4e13a0d4ea6c00649f24b0': 'запусти гравити фолз',\n",
              " '3844cf9d434657b10ca07014f7911fe1': 'хищники',\n",
              " 'b4d339f96451ec6d7d846f0a0f7bbc45': 'битва титанов',\n",
              " '6ce35159cfacd322e18f84374596edd1': 'от винта',\n",
              " 'a157221a6177a1da207433691d7c2aea': 'игры разумов',\n",
              " 'e88d83f380b967deaab7dd12d140132a': 'найдика мне сериал детсадовский полицейский два',\n",
              " '0a690175ecddcd3fd35f27807ed356f3': 'у холмов есть глаза два',\n",
              " '2f5746d8be2ea29e5c728a01b5ff3287': 'поставь мне фильм дальнобойщики',\n",
              " '9e7e4c30756fd31c82728ad1c9839ef9': 'поставь мне фильм петербургские тайны',\n",
              " '46a0d8dc28112d6504157ceff025646f': 'запусти ка мне в интернете фильм костоправ',\n",
              " 'ec8d3fd4d73dfe288a90d5d5dec9c91e': 'двойной копец',\n",
              " 'cbcb1e00dadd9e122bd215ef7792e6e7': 'смотреть фильм больница никербокер в качестве ультра эйч ди четыре ка',\n",
              " '7f2202a5d02df67c724ad47fd2d98a75': 'матрица революция',\n",
              " '5a94b50e0cb6554c391afe77bd7d1f1f': 'хроники нарнии покоритель зари',\n",
              " '50c261af9d07adf89b054b6558115d1f': 'поставь мультик мстители величайшие герои земли',\n",
              " '311dbf4ebd4b70903ca3f2858d2d7cde': 'вруби ка побыстрей мне фильм слепой',\n",
              " 'd7f79eb545aa843d105d54bccd692f3b': 'бал монстров',\n",
              " '7ecc9b86071998e0b100e575fa515c64': 'поставь фильм тайны миллиардера',\n",
              " '000beba6550beaf06ce1216bc54533b7': 'найди мне фильм папа на вырост',\n",
              " '70b83fb44ecb69910b41aeaf2b375efa': 'хочу посмотреть лучше чем люди',\n",
              " 'dbcbc7af9c10be76b8dd9ecff99097b7': 'можешь поставить военная разведка западный фронт',\n",
              " '17bfd438a80706adfe5f7b57ba11f5da': 'мысли как преступник за границей',\n",
              " 'ff1a6fe7c2b499d9bff516a131da5a40': 'остаться в живых',\n",
              " '13a58262c14ab0166c35a8697a2a5627': 'хочу посмотреть фильм животные в объективе',\n",
              " 'b36d643d2f67587782b941ef78ca0414': 'вруби трезвый водитель',\n",
              " 'e9fb5689ac7999cad98902a79caec151': 'сама жизнь',\n",
              " '82c73b76240860f2cf0f021ac1db12fb': 'вруби мне зомби',\n",
              " '9984681ec2ecda1680ba4b83b20d111e': 'можешь включить фильм дубль два с натали портман',\n",
              " '59a8013e6b9d70683ba94a5f69b7fe9d': 'найди ка мне сериал черное море',\n",
              " 'a80660d5b968a895e359cb5d75759310': 'найди мне фильм числа',\n",
              " '603be25cc0118a3a9d89f8097221bd0f': 'запусти мне в онлайне фильм о моя венера',\n",
              " 'dda30301d06f8e456dfa19c1e870720c': 'а можешь поставить фильм формулы жизни',\n",
              " '378188e19155803dedaccc0d6efed9c8': 'босс молокосос',\n",
              " '8323082f03778dd5b38df71b7aa9c71b': 'можешь мне поставить мультфильм невероятные приключения нильса',\n",
              " '872dc118ffec3dfd794be50ff7dd11d2': 'потерянный остров',\n",
              " '7c70391378444fc3c504f19ce2516295': 'открытые сердца седьмой сезон включи пожалуйста',\n",
              " 'c9e98379bb3f7fd44a3b1baae39b6cc3': 'включи мультик щенячий патруль',\n",
              " 'ad77e5678431663e021de05ff0ff1561': 'найди мне план игры',\n",
              " 'bdc527f8e8cb35a98bb7fa4d5ac87146': 'вруби ка мультик бабай',\n",
              " '60a80faa72d13c346a209b5d4e21525f': 'найди мне на ютубе фильм остаться в живых',\n",
              " '9fff97ad5e964ca6d2a030a0181838a9': 'найди в ютубе мультик всемирная история',\n",
              " 'f42182c5d43eb3d909ba32c949dbc33c': 'дикая долина',\n",
              " '65caad8d98a46e91ba15ae8fe2014753': 'поставь по быстрому фильм офицеры',\n",
              " 'ab5622382a87ae7b0155a385eee85076': 'можешь поставить фильм черные кошки',\n",
              " '71cc1246b78432db1b8cd1d2b6fb0d4a': 'вруби боевик перевозчик',\n",
              " 'b5b2588bc36c0fd802ff0ba02b81df2c': 'смотреть онлайн мультфильм овощная вечеринка',\n",
              " 'fac24335c77215aab3da5dfa80c08d07': 'найди уроки тетушки совы азбука малышка пятый два сезон',\n",
              " '7a0b81316a97fddd289cff3697286cbf': 'стражи галактики фильм один часть вторую смотреть онлайн',\n",
              " 'b6ee7b510148a6c614d5570018b7a9cc': 'найди мне фильм параллельные миры',\n",
              " '64db96cb97e0cb07cd092f74a9aefad2': 'включи ка сериальчик астрал',\n",
              " '2d86197293a73fd091585d4ccb402098': 'фильмец водоворот чужих желаний поставь мне',\n",
              " 'b94f6c44736707bcfe79d9e45e73e3b3': 'найди мне в нете фильм черные паруса',\n",
              " '354b1e48c2534c44fefe3a8e0794f474': 'поставь мне по быстрому фильм дурман',\n",
              " '673454f181a4a588485acb80e2567ce6': 'а можешь мне включить четыре пера',\n",
              " 'fe9abcd7fd2d2bce3783a0dc3615f03c': 'найди мне фильм сиделка',\n",
              " '1480376fa60d451fdc0ee95878cd932b': 'драма как это делается в америке смотреть онлайн',\n",
              " 'dd266e71574f85622b5e415502f6cbdd': 'можешь включить сериал бах бетховен шуберт шопен дебюсси григорий соколов фортепиано третий сезон',\n",
              " '7f2aef0d93fd4bf1507223237f60a190': 'хочу посмотреть фильм святой майк',\n",
              " '118755d38489d0d7671eb9b15ba9e53c': 'найди фильм волшебники',\n",
              " '0b506b7c3ad4d238dc854e6f769a8008': 'смотреть сериал андрей миронов обыкновенное чудо онлайн',\n",
              " 'fda802fc405e0c5d73057f82099c79bf': 'ну ка мне включи фильм волшебник',\n",
              " '591c25f5ab492506dc36064f27b449e9': 'мульт пингвины шпионы смотреть онлайн',\n",
              " '72db0af9c3eca40a4e5c494ff37f199f': 'вторая первая любовь кино смотреть онлайн',\n",
              " '9488bf03b8459e402edac148418e85c7': 'включи мне иван царевич и серый волк три',\n",
              " '3e6877ca5311f74d7ec4757bd4e59aa9': 'хочу посмотреть мультфильм мимимишки',\n",
              " '2fb6f2ac19c985a69199bc17cb97b252': 'включи шел четвертый год войны',\n",
              " '6a99e94be5c8d776876dff9ed644f8d1': 'найди мне на ютубе драма в ритме танго',\n",
              " 'a3bee98b90fd814db4a24b19d35bbfad': 'можешь поставить быстро мне фильм с чего начинается родина',\n",
              " 'd7f9668415968e8c3a859e82556bc471': 'вруби сверхъестественное',\n",
              " 'd32721c4a945a0e96c2a7f830e7f5005': 'включи документалку фильм как закалялась сталь',\n",
              " '094bb5ca8f73cd226c3ab5953c7f7f05': 'найди ка мне по быстрому фильм обгоняя время',\n",
              " '24ee40fe9aed796053fdf46f1283d5af': 'мультик русалочка',\n",
              " '92b779b847b3615b8919c663ed4c614e': 'инквизитор фильм онлайн',\n",
              " '0c3b64d4a2e6694c3cebfe7217a7628c': 'а можешь мне включить джон уик пожалуйста',\n",
              " 'c47186941acad8aed95f6722c8adc58e': 'хочу посмотреть фильм племяшка',\n",
              " '174df73eb2673742a5177cf65aea88d9': 'запусти мне фильм культ',\n",
              " '0de42f4f6afc05ab75bac23111736761': 'вруби фильмец мосгорсмех пожалуйста',\n",
              " 'acea766d568f7c08c0c8ed716d6ed41d': 'любовники',\n",
              " '59085b3ac1347bc69545d8501d147e75': 'запусти онлайн фильм мыслить как преступник за границей',\n",
              " '90557f1e6dff8901f1ae0fd84a836e57': 'последний из магикян смотреть',\n",
              " '8d99407ecfa3f78049465ec0259f7aaa': 'включи ка город кошек',\n",
              " 'f90fb270381fba93f1c8ac29b79eb5ec': 'фильм одинокая судьба ультра аш ди четыре ка качество смотреть',\n",
              " 'd5f6d607e3880aacf12ef18fb17f8d4e': 'герой нашего времени',\n",
              " '0d6841cd7d82e5eeb0943e1c38915b57': 'хочу поставить драму лабиринты разума',\n",
              " 'a0efb0205f4d640577e4dff306916744': 'можешь поставить сериал а в душе я танцую',\n",
              " 'c60e9b611787d4305f00070a590af110': 'а можешь включить игра престолов',\n",
              " '6f1b661b6846829fd485441274579163': 'американские боги',\n",
              " '9a382192f468006aa0d868b668aa4ba3': 'взлом',\n",
              " '59c4497c5072ef826c09c39d8ed297ae': 'смотреть сериал у холмов есть глаза два в хорошем качестве',\n",
              " '2a36f77bfa10ecf57e086695928cbdce': 'смотреть сериал онлайн зануда',\n",
              " '179f9819d9ff012f4fd00a142105a416': 'включи мне фильм три товарища',\n",
              " 'c487d4352546e555a419a1d84e5a0794': 'найди мне в нете стражи галактики',\n",
              " 'c1f04f1e1bdae08928dd17dda25e1440': 'включи мне на ютубе фильм на дне',\n",
              " '8d0eb55e0aa7a49bb4db37a58febbcac': 'последний король шотландии первый сезон включи',\n",
              " 'df3bd24bbe9154c96450e4bd1fae2337': 'смотреть сериал все путем онлайн',\n",
              " 'e1b0bb0aee765430b4a54eb74b324003': 'звездочет фильм включи',\n",
              " 'c58894c199c78be97dc7e7ff5bdafaf8': 'можешь включить фильм дубль два с натали портман',\n",
              " '8affe313e08452b915e9d555e365f191': 'холм одного дерева',\n",
              " '5060ad9aa98d0fc3b544c63465c6a1f1': 'хочу посмотреть бесстыдники включи пожалуйста',\n",
              " '5c5ef1ba7e5f0337e6c403ef112dcb3f': 'смотреть онлайн мультфильм маша и медведь',\n",
              " '6f7ffe23847e9c1c1030d72cf2361bc6': 'фильм смотреть онлайн замуж после всех',\n",
              " '47fef9dda4941f53625ffccb73466244': 'семь психопатов',\n",
              " '259b2e0868e9d7f1260d918b40bb03cb': 'найди в нете мульт алекс',\n",
              " '42719b402c14f75040cebc70cc228294': 'найди мне драма в поле зрения в интернете',\n",
              " 'a4c45145853b72649a2506020d936d8c': 'поставь по быстрому фильм манхэттен',\n",
              " '78dc40a803f61942f6a3a7d227c5edb4': 'найди в интернете фильм третья мировая смотреть',\n",
              " '3bd17991e0fb169677b4721f481b2321': 'смотреть сериал замерзшая из майами седьмой сезон седьмая серия',\n",
              " '2113e2aa0c3d3551064a9ba0484f8b78': 'поищи мне фильм братья по оружию',\n",
              " '35a3e80ebf083bfd771a4526f58dd138': 'включи фильм остров ненужных людей',\n",
              " 'b11f6a1443982b81e5b42cc4ebee3074': 'последние часы',\n",
              " '718ff2440340eb8329488a23d4932785': 'хочу посмотреть фильм реформация',\n",
              " '439aff1936240723a026b1390ed8b124': 'ромео должен умереть',\n",
              " '235c6fea3ab95876bd5830971b84d397': 'включи фильм мосгорсмех',\n",
              " 'bd224abe08a1ea359a97520ccc1b3276': 'а можешь мне включить ярость',\n",
              " '973964e522d53a383583ed93fcf8a26a': 'тайны города эн',\n",
              " 'db0f11308ac451b0df67876d567740a0': 'мультфильм найди скрытые объекты первая серия',\n",
              " '45122fa3033a76bc049105202c21d649': 'может быть посмотрим мстители величайшие герои земли',\n",
              " '13ce9888495dfbfefc97b66a11c3d266': 'включи документалку фильм загадки истории',\n",
              " '6cb4022905ede0ddab77338682a41d25': 'мальчик с пальчик',\n",
              " 'ecd6199cedf7d74ca995b30b10d7e7a5': 'игра ганнибала',\n",
              " 'f8f5283d8471a65a6c413dcbb66d2b21': 'все деньги мира четвертый сезон включи пожалуйста',\n",
              " '333cf188afe95c8f5a6868fc24ca2566': 'хочу смотреть онлайн ничего личного',\n",
              " 'a48bbe0bf1a42ea842ff9e1d0c3fb197': 'фильм северное сияние о чем молчат русалки смотреть онлайн',\n",
              " '973c989d6d6d9bbfb815a4586d4a037e': 'сериальчик новый человек паук три сезон пятая серия',\n",
              " '5eb7f7d53ea582d49016421fc25525b2': 'загрузи мне сериал последнее изгнание дьявола второе пришествие',\n",
              " '3ad60997b238e6d468876f88e6da8622': 'джек джек атакует',\n",
              " 'cbb7b5bda27d5e52c96d5d36dbf9d0d8': 'смотреть онлайн мультфильм футурама',\n",
              " 'c80d572c7fab8f80aa289030b7c14888': 'запусти мне пожалуйста фильм помнить все',\n",
              " '8c6598688c5a76c80534a1fbab89a8ca': 'небоскреб',\n",
              " '45d002acd5e13a363b505534cd641b55': 'фильм смотреть онлайн называется ускользающая жизнь',\n",
              " '6a26b7531a5abf459b45108748a2a680': 'запусти ка сериальчик серые сады',\n",
              " '8148e71fc13d7f3768ad28871bf247ab': 'фильм тайны космоса смотреть онлайн',\n",
              " '5782b5fba375a04dc46603b8a6f1f5f5': 'хочу посмотреть фильм дело гастронома номер первый включи мне',\n",
              " '64fd758ff939f496766aebad4e4c584d': 'найди мне фильм ханна монтана',\n",
              " 'e1bc7f19468d61826088e7dfd337ca9a': 'и была война вруби фильм',\n",
              " 'd79fdc609cefa7d765ffac9926ea2292': 'сериальчик лобановский навсегда два сезон два серия',\n",
              " 'dca8c68bb5c8cf19995b922dbc18fd97': 'можешь включить пожалуйста чужие дети',\n",
              " 'fdfc04c9e1409acaaf081b495775d7c0': 'два восемь дней',\n",
              " '0b1da434778fb86d639c07eecd7fe7c0': 'запусти мне мультик вспыш и чудо машинки',\n",
              " 'fdfc65ee19a494442454ed86c51b4d7e': 'снайпер смотреть онлайн в хорошем качестве',\n",
              " '79939063caff0ab73c505c35a1e3fb28': 'вруби мне побыстрее фильм ловушка',\n",
              " '84feec9dcca6f9ea0c2dc0b1230017d0': 'найди мне мэп кино',\n",
              " 'fca455dd76650e9c1c1c27404b311af0': 'найди в ютубе пираты карибского моря три на краю света',\n",
              " '67f89332643d557907b50822c22a32e2': 'тринадцать грехов',\n",
              " 'ca181cd3c0743c1dcdf4830438897d2f': 'маска зорро',\n",
              " '25a51a7b53437367652fd60e4b7ac415': 'вруби фильмец счастливый конец пожалуйста',\n",
              " '4a1f58ae25e5894d7fa27bf1dbe49f17': 'можешь поставить мне кино выживание в дикой природе',\n",
              " 'a282dcfaaeba408f1201ccbd4bfd872a': 'отступник',\n",
              " 'a36edd1169657a0ee581080f7cbb123c': 'найди фильм авария',\n",
              " 'c9cf0e7aaa6c99d9a0da2a39596b9be4': 'запусти ка сериальчик источник',\n",
              " 'dcb5bb6b9cae0ebbe14dcc71596680c6': 'свадьба по обмену можешь врубить',\n",
              " 'ec8110d04423ec8475350e78901b70e5': 'можешь мне поставить мультфильм малышарики',\n",
              " '359b0e2b6f1777a485de2a07ac3392dd': 'включи мне фильмец восточные мотивы',\n",
              " '45bd88b3e67a4c67085dea9a8ae71533': 'военная разведка один удар',\n",
              " '36e575e55d644908b5836de5d4d1710d': 'запусти фильм остаться в живых',\n",
              " 'f7fde6b879f9180d46840289bd881367': 'может быть посмотрим пятьдесят оттенков серого',\n",
              " 'e5a2760a0bb4930001e496a4113f0759': 'мультик машина автошкола вруби',\n",
              " 'af4d7b019af8afa8fc6975b432f2c317': 'жеребцы третий сезон включи пожалуйста',\n",
              " 'a3409618408a46109505242c8e449a85': 'жестокий романс',\n",
              " 'c1da1fcb70f23578f6ffe34ba996bd88': 'хочу посмотреть фильм переправа включи побыстрее',\n",
              " '9c54917a62bdd80066ad960e80c5ba58': 'можешь врубить тайная жизнь домашних животных срочно',\n",
              " '3440926d477d275fd10d1257ff93bdb3': 'включи мне рим кино',\n",
              " '34b537ec357523273736980f541d4551': 'найди мне фильм и была война',\n",
              " 'c7da259128d6df0270c80fc0b1357b5c': 'загрузи мне фильм реставратор',\n",
              " 'cde343ed6f6cb035918502bcb66bfd34': 'фильм черные комедии смотреть онлайн',\n",
              " '118a90b41b5aa9b72de5b603b3bf3f74': 'включи мне лицом к лицу с али сериал шестой сезон третья серия',\n",
              " 'c6426efcc067143c556f51e997dea8a2': 'а можешь мне поставить фердинанд',\n",
              " '33fbd71c6226ed9c5c7ca26888f4cb0d': 'спартак кровь и песок',\n",
              " '2a6ed2dfbc89a63246f2c3530970f44c': 'можешь включить судная ночь третий какой нибудь сезон',\n",
              " 'b930b09731d9b4a5ae45b2d39ae585d4': 'найди мне в интернете фильм три счастливые женщины',\n",
              " '8808846dc71843d9f9fa67232f4103b8': 'первая мировая',\n",
              " '0cf2933bd1bd6c5ce802a609322834cf': 'а можешь мне включить после тебя',\n",
              " '1217c98b10e07afe9525aa8dcff08a5b': 'найди мне фильм тульский токарев',\n",
              " '162c4f69fe5e894ee01b50ea84c9902e': 'запусти онлайн фильм люцифер',\n",
              " '58ca0cd7e535be8b1f01fb44092a66b2': 'включи мне на ютубе фильм лишний',\n",
              " 'aec778d804981ada8653b451a66519bb': 'ну ка загрузи сериал майор данди пятая серия',\n",
              " '0d168706b34f77b268f33cceb8c29bc7': 'в поисках свободы',\n",
              " 'd82b0db539da0d3a2129229b8ed9fa28': 'запусти фильм девушка по вызову',\n",
              " 'f185aa03721c3abb6aadb98033dfa5bb': 'включи фильм путешествие в жизни',\n",
              " '7be311292c7d438d7560de46a3c8d08f': 'включи мне красные браслеты кино',\n",
              " 'b52dbbc0e0fac9087704c0a7bcd9dffc': 'можешь включить фильм отчаянные домохозяйки',\n",
              " 'e76859b99d8d5ea4939c499fd942812c': 'найди мне на ютубе боевик родина ждет',\n",
              " '0fb22e36a39d3023c24ec03849e07132': 'найди мне на ютюб фильм бомба только быстрее',\n",
              " 'e0889144df315dffb72b7e09647023e7': 'смотреть фильм лос страшилкас онлайн',\n",
              " 'ba2a96530ebc97dafcd4e60ce2f45bf6': 'десять тысяч лет до нашей эры',\n",
              " '18c6dba2005dd27694d3ef219780a4c8': 'смотреть фильм кулинарный тур',\n",
              " 'af19b24c393518d916c06e250fa68e40': 'хочу смотреть фильм здесь и сейчас',\n",
              " 'c3d03b6c9e9b86c3312b0c2511b52bac': 'джиперс криперс три',\n",
              " '4965d86fc891ec737d28365b63488588': 'хочу поставить фильм белая рабыня',\n",
              " '2a12b798b711132291d3c1d3b6774273': 'включи мультик уроки тетушки совы мои домашние питомцы',\n",
              " '2ce8c5337767bacbc579f0b011c23ee4': 'найди мне кино костоправ',\n",
              " 'bff6a9fc142b6120d28a6acb0560ee98': 'может быть посмотрим чернобыль',\n",
              " '6a08290b3f566c38e1e0837f69f52f42': 'включи кино безжалостное солнце',\n",
              " 'c2c83d61e45e2f15b9b7e3a05650e60a': 'можешь пожалуйста поставить фильм пелагея и белый бульдог',\n",
              " 'c0aae433c3b26b7672704604fc6eb394': 'найди алладин восемь четвертый сезон',\n",
              " '811ec9079544ab2211bf4959460cff49': 'найди пожалуйста фильм наркомовский обоз',\n",
              " 'f595e3ca37682e9ef5b952b8a772c77e': 'найди в нете властелин колец две крепости',\n",
              " 'be901eb7072e717202c44f9b01da6c80': 'вруби мне пираты карибского моря четыре на странных берегах',\n",
              " '4c97f7b6c31fca077b13efc5c21f74ff': 'запусти мне в онлайне фильм академия самоделкина',\n",
              " 'ca48251b2376593128a825b44ee36cc3': 'у зеркала два лица',\n",
              " '48d59aac281a6894be23074389601a0b': 'враг государства номер один легенда',\n",
              " '65898855f5632a0c7c77a5b4ef9ab994': 'смотреть фильм возвращение будулая',\n",
              " 'a183e880d0caed9e519cc44873d02c84': 'можешь поставить сериал любовь и дружба',\n",
              " 'e622972c86fa7ee604660169e31d51f2': 'великая дикая синева фильм включи',\n",
              " '581c2ab8f25879e1d197a136557fe2b7': 'вруби ка мне фильм странный ангел',\n",
              " '68d35e11daf28c0fe217cdd94fa45b4b': 'назад в будущее два смотреть онлайн',\n",
              " 'e73612c1c0ae478a5309067a9e49c5e0': 'четыре комнаты',\n",
              " 'e68ee8c0b3b7b10077e6e4111f4081b8': 'загрузи мне фильм оттепель',\n",
              " 'cda7c94ce6a8773987ef2a6c8f5f8469': 'памир край загадок фильм онлайн',\n",
              " '4fbd36ad7a9b1d7abc0a999c099d5fc1': 'смотреть сериал обыкновенное сердце третья серия',\n",
              " '313a35e3d58d4bb9cdd5e09b48083496': 'включишь мне фильм агенты щит',\n",
              " 'efda5781e242db1c004715cf503818be': 'можешь включить мне фильм мамочки',\n",
              " '076ad35e96c9ea96d34128a3e7f9d5e3': 'двухсотлетний человек',\n",
              " '72ffe577a7871b5bafb2fd6e81869818': 'фильм щит смотреть онлайн',\n",
              " 'be45d64e5b637661e6920e6c2c4ee1d5': 'давай посмотрим команда мстителей',\n",
              " '3aefcb8000c4763766b523fdf6c2a6e7': 'хочу смотреть фильм цена жизни в онлайн',\n",
              " '559a475887fc998e691ecf89c9f451b3': 'кулинарный тур',\n",
              " 'a14dbd01554b4fd74c489e8c12e08da5': 'найди мне фильм праведные джемстоуны',\n",
              " '3d9b6eb5ac4176d19e39eb35971c46bf': 'запусти мультик куми куми',\n",
              " '533e559b30baa4d2fb41a38d69f265b4': 'давай посмотрим вечеринка',\n",
              " '4e2da814f0092034af601c25d5522eb5': 'гадкий я три',\n",
              " '0be2228a9d37f36a6a6c611e739d4e53': 'ну ка быстро включи мне фильм наркомовский обоз',\n",
              " '986ba38a0f2352323c7dce3a34c39f07': 'крик три',\n",
              " 'bf495a19b111d0cc0bb6166bc050c02d': 'найди мне фильм операция мухаббат',\n",
              " 'f3599258f83b7d15246ff558225be5bc': 'найди пожалуйста боевик реанимация',\n",
              " 'f8bcf6bfc783f093b56b12efdf276530': 'мультик королевский корги',\n",
              " 'f0299f4a79a34f6e495ba9d105773493': 'хочу посмотреть мультик мы идем по лесу',\n",
              " '5c984141811e8ae14abe06f6fe48662f': 'запусти фильм стальная звезда',\n",
              " 'c929e005cbf722eb11d07f9c1248c03e': 'запусти фильм она была красоткой',\n",
              " 'a2ada7300c327c6c38c106ac89210728': 'можешь запустить пять комнат фильм',\n",
              " 'ffeffdaadcd55c70e9c158c900ac5b3a': 'смотреть онлайн фильм у каждого своя война',\n",
              " '8e4f822286c3109f7161e7b8d3d13493': 'хочу посмотреть их перепутали в роддоме',\n",
              " 'ecc86938df1a2ce23d370b80d5648037': 'три товарища',\n",
              " '02d891a099b4ff55daf5ed52e714c73b': 'поставь пожалуйста фильм касл',\n",
              " 'e31405feb1db520cac333da6ed9b01ce': 'запусти мультик князь владимир',\n",
              " '77433f7eeb4f84be4027825622e6b31e': 'приключения поросенка фунтика',\n",
              " 'f48fb054d1115ff35d188dc6b04eae89': 'хочу посмотреть фильм тихоокеанский рубеж два',\n",
              " '8cce883d6fa183489efb62f03ae0b8a3': 'запусти сериал игра третий сезон',\n",
              " '1098068472453943c67337509b05fa9c': 'эдди мерфи без купюр',\n",
              " 'fd0e84f7844fb7c00700829181589739': 'фильм диверсанты смотреть онлайн в хорошем качестве',\n",
              " '653cda710a00ac27b825cc75c5ece3d5': 'запусти мне фильм гонки по вертикали',\n",
              " 'c19fdfa8bbb3c1d890af6da1effcee42': 'любой ценой',\n",
              " '96f5ca23c8e4be2add17098e37ce0707': 'хочу посмотреть мультик бриклберри',\n",
              " 'c66f2dafe7d964ad09d2527d61738734': 'поставь пожалуйста фильм потомки солнца',\n",
              " '7b2515c632d3e74a27f1ba1070d4aafb': 'запусти фильм чемпион',\n",
              " '77ef9a89f12bfde799a803f6c182a302': 'включи русский сериал мужской стриптиз',\n",
              " 'e347af9e3e2de8051184de85c7db1e04': 'включи онлайн мастера секса',\n",
              " 'f7507abf795711368a3e149c217eb8ea': 'бэтмен',\n",
              " 'ac9b7126d67ab8ffe2d7138064a0f688': 'код доступа кейптаун',\n",
              " '7c4c69d211ac726d50dd7c9dabda3ac4': 'мультик симпсоны смотреть онлайн',\n",
              " 'ba58c11dd7aa6d2dcc7ba781f4d419d9': 'сериал резня хочу посмотреть включи',\n",
              " '9d04b94d8526cce224fdcec331114655': 'хочу посмотреть драму в постели',\n",
              " 'd823fb8211c97ffb266a912115296338': 'барби рок принцесса',\n",
              " '583b06d3b00cb6800e1ac0032401e3bc': 'включи мне фильм экстрасенсы детективы',\n",
              " '0b4bf32c41c51c0d55382bc6c1bd3632': 'хочу поставить фильм великая дикая синева',\n",
              " 'e6a8e044ac6434e0ebd571b4b2e9114c': 'хочу поставить фильм безумцы',\n",
              " '266d399a1b4870358e68dcc6d8df7132': 'сможешь найти фильм переводчик',\n",
              " '144e63168362f62170b768f0683b2a1b': 'загрузи мне фильм операция горгона',\n",
              " 'd7c3501532e4f337bbdfe5cfbdfac959': 'смотреть онлайн фильм тысяча девятьсот сорок три',\n",
              " '44b5445390c0be8a3964436436a757e2': 'укрытие',\n",
              " 'cf476494f15c47f2c863dc58b3d0cb4c': 'найди на ютубе документальный фильм снайперы любовь под прицелом',\n",
              " '928280cee89a12a8f5b921a165e629c4': 'смотреть онлайн лига справедливости',\n",
              " 'd5d0056bab2279e27cc6261f12399d05': 'поставь мультик грузовичок пик',\n",
              " 'b55f401f8e0ccbb8c92050e357c0b820': 'включи документалку фильм первый',\n",
              " 'c67883a29e25d3b3704631f500296c1a': 'вруби ка мультик рэй и пожарный патруль',\n",
              " '194905f193f498728c807a2cba6f2eff': 'найди в ютубе полночное солнце',\n",
              " '05eb58a0f5f785f34087bf2be044a3f0': 'русский фильм археология смотреть онлайн',\n",
              " '9493c5dac0af5eed3ea76c4beca03af0': 'можешь включить пожалуйста дурман',\n",
              " '0cc19da487b3842f011ea8e9f4d93af1': 'сериал бизнес по русски смотреть онлайн',\n",
              " '070daf23c54ff436e3b56083c64ec0bf': 'фильм волшебники из вэйверли плэйс смотреть онлайн',\n",
              " 'dad92dceefa3841004a24eb953033377': 'мультфильм смешарики двадцать одиннадцатая серия',\n",
              " '07ea4732afa307ee79283d34bc4b7940': 'хочу посмотреть фильм марафон для трех граций ну ка включи',\n",
              " '79912f1b81477e0b3b5fae98faa8df98': 'загрузи мне сериал роковое влечение',\n",
              " '59aab8f54cb47537e1023a99536fc2cc': 'хочу посмотреть фильм последний самурай',\n",
              " '0a036f71b083596ccfea5a28c78f0fc8': 'хочу посмотреть двойка включи пожалуйста',\n",
              " 'd8c38d5800e28814143bd53565935d25': 'хочу посмотреть астерикс',\n",
              " 'fd352fb73f4afc50aa8c55e3900e6014': 'найди пожалуйста в интернете фильм загадки истории',\n",
              " '51d42269bef79750ec8054d00deb6717': 'смотреть фильм я же мать',\n",
              " 'de6c705be7a8e92690b792c8040807d2': 'драма бек вернулся',\n",
              " '382282e31864ebb6e5737467b5120f69': 'можешь включить фильм необходимая жестокость',\n",
              " 'e4498c9bd20ad8bb85d1fc2b05da31cc': 'посмотреть хочу фильм святилище',\n",
              " '4c35c329c99852a55dca07394f29f438': 'пираты карибского моря три на краю света можешь мне найти',\n",
              " '0a91559695daa901505b1f3bbc64f14b': 'найди пожалуйста фильм город хищниц',\n",
              " '79945bf4415f62766beff523b212d799': 'фильм яблочный двор смотреть онлайн',\n",
              " '389ffeae2fde332e65ed462fc61bebeb': 'классный мюзикл каникулы',\n",
              " '852caadd097732f135e6077b1e9df174': 'включи мне фильмец майя рождение легенды',\n",
              " '88b730a0c0c60d03501ee1b21159b0c9': 'поставь ка мне фильм брачный контракт',\n",
              " '017544e9bedbfe01a35cf4c2e9a38802': 'запусти фильм немой',\n",
              " 'beb9881e03485eac05096777e4cbb67b': 'фильм давай знакомиться смотреть',\n",
              " '0485c689994e6a43139b017ce5084913': 'вруби мне плутовство',\n",
              " '5665e2d17de7b5b60d7b39f6754231e9': 'включи пожалуйста мультфильм минифорс детские песни',\n",
              " '7e4a0cc31599f53272f598d40717bca3': 'сериал сырое две серии включить',\n",
              " '902dc85aeea087596fcee39a34a3da19': 'ну ка загрузи сериал по ту сторону двери третья серия',\n",
              " 'f6e43f69bbfeafd11bcbb1b57bff0c23': 'дикий',\n",
              " 'c3b854916822d103907304902253a135': 'можешь запустить последний час фильм',\n",
              " 'f9c1f89225c0bcc425f410344313217b': 'запусти в плеере фильм привет от катюши',\n",
              " '537df2e9cf2ff214e299ec6129425854': 'смотреть бабло онлайн',\n",
              " 'c6a1af9c2beb03505765d005084f7bf3': 'можешь врубить человек муравей срочно',\n",
              " '27d388d6d153b9ae9743c71a82b75302': 'найди пожалуйста в интернете фильм карточный домик',\n",
              " '4ef9e0d445f0173a194f8a87bf571a65': 'а включишь мне фильм смолфут',\n",
              " 'b2653ac4d564902c85e1a88d41ac90fa': 'найди мне комедия кабачок тринадцать стульев в интернете',\n",
              " '541b827d5b2035b0b8f13d451b084606': 'скандинавский форсаж смотреть онлайн',\n",
              " '23abe9c8d95b1b15ca2f7e361193e1b0': 'запусти мне фильм стрела',\n",
              " 'da31c8883cbfafffc46d345d259dc6ea': 'найди ка на ютубе фильм криминальный амстердам',\n",
              " '343fc1726c92570aa69830799330fc10': 'возвращение в голубую лагуну',\n",
              " 'dca375c256ebf9b23215a9652e3cbc03': 'быстро вруби ка мне фильм три дороги',\n",
              " '7428d52118be80982bbe8cafe503abdd': 'поставь мне фильм немой',\n",
              " '89f2b378c8c71c82ad4434c86b22ba87': 'включи мне быстро фильм арктика рискованная экспедиция',\n",
              " '1001690ca3cf0802279f04c0fc3bb858': 'сверхлюди фильм смотреть онлайн',\n",
              " '921efb9dcb2c65bd4f5f25e0914d9351': 'найди мне арлес кино',\n",
              " '373073f506942c43ad2a06b925418e83': 'мой придурочный брат',\n",
              " '09d3a81bb591811374d26b813702e564': 'параллельные миры три сезон пятый серия',\n",
              " '37b385a39788b676524a86bb515016ad': 'интервью с вампиром хочу посмотреть',\n",
              " 'ce00846de2b954679dcdaa9cad808490': 'включить боевик офицеры',\n",
              " '1da11b87f049d3f51722e112d819139e': 'ранго а можешь',\n",
              " '3ca3f150fb37cfde6d62a801ab018907': 'хочу посмотреть боевик воин',\n",
              " '33642a117a28e7f09bc7ea511e1588d6': 'вруби комедия соседи',\n",
              " 'eb5a0fe47d3df50c28dda6d924b69ab9': 'включи мне фильм стреляющие горы',\n",
              " 'e532c71176b7eb4929c34b5ad35d8323': 'драма легенды о круге запустить онлайн',\n",
              " '8691b1df179b341513bcccbaab434731': 'фильм правосудие смотреть онлайн',\n",
              " '8ec8773efe77b9442d96329eeef40fd2': 'найди ка мне фильм в поиске',\n",
              " '025de9043b185076c8ffdefc55470272': 'а можешь мне включить гостья пожалуйста',\n",
              " '9405256ceff297250d7774cce501b8e6': 'рассказы',\n",
              " 'b2844138157c2ba4be765ed380274bbe': 'поставь мне балканский рубеж быстрее',\n",
              " '7a0fb9e79493522ebf8fc7ba44b69b45': 'шаг вперед все или ничего',\n",
              " '18a2b13005ae091cceb188a6ad6ee316': 'смотреть фильм сверхлюди',\n",
              " 'df88dbbe8c3a33e613dcdb79d58fcff4': 'типа крутые легавые',\n",
              " '471d0a8cd41075b0949dc6ce8793396b': 'найди фильм чудо слезы мадонны',\n",
              " '2a4c922702773e60c22d3638199fa2a7': 'запусти мультик нелла отважная принцесса',\n",
              " '0fd04891a54171d5130882c0890d5dfb': 'однажды в сказке вруби фильм',\n",
              " '6d3462514c90928a4a7554ab2f99f5e3': 'найди фильм нэшвилл',\n",
              " 'bb57379abb53b98e131d76d3476e2294': 'найди мне на ютуб фильм скрытые острова австралии только побыстрее',\n",
              " 'e6bfcec1c4780deb5c3f88c5251f1483': 'включи сериальчик донская повесть',\n",
              " 'e3816b227e1eab70701b255285adaa68': 'драма счастливый город смотреть онлайн',\n",
              " 'b326eb5561d1545a6225251bb6bc08fa': 'очень хочу посмотреть печальную балладу для трубы включи',\n",
              " '237fe150ea82e05a60319aff48a32ba4': 'можешь мне побыстрее включить тюдоры',\n",
              " '15711431e554f192feac22fff2515bda': 'сериал усатый нянь поставь мне',\n",
              " 'f18163d13733faba67a473eca05e7f8b': 'хочу посмотреть драма готэм',\n",
              " '83eb8a737ed568046c3ebcdce56dcb4a': 'париж город мертвых',\n",
              " 'bb998dbdd253860cbb05b67349bb5fda': 'найди ка мне фильм тайны бермудского треугольника',\n",
              " '6bab4e2febe9ea82a352b66a99fb0fef': 'маша и медведь любимые песни десятая серия',\n",
              " 'a0c5563487fa167002687edae0d06297': 'хочу посмотреть планеты включи пожалуйста',\n",
              " '11a267120101f6acdca56c47a484a7df': 'мультик стальной гигант смотреть онлайн',\n",
              " 'f8154f1a81f20f933afcfb8da9f560bf': 'братья',\n",
              " 'c408bf4a4d590eb639fbd889f60e9957': 'включи русский сериал кобейн чертов монтаж',\n",
              " 'f8ea5f03b55096c04212cf120fd297c7': 'хочу позырить сериал княжна мэри два сезон',\n",
              " '93da9d5e5f2018c140bb0b14b0da1160': 'хочу посмотреть фильм а у нас во дворе',\n",
              " 'c2eab228cfd8243f5802be0722056003': 'жизнь по джейн остин',\n",
              " 'c5743250e80f9f5e6600a1f93e6fcf47': 'красный дракон',\n",
              " '5db9d9344a5c72eb22d04ce79af4ca13': 'фильм смотреть онлайн личное пространство',\n",
              " '084225605149567c141bfc5e99fb90da': 'можешь мне поставить ангел бейби песенки',\n",
              " 'bd61c074098f694d2bd8270b84d0a663': 'поставь побыстрее фильм американская история ужасов',\n",
              " 'dc403315c6783673e7f5adea68d4dae7': 'а можешь мне фильм жизненные обстоятельства включить',\n",
              " 'b32fe438cdb8bfe887afb4aa8c2dbcfb': 'найди мне кино профиль убийцы два',\n",
              " '349b66e0fc708770464382e56f2af73d': 'ну ка загрузи сериал восьмая миля финальная серия',\n",
              " '02d608f455dc336d48efa36d4acbbc6e': 'сериал человек с киноаппаратом смотреть онлайн',\n",
              " '2d13ccd9fae647b04480785d6177f8fd': 'наруто последний фильм',\n",
              " 'b90047518a5174f089cea4185407784d': 'смотреть сериал жасмин первый сезон финальная серия',\n",
              " '6b40d0d0e193d114db0e6c21035ca79e': 'собачья жизнь смотреть онлайн',\n",
              " 'b2ffb5d6999594e230129aa434bdcae2': 'сериал прикосновение ветра поставь мне',\n",
              " 'b335fe1e5b2ecd28f1cb363907b1e0bb': 'фильм шепот найдешь мне',\n",
              " 'ba55434c4515062637bc9497ed20d42d': 'опер по вызову',\n",
              " 'ecc37cda139e01af3163260a1410a7bb': 'хочу посмотреть фильм зауре включи мне',\n",
              " '01a5dc886b042e5fed48e58df2a01112': 'мультфильм джифайтерс город супергероев четвертая серия',\n",
              " 'f98bd250016da866dff6897874d9558f': 'можешь поставить фильм без следа',\n",
              " '7a4656b08b18a15195abd3532d6467a7': 'как украсть небоскреб',\n",
              " '0878ad22cea81d0a031757823c4945de': 'найди в инете мульт бум и красные',\n",
              " '239b904fe0e2bc008548326f948dbe3b': 'найди мне фильм я же мать',\n",
              " '21aa4de17fca03f7d93d93c82aa77efb': 'хочу посмотреть сериал бриллиантовые псы шестой сезон пятую серию',\n",
              " 'daf79c7e688d5f48248b3fdba48bc1a3': 'сериал пока ты спал в хорошем качестве',\n",
              " 'efd7e8ec220e67e1165a838063cc196a': 'смотреть сериал можно только представить в хорошем качестве',\n",
              " '508bd101ff05da50274485b4cffa58e9': 'найди мне в интернете фильм в свободном улете',\n",
              " 'b4171553a4412b7259df7881e214d059': 'найди в интернете фильм связи',\n",
              " 'ae4d7948b398d98571dd7fcfe3087499': 'фильм мама лора смотреть онлайн',\n",
              " '3f9b00aa6f964d62dc1b9d099d53d328': 'хочу посмотреть фильм марафон для трех граций ну ка включи',\n",
              " 'b99a36e45fae66e8f60dbecc5f05f40e': 'смотреть сериал меч короля артура четвертый сезон четвертая серия',\n",
              " 'c56444bd0675561242cddde8aeab0cd3': 'где посмотреть всегда говори да найди пожалуйста',\n",
              " 'e4cf8b93b44b59b496e1a4df24f0eb10': 'светофор фильм включи',\n",
              " 'a64a7dc598be83140e00f68fc02bf810': 'лабиринты разума фильм смотреть',\n",
              " '0e20317f506235dc04af34e928c8867e': 'сериал лед поставь мне',\n",
              " '8453543eba4edea8fc25ed35cf8068eb': 'фильм пелагея и белый бульдог найдешь мне',\n",
              " '88275e8e254440733f6e8b0fcb86ffdc': 'конг остров черепа',\n",
              " '6ac0ad8daf545559a97d26125a5d8be5': 'экскалибур',\n",
              " '8a8f76753a61db6654837e7008cbe352': 'сериал одиннадцать шесть в хорошем качестве',\n",
              " '34b5091438f352361fa3fbc33a9cba5e': 'душа компании',\n",
              " 'c58b4ca5a35d103f27073ecd5926ba61': 'фильм бомба можешь включить онлайн',\n",
              " '36ef3bb1ddf14091269e6644f996fdf1': 'а поставь ка мне фильм шепот',\n",
              " '172adf901664e46266f13ab7970942de': 'фильм вызов включи',\n",
              " 'e46eee6e79a5a6f5fc6ebdbb1072ada8': 'уличные танцы',\n",
              " 'dc947ebcb4a4ebd5ca62c5f924bf31ce': 'байки из турне',\n",
              " '538e5c88970ff063367e3ccb83e66a5c': 'найди фильм питер москва',\n",
              " 'dca5ba306e7438809fb8e3022a22f1a5': 'поставь ка мне драму вне игры',\n",
              " '0edf0fba5d8a9d1889811dca02d68bc9': 'найди ка мне фильм паршивые овцы',\n",
              " '0df6ce919c104d856c60b24b7209728b': 'где посмотреть заводной апельсин найди пожалуйста',\n",
              " 'f0aed9891021664120e60fe3f38b01c9': 'индия национальный парк канха',\n",
              " 'b9f3d25fe49027671fa52db351396e29': 'найти на ютубе вдовы',\n",
              " '2ab730b4aee5e257c6e8df29fc012fab': 'спаси меня',\n",
              " '1fe70fb412c576b6f41cafedf69738ac': 'мультфильм дошколята смотреть онлайн',\n",
              " '69e2f3f12769e54eee179767e1b72126': 'вал и можешь мне найти',\n",
              " '61e1d7af89867f279462fa0a26f07327': 'включи мультик котенок и волшебный гараж',\n",
              " '6fa93efedbe667809aaa65fd3bab3201': 'фильм две оторвы на престоле смотреть',\n",
              " '3c5dcf73a0dbc4610be7d11183862f3b': 'фильм ликвидация смотреть онлайн',\n",
              " '108e32ffe17bcf34e16a241ef59311b0': 'пуля',\n",
              " '2514037ee24e9fc9c4c9e35ee2175669': 'можешь врубить тайная жизнь домашних животных срочно',\n",
              " '4cc0e09516be813f1b64113245a16058': 'запусти мне фильм битва за севастополь',\n",
              " '3e7c464f0a407c9bd92df427e2c8e049': 'а помни меня можешь найти в интернете',\n",
              " '5e24afd364d7eb0f386527a84a45cd6e': 'пелагея и белый бульдог где можно посмотреть',\n",
              " 'e9b0ba6515d365f3d188ad67b642a2b6': 'вечерняя школа смотреть онлайн',\n",
              " '834d5f360f20cad00c14edfd15c57c26': 'крабат найди на ютуб сериал крабат ученик колдуна шестой сезон седьмая серия',\n",
              " '478f8a147f4a387981076b5d519212f3': 'фильм слепой смотреть онлайн',\n",
              " 'f5b1ab280dad684614d7cd562e5b9050': 'поставь фильм беглецы быстрее',\n",
              " '76a8a48abfadfc1ed909e6eac417cb3f': 'хочу посмотреть мультик уроки тетушки совы арифметика малышка третья часть',\n",
              " '9fc0da8ae9989aa660159d7df94ecb7e': 'сериал ленин в октябре ютуб',\n",
              " 'e030a109c15af083362a72b94619f094': 'сериал нянь три серия смотреть онлайн',\n",
              " '02d650f9b1307d6bee8462d72a90b5ba': 'можешь включить фильм в постели',\n",
              " '377cfb8c19bf0daef1eb97e60c60d9bc': 'а можешь мне фильм огненный ангел включить',\n",
              " 'f911e42a7b9b885d28236e1e19608117': 'бэтмен нападение на аркхэм',\n",
              " '7256dfe1eb2273fd04a703c73e6861f7': 'волшебник фильм смотреть онлайн',\n",
              " '9993062eb872c43134275491ba71b04c': 'смотреть сериал сладкий ноябрь',\n",
              " 'b6e79815c9d8eb43dd6405461b47dbf5': 'материнский инстинкт',\n",
              " '7bc7e7cee3b3717781041f2b34b07576': 'включи мне драма древние',\n",
              " 'dc4072445df093baa0a021e0617ae421': 'можешь пожалуйста поскорее поставить фильм риф брейк',\n",
              " 'c1bd9769b0b897fbadfa13e0451c8ec9': 'включи пожалуйста мультфильм минифорс детские песни',\n",
              " 'e21f81e4a13b6d526ad923c83372710f': 'хочу смотреть онлайн джет',\n",
              " '3ac0f1eb3bb02a392462caa3ab37d478': 'вруби ка мне фильм древние',\n",
              " '58078931ed80023fd7359d14b0d1119f': 'охотник',\n",
              " 'b02fbb88c2fe7234bbedc15f92d88c0e': 'снежная королева третий огонь и лед',\n",
              " '3d75f3db2d5b0790ab3a10667ac670a3': 'хочу посмотреть фильм бэтмен дурная кровь',\n",
              " 'f623600407a9e3179dcbb751f952dee3': 'вруби российский фильм дикие животные завоевание мегаполиса',\n",
              " 'f09258e89fb58728f0813e84e469b302': 'императрица ки фильм включи',\n",
              " 'cb0579f801d0bd67ef85144772112711': 'найди мне в ютубе фильм дмитрия черкасова вольная грамота',\n",
              " '568bf713e3801ec6bcb7509ddd2a68d8': 'сериал наследники в хорошем качестве',\n",
              " '56779be2ddc41b9e61069bd756ec2f1c': 'два два два смотреть онлайн в хорошем качестве',\n",
              " '12098413c3fc0f7ac20a1158d2173f6b': 'включи сериальчик благодаря винн дикси',\n",
              " 'ed7eb45107841faa4e66818cc31f93d6': 'поставь фильм без следа быстрее',\n",
              " 'f44846edd1f6bff419a4156d685b4b99': 'можешь поставить мне вторую часть фильма отчаянные домохозяйки',\n",
              " '0e27d13b66cb70fd94491de83d69410f': 'оптом дешевле',\n",
              " '4640b460dcd28781738fea647414f6c7': 'можешь включить мне фильм над австралией',\n",
              " '8b8f43f3cfdd0c92c925a2b1181ba317': 'мульт маша и медведь любимые песни смотреть онлайн',\n",
              " '8ab49817799fb56b8d7d6becf393c8e1': 'можешь мне поставить фильм искусственный интеллект',\n",
              " '5abc24901374801b131ebf764e60eaae': 'властелин колец братство кольца расширенная версия',\n",
              " '39f88fd74fa0d4fcd078013433ee46df': 'фильм смотреть онлайн называется нити судьбы',\n",
              " '332bcfae7a45a56a43858731cf9308f4': 'найди дом с паранормальными явлениями вторая часть',\n",
              " '1e5ca17693972f0fc02006bef71e9d0e': 'сериал подарок третья серия два сезона',\n",
              " '779e3bf639b6ac5efbdfe6c671f7c7f0': 'русский фильм а у нас во дворе смотреть онлайн',\n",
              " 'e2ecbe7f149eb7795d88d8502d94687f': 'включи мне фильм спасти босса',\n",
              " '18fee7cdfd9239b76962be9c6164231e': 'можешь включить пожалуйста любовницы',\n",
              " 'e4fe9041c8f5af4d00505daad712711a': 'найди пожалуйста боевик призрак в кривом зеркале',\n",
              " '6256d2a02d1a9c2abe8bdef4758a4559': 'фильм империя животных смотреть онлайн',\n",
              " '421cb47b355151c4b55a27954ecd946a': 'найти мне в интернете фильм доктор хаус',\n",
              " 'eee7814aba754910eebd2b857598b186': 'можешь мне поскорее фильм однажды ночью',\n",
              " 'cedfbaa1ab0dd8ce13d7114094824d54': 'найди мне фильм мастер охоты на единорога',\n",
              " '4f5665ff514c04c5a08b04918995b2a5': 'после',\n",
              " '754d4888d90b90dec05b44308fc85555': 'слепая зона где можно посмотреть',\n",
              " '2199f649334579ca96379d24f53a6faa': 'последние дни на марсе',\n",
              " '3f2ea97f64e55134c48a634f67e11caa': 'таможня дает добро',\n",
              " 'f52e22655ddc61af8b45d97bbdc0f6d7': 'терминатор генезис',\n",
              " 'd895895a20f692e3f27432104763babe': 'логан',\n",
              " 'a87ea6a1f5ed2113e7ecdd8025abfd89': 'хочу посмотреть мастера ужасов',\n",
              " '19dedffa01f670e387834c454a04c302': 'смотреть фильм новые приключения винни пуха',\n",
              " '0014e85d4f7a973644c79ce3ae4ea1d6': 'найди в интернете фильм преступление по американски',\n",
              " '111db4f7d2c971d5f0d52e991be27e2b': 'король полярный медведь',\n",
              " '19104232db6e2ab0764ee12eebac4ae8': 'поставь комедия клиент всегда мертв онлайн',\n",
              " '5995d5d4b9a28b6cf31026db195ded6e': 'а можешь включить балто',\n",
              " '3decb10cf8a49bc548d422358032f00a': 'в компании мужчин третий сезон пятая серия',\n",
              " '346500937d16b1bbaedb2b8862fc6fe7': 'великий мастер',\n",
              " '2ee148cef2e9192310eeaf717175d210': 'смотреть фильм сотня',\n",
              " '22e821fe9302d6ee3cbac80073e46e45': 'ну ка загрузи сериал инспектор гаджет третья серия',\n",
              " '40aa2caac3afe5312f0f990a635c8b61': 'сериал по щучьему велению два сезон два серия смотреть онлайн',\n",
              " 'e870b8c0f896e34f2789579da9d4a72f': 'вруби мне мультфильм человек паук',\n",
              " '739199d65b9345012a75ed4a6b7dfadd': 'подводная эра',\n",
              " '83f424bb05a9f8dd199244b8f86fb8b2': 'триллер сиделка запустить онлайн',\n",
              " '22e558e19d52cec0b04135e51f4dfc62': 'включи фильм бандитский петербург два адвокат',\n",
              " 'd0de1503a496025613b66724a2149c76': 'трон',\n",
              " '6121f45fda76c6fb4a8fc771587c391b': 'лови волну',\n",
              " '9c1cf74bdf4086aa6ec1266d1ee97038': 'запусти мне онлайн мультик уроки тетушки совы уроки хорошего поведения',\n",
              " '7223d313277654a301628db4da65610b': 'поставь фильм на край света',\n",
              " '727ab5c36d62121e868e5b6e5a58d4b2': 'найди мне фильм настоящая кровь',\n",
              " '90b9cf710293832af5798401373b4eda': 'смотреть онлайн шазам',\n",
              " 'e9e5aaea5bccabe5852ec741647edc47': 'чудеса природы жизнь на грани',\n",
              " '9b44cadf2feea67ebb824aa36e08850e': 'бруно',\n",
              " '3b0d44a71a11bd902438d3d68bcced34': 'запусти фильм восемь дней',\n",
              " 'ed361c173bcd6dee49a04e24139e0c1c': 'запусти пожалуйста фильм острые предметы',\n",
              " '66bb23ae1277362bb23c4f0e090abb5e': 'фильм алиби смотреть онлайн',\n",
              " '2b9c0d6d094e54992dbed9f9adff3a3f': 'включи детектив мыслить как преступник поведение подозреваемого',\n",
              " 'ff01d6defec916d20aefbbcb3179d817': 'а найдешь мне фильм зарядка с царевной',\n",
              " '2aaefcd0447f197bdecb8a7a953b40f0': 'фильм пять комнат смотреть',\n",
              " '41186c314b9e80d9161e595682543259': 'сериал бизнес по русски смотреть онлайн',\n",
              " 'ec9468d7a6f42ecd235fb23b8be3cc96': 'родина третий сезон последняя серия',\n",
              " 'a846eb660b5b9bfb198c96f920fb2bc4': 'фильм вольная грамота смотреть онлайн',\n",
              " '6daddf55b7cb5f7b1509ea61e27258de': 'вруби сериал шалун',\n",
              " '49b742959e26e408bd134ddfd93409fe': 'вруби мне викинги',\n",
              " '19531780e6c983e1b8e99b2c4de4261f': 'запусти фильм даешь молодежь',\n",
              " '7910e843e1acb4ebeb2a3efcfaaf854c': 'хочу поставить детектив племяшка',\n",
              " '1334a0f4c93a5e2d077daeeca2a62ca0': 'найди на ютубе фильм меня зовут мохаммед али',\n",
              " '8e158953a149e9fddd8e51c5dc3dea6e': 'люди в черном два первый сезон последняя серия',\n",
              " 'd276bacdd01b43b270c892f5b87f3386': 'страна чудес',\n",
              " '321f64e6c08d2d3e11a4436485ce0c1a': 'хочу посмотреть фильм первые',\n",
              " '63e5a0f134a0531d2d0fb83f2d825268': 'а можешь включить поиск',\n",
              " '9daf3fe85989934da0ebab27557b6a7e': 'сериал добро пожаловать в рай первая серия включить',\n",
              " '686ee8043687fb1ad9ee6bd953384fe1': 'фильм хваран начало смотреть онлайн',\n",
              " 'e940a8542e3dc3e6f243cfd3d27d9034': 'найди в интернете мульт маша и медведь любимые песни',\n",
              " '2fa4134df380794e2b6ce6680e2e3bff': 'можешь мне поставить фильм вербное воскресенье',\n",
              " 'b58ba57f3e735c759ea71a9430b35f85': 'найди мне на ютубе комедийный фильм волшебники из вэйверли плэйс',\n",
              " 'c057c322dc2412b9135a3d5d29c48d53': 'найди ка мне фильм говорящая с призраками',\n",
              " '6c473073094774520f8e00cf97bd2764': 'можешь поставить мультик петя и волк',\n",
              " 'e04f6dbf9e42fc9ab549688bd43180e6': 'можешь найти фильм пять ключей',\n",
              " '42453ab76c81ebab92c2c07e76de8d7c': 'найди пожалуйста в интернете фильм северное сияние',\n",
              " '24bc9065e9267816186c412f59f85b5c': 'фильм паук смотреть',\n",
              " '25e49e8fed13039ccdabca87438f634c': 'найди мне пожалуйста фильм готэм',\n",
              " '0013e73aa240914dd8f2844954809635': 'запусти фильм преступление по американски',\n",
              " '6a68f3ef431413621154b939d3a6e62d': 'найди пожалуйста в интернете фильм счастливый конец',\n",
              " 'd65e50297de4d12bfef79ecd29d679f1': 'план б',\n",
              " 'b3ced5081f7f75f8c243cd50f919c7de': 'может быть посмотрим астрал новое измерение',\n",
              " '5172fbd17dc2927ea161748c4ab577a3': 'хочу посмотреть лучше чем люди',\n",
              " '992e9f1816049e567a17b09f509f0f72': 'мультфильм звездные войны войны клонов один первая серия',\n",
              " '19121851b75e12afa363e594564f1ef2': 'фильм дело гастронома номер один смотреть онлайн',\n",
              " '2115c2e5f1fc61ccfd36e5eb7589c8c2': 'сериал лофт смотреть онлайн',\n",
              " '1980935c186d6b2ba69b925cee4fd91a': 'можешь поставить фильм один доллар',\n",
              " '8ad84a594ec8005ffdfdd76bd75ff7ef': 'смотреть онлайн триллер коллективный разум',\n",
              " 'b689e16de3cedac4f0a4c3cb60392d66': 'поставь мне фильм сумеречная зона',\n",
              " 'cd143fc41330cd9ec1394c72e908cd29': 'сериал освободите вилли побег из пиратской бухты хочу посмотреть включи',\n",
              " '71070f21f5c71965a100ca2b738e2ff2': 'включи сериал обливион два сезон финальная серия',\n",
              " '069e11caa2dc245c600ba16e35f783ad': 'кайл ксай',\n",
              " '088ad646f72bd17f7c1dd67f8b42192e': 'мальчишник часть три',\n",
              " 'b20ed19eb22d22beb9eb37b888e2e00a': 'хочу поставить комедийный фильм давай знакомиться',\n",
              " 'dd90f2b0076c478552e80b1f2a248f1d': 'мультфильм ангел бэби песенка смотреть онлайн',\n",
              " 'f857f14bf9fc82d5645231f1392c0420': 'найди мне на ютуб фильм американская готика',\n",
              " '81571c8c73404350f0deb4c921465d1e': 'приключения в изумрудном городе',\n",
              " 'c654a2f034c2393a7a052f1ada0dae25': 'фильм родители смотреть онлайн',\n",
              " '84a7a75f68d03ae1b524bed9e1f0ebc5': 'поставь по быстрому фильм сезоны дикой природы флорида влажные и засушливые земли',\n",
              " '320b65a1e91839c84a753a2903079f3b': 'сериал элвис и никсон',\n",
              " '70958b5afea931bc929ccc043236cac5': 'драма белая гвардия',\n",
              " '07aa32cedd7bc2a7c9d037be4cb4e250': 'мультсериал вспыш и чудо машинки четвертый сезон',\n",
              " 'a09f768a073e12ba4afd9775c314fec2': 'отступник',\n",
              " '1c302453e450edb423edc0e20ba07afb': 'у можешь мне включать готика',\n",
              " 'e424c64aaa663adb831ea62226dd1c90': 'модель счастливой жизни',\n",
              " '3a2892eb344a6f689361a07fd855a974': 'поставь фильм клуб жен астронавтов',\n",
              " '835ca8318fb8f283d11cf0588ad99b5a': 'фильм нити судьбы включи',\n",
              " 'fb18e024a1a39eae587624d6fa274f19': 'включи мне мультик врумиз только побыстрее',\n",
              " 'abd4be0ba867f32c2dc085f65aca9f8d': 'включи онлайн гранд',\n",
              " '1340d8a7db886731ff94a654498d9023': 'найди мне лигу справедливости что посмотреть',\n",
              " '563085101994416db71bf02344c7481e': 'дневной свет',\n",
              " 'a8177df12f2b2f9a62d0d940321dabbb': 'интерстеллар смотреть онлайн интерстеллар',\n",
              " 'a3266aa6340d18f97f2af936554f39af': 'можешь поставить гарфилда',\n",
              " 'f415b2460b634cc17f8792a076e742a1': 'заклятие смотреть онлайн',\n",
              " '8ecd6f4bc357a940bae3fd2d968af748': 'вруби мне фильм детка',\n",
              " 'aa450672995ac1b2de846c93c8230b49': 'шоссе в никуда',\n",
              " '61d1feebf6630a2136922f606f3dacb6': 'особенности национальной охоты шестой сезон включи пожалуйста',\n",
              " 'fc56328b23f946c9e3346a462d89ba9d': 'враг общества седьмой сезон включи',\n",
              " '335f0abf4ae7786ffcb3b33a3dfc20dc': 'хорошо быть тихоней',\n",
              " '581efe2a0de3f72f1a690fc5063bc183': 'пункт назначения четыре',\n",
              " '5701214bf922e7b22dabc4c53a6e048a': 'вруби ка мне фильм мыслить как преступник поведение подозреваемого',\n",
              " 'b3db4a953408195547e6055d76a0dfdf': 'включи мне сериальчик семнадцать мгновений весны',\n",
              " 'e09591ceba6e1741cc434db5ad213dc5': 'однажды в вегасе',\n",
              " '3fb962936d3123702cc1ecd7021ee962': 'включи фильм сплетенные судьбой',\n",
              " '35fcc2115e5e1ffe9768c87d982ceea0': 'апгрейд',\n",
              " '936d9372b984a2a04037a4959cf8278c': 'третья жена кино смотреть онлайн',\n",
              " '28e2c9819265f9642ac4b141ba485358': 'сериал ленин в октябре ютуб',\n",
              " 'f31424246663663d18f19c06a8035195': 'запусти мне в онлайне фильм первая мировая',\n",
              " '9cdf966c857f9671733711816c40ab84': 'поставь мне фильм я же мать',\n",
              " '31aec8cf81fb9f38a5df411591dc7b32': 'а можешь включить моана',\n",
              " '1b762c9f1680a65d2192325c0755bc68': 'найди мне фильм ип пирогова',\n",
              " 'afa206fb2b35b1d0af1ef91f20b72c43': 'найди мне в нете фильм меня зовут мохаммед али',\n",
              " '4dd111eaf96490b945ee216612dd4d21': 'не будите спящую собаку',\n",
              " '3c0214dbdc6d46d6d1734c774c63f973': 'поставь фильм братья по оружию',\n",
              " '9b4408aa4998c51b22bc1e79c3dca539': 'вторая жизнь уве',\n",
              " '026b30a07c0175162593f21471a478f0': 'поставь фильм любовь по японски',\n",
              " '171e65fd35d4c5e245eb2e553d798e7c': 'фильм черный список смотреть онлайн',\n",
              " '4636e23c4667ad34f9fa2e8cf65cccc0': 'фильм пять дней найдешь мне',\n",
              " 'b491c795c038e921b6af381bfef3345b': 'можешь мне поставить фиксипелки',\n",
              " '74c853d445910510ab90968c684381d4': 'смерть ей к лицу',\n",
              " 'b559e7772adfe8e4b7d09ae1dbf8e78d': 'можешь поставить фильм адмирал',\n",
              " '78e77ba46b15762bd4035813b937d7be': 'включи онлайн энгри бердс в кино',\n",
              " 'd33a311d5bdd07470d3b3d7191b336b7': 'человек из стали смотреть онлайн в хорошем качестве',\n",
              " 'f7f74b613872b0c6725f3e452719e18f': 'сериал филомена смотреть онлайн',\n",
              " '43b00c6af4ba47aced64f11312d3b814': 'поставь мне фильм нереальная история',\n",
              " '6ad32080d970f9173cca2fea0ce6df41': 'лига вочкар битва чемпионов',\n",
              " 'c0790cbb8a46efd372c3496519f553f6': 'рыжий пес',\n",
              " 'ab42e73dc0316758f170dca4643113df': 'включить драма подпольная империя',\n",
              " 'cf0aa4c3de80977f0e8a20e5676aabca': 'поставь фильм беспокойный участок',\n",
              " '1d8529c689ede38861b3b8eb94114edd': 'фильм пелагея и белый бульдог найдешь мне',\n",
              " 'e3a0eb90e4bc66d5bc094c9af33b1788': 'можешь мне поставить фильм право на помилование',\n",
              " '065e01b1755ea28e160e4d40a306802a': 'смотреть печальную балладу для трубы онлайн',\n",
              " 'f025185114ae381e9976e49b74092cb9': 'король лев два гордость симбы',\n",
              " '40fd352fb1aab2ecdd8523b454e54205': 'барби представляет сказку дюймовочка',\n",
              " '794976920f711c5a3ce2fa1db23550fe': 'можешь включить фильм доктор хаус',\n",
              " 'eb4dffa507187b3b3d594be4478a5bfb': 'запусти мне в онлайне фильм смерш продолжение',\n",
              " '2b2e7c8957f4a7f1c65aa41f43a0a20d': 'найди мне в интернете фильм эта англия год тысяча девятьсот восемьдесят шестой',\n",
              " 'fe1ae8cbc40caa0b59460bdf55605eee': 'солт',\n",
              " 'c93b1c053a97a49ded50296b4eb5242d': 'можешь мне поставить фильм дамы шутят по черному',\n",
              " 'a3b8794702768d2290bde0b4484c4b28': 'погоня',\n",
              " 'c27fa5fdd46c04a8670beba794125fd8': 'последователь кино смотреть онлайн',\n",
              " '4120e5121ec7ef38cc5393659c4a3d73': 'найди ка мне сериал большой солдат',\n",
              " '8137ad72cadb2ced2ec586c3cc609fe8': 'хочу посмотреть родина ждет',\n",
              " '99f2d1869a5996195fa0b7efd76c2441': 'включи сериальчик сильва',\n",
              " '4ad429757be8b42c2c25617beb020f17': 'иствикские ведьмы',\n",
              " '9afd155a33a5095892d6c4e752d31652': 'включи мне фильм кадеты',\n",
              " '0f0a787c35070d508dc8a91ff2347fbb': 'суррогаты',\n",
              " '467c1f0706580aab02b96dfb74866662': 'поставь мне фильм воскрешение',\n",
              " '5b51d4d90b0d42a8c468c17df6089dd6': 'включи ка сериальчик вызов',\n",
              " 'de00a07ece2a29537ebc2aa5f7dc593a': 'хочу посмотреть фильм крестный включи мне',\n",
              " 'd1e48a6b5d21a78436ba0b667c1f43bc': 'фильм общий дом в хорошем качестве ультра эйч ди четверка',\n",
              " '9d1ffc720a32e7a244cc4e2d8d5309cf': 'большая буква эр',\n",
              " '112572e6351e9791ba9e040b02e0711f': 'запусти мультик рататуй',\n",
              " '0a5b78ad3f9b31aad9ed348c2f5451e4': 'хочу посмотреть вице президент',\n",
              " 'd87b5bb2905000711328d535d2fb539b': 'загрузи ка мне фильм макромиры',\n",
              " 'c6a01d85f89732783b8d7e500664673a': 'у вас будет ребенок смотреть онлайн в хорошем качестве',\n",
              " 'ed3b742f380f4216ea6bfc92655a65d3': 'алиса в зазеркалье можешь мне найти',\n",
              " 'fc94c33fde29427095c511b2e6938f0f': 'силиконовая долина',\n",
              " '3a0d1b84d0a22fdb37d9c4e7379f7e9a': 'найди мне фильм настоящая кровь',\n",
              " '9611368c1b0b60d4dbe7e0941916de74': 'хочу посмотреть мультик доктор плюшева',\n",
              " '2cf6da931d353ecfffec2157fea9c9b1': 'фильм переправа смотреть',\n",
              " '5ff8c28657df870b3ecc770e263dd1ef': 'поищи мне фильм котовский',\n",
              " 'a602a2defb10c09d4f6ce7904f0cc9ec': 'найди в интернете фильм бандитский петербург шесть журналист',\n",
              " '338df69482c5a7a5046b40748eb28ab9': 'найди на ютубе мультик колобанга только для пользователей интернета',\n",
              " 'd4f846fe8288c65450e6983f53433952': 'найди стальная звезда фильм в качестве ультра эйч ди',\n",
              " 'f1b8d6126f97473b1eeab850a9047fcd': 'целуя девушек',\n",
              " 'b18fb5959d6d4ac33739ff400663178c': 'лесной патруль',\n",
              " '1fa259df17d4d0d4fba14b35dc55fc9b': 'смотреть сериал мерцающие огни третий сезон третья серия',\n",
              " '1b682389986742edf99b0216558b8349': 'фильм сообщество смотреть онлайн',\n",
              " 'd5546bedaac78b84e489e8f55543c694': 'фильм древние сокровища мьянмы смотреть онлайн в хорошем качестве',\n",
              " '290890cbd8983173841535d518a72836': 'призрачная красота запусти пожалуйста',\n",
              " '51b9250c8f7d43c763ed0f7cddf095dc': 'включи мультик истории свинок',\n",
              " 'e5f47b7170796038b40de83a49c09cea': 'найди на ютубе фильм мистер робот',\n",
              " 'c20e062c0a76c70d4f2ba82ea08b61c3': 'хочу посмотреть фильм менталист',\n",
              " '120075a07c2e71bc40aecef2f6baae91': 'красная шапочка',\n",
              " 'cdafba2f4ffaedd7aa11b52f8c13a80a': 'хочу посмотреть родина ждет',\n",
              " 'addf24f9b92698259c13a841417a5bc4': 'распрекрасный принц',\n",
              " 'cb8a62d522246d6fdc9d4be6e364cd55': 'на паузе',\n",
              " 'd12f712748fc2df7612b516c3a9834f1': 'включи мне триллер святилище',\n",
              " '430e6318d38cad2b398b78efd233eeba': 'поставь побыстрее фильм мыслить как преступник за границей',\n",
              " 'ed494830fa5fd4231a9edf513104b959': 'том и джерри возвращение в страну оз',\n",
              " '73e5e0f528c81878c446547f45b0639a': 'сериал русалка озеро мертвых вторая серия',\n",
              " '88931bf0f8f7977df252d24cbd6a2a74': 'можешь поставить быстро мне фильм короткие истории о любви два',\n",
              " '4104bbeba3feb3e01ae12cd9fe8462ae': 'сериал джентельмены предпочитают блондинок',\n",
              " '41741ee9e2937c445ce9e38586e066f4': 'запусти ка мне в интернете фильм бандитский петербург два адвокат',\n",
              " 'fdf944658c56f6a3270c7b647c13fad6': 'смотреть фильм винил онлайн',\n",
              " '0a411e335df6aa41a6c3f8911cfd4907': 'оружейный барон',\n",
              " 'f6e257497ab2a1cad2edb6bd6ae2a038': 'включи мне фильм ивановы ивановы',\n",
              " 'b90fda5ea16fd24b1e5c36143c9017f1': 'смотреть мультфильм кот котофеевич',\n",
              " '21018b51e4ca4e2380bd5e379fd4ac5f': 'хочу игра престолов позырить включи',\n",
              " '931636fffe1f052c42d79fa2b5a5b7a4': 'хочу смотреть правосудие',\n",
              " 'a038fadcbcec0f841e5d8c247450793b': 'дальше по коридору',\n",
              " '4aace8954781dab7a00e760873205de3': 'можешь включить джуманджи зов джунглей какой нибудь сезон',\n",
              " 'd77185d7cea266a63a1310cad9237783': 'запусти мультик зверопой',\n",
              " '14b4155f91830335a2d5d3540a8c2f01': 'включи сериал открытое море второй сезон шестая серия',\n",
              " 'f0c19cb95f754724034cb7c1207b245b': 'алладин мультфильм найди',\n",
              " '7329a42d7618a7e85f3de17e58aecb6b': 'свет вокруг',\n",
              " '7f7f47c2b705e1c09e3cc9c4b5371df9': 'включи мне детектив смерш продолжение',\n",
              " '21362904e9ce0674493afaa2f8098c47': 'можешь пожалуйста поскорее поставить фильм россия молодая',\n",
              " '4dd5bcea7a679eabdb16bfd4e26b613b': 'сериал клод в помощь хочу посмотреть включи',\n",
              " '011e05c0fd50d44714c3e1d87c2f4aa5': 'фильм черный список смотреть онлайн',\n",
              " '38b78b893107fed9f2eaeafbee54d91e': 'хочу посмотреть фильм чудо слезы мадонны',\n",
              " '0b9bd30441ff05bf75950c182b5af6c1': 'найди мне фильм история жизни',\n",
              " '955a431b919cf49d75d9b903cced7f13': 'можешь включить фильм баффи истребительница вампиров',\n",
              " '4f94325e948e6576519ac78528352585': 'на гребне первый сезон четвертая серия смотреть онлайн',\n",
              " '661689888bb032cd59d9e290f8df1713': 'включить драма карнавал',\n",
              " '53a00ce101151af7dfb3e0799f538f35': 'хочу посмотреть вечность',\n",
              " 'e4145645f10f493aa1e2107070c92151': 'запусти мне фильм странный ангел',\n",
              " '839402f9f4cf7ad3e66c097ab3be1768': 'а можешь включить мне чудаки',\n",
              " 'e8a5054c0ff44d5c2cb8a0d453eb07a2': 'маленькие секреты',\n",
              " 'ee43e52398d5a4ad6bf73101cb6b187a': 'залечь на дно в брюгге',\n",
              " 'd8b17096f6d8e285ef6f39e42ddf193d': 'племяшка',\n",
              " '035730e1aaadfd416b39f1f9daa9c9ce': 'фильм это англия год тысяча девятьсот восемьдесят шестой смотреть онлайн',\n",
              " '23d972e984a430a6efa0070762d794e7': 'хочу посмотреть драма ответный удар',\n",
              " '0d21a96b96156df4340a22c3f06497d8': 'вруби ка мне фильм теория большого взрыва',\n",
              " '2387ccf563417eecba9210e0cecf38d6': 'поставь мне по быстрому фильм тайны и ложь',\n",
              " 'fd78a9a331d5d96e20e02236441ad0f2': 'можешь включить фильм американская семейка с натали портман',\n",
              " '6fff40f28519242f306c37603f4a6d53': 'найди пожалуйста в интернете фильм реанимация',\n",
              " 'f5a024fc4aee3678af94e94f9a848f98': 'найди мне по быстрому фильм чудо слезы мадонны',\n",
              " '7a46a73ca8909e9b384b92a0f0d9c44a': 'включи мне суини тодд',\n",
              " 'c8049ce44bfa79226b1fac1e9860e1b4': 'антибумер',\n",
              " '3afd023e1455a5dd1602d33240ce207f': 'искусственный интеллект',\n",
              " '81b60ca2b780e2dfea0f14c68f5cf006': 'мультик пикачу вруби',\n",
              " '9c78829c11fd5053ce8da9828d2cb254': 'чикого',\n",
              " '02934a2f7d7f18c02c2141c9076100a3': 'толстяк на ринге',\n",
              " 'cf99669f27cdbf08e60538d664b637f7': 'можешь включить сериал любовник моей жены',\n",
              " 'ca90988b8a7ad23d1e523e5ca40148a3': 'а можешь включить мне дикая история',\n",
              " '392f32864f8c36551c86ba81d8fcecd3': 'голодные игры можешь мне найти',\n",
              " 'b4718532972f344abadabf8e4b310e24': 'найди в интернете фильм мосгорсмех',\n",
              " '7ef1046a893061a13959b624e9bb03bb': 'хочу посмотреть кино кулинарный тур называется',\n",
              " 'e68268c82279d1e414baf922f39613ab': 'кунг фу панда два',\n",
              " 'ad44bbcb068a6a11675ad41762221feb': 'пять невест',\n",
              " 'ce00fd038b61cbf37706e90f3c38d111': 'воспитание чувств',\n",
              " '2fee66274491a5cb0262f3841c75b893': 'можешь поставить сериал скорый москва россия',\n",
              " '15f3b01f3be8f8cb1570b365d22d2a18': 'загрузи ка мне фильм тайная жизнь кенгуру',\n",
              " 'eceff6026744d294b540921def534550': 'руслан и людмила перезагрузка',\n",
              " '20157827aec99c47c0611260758d2840': 'черная месса',\n",
              " 'a98639f631805ed938d4b54bca0bbd76': 'смотреть сериал полтергейст',\n",
              " '8de8ac635e8aa1dedb361b4fd5b21b13': 'хочу смотреть драма воин',\n",
              " '2079e0219f001a90f5b7213e5f1cf84f': 'неверная',\n",
              " '6e52955337463ba2e4181d3e7c7b8762': 'сериал совместная поездка можешь мне включить',\n",
              " '106f7ccc4f3f3854dc379d872abf4ec1': 'роми и мишель на встрече выпускников',\n",
              " 'aba1b9cb1cd94cdafd1acee0c85c6680': 'крошка молли',\n",
              " '0b5331f8931393aa3363034365c29a8c': 'а бесславные ублюдки можешь найти в интернете',\n",
              " 'f855ceb54229732326011a944fa1bf08': 'слушай я хочу посмотреть игры разума включи мне',\n",
              " '8af61d75cc0b8830932c16df53009ab3': 'автобан',\n",
              " '22e889ea102f72b54f79e7439727948c': 'запусти фильм первая',\n",
              " '88fce9360a1ba7734442f43318034f8f': 'хочу позырить брачный контракт',\n",
              " '29da68b7c634007c4ce26222ceb862f3': 'найди ка по быстрому фильм девушка по вызову',\n",
              " '9dc85b5e5d52ec380ddcbdd2cdf16197': 'вруби мне сделано в америке',\n",
              " 'eadf9fb0618e52aecfd36b2e05780339': 'хочу посмотреть каждому свое',\n",
              " '0ee55313f13b675c5a7386b71d818825': 'найди мне пожалуйста в интернете фильм стальная звезда',\n",
              " '9225fe37f0074876e1c505d6a8598ce0': 'запусти мне в онлайне фильм пять дней',\n",
              " 'b356742a4436b2b23dbbe53fba3a8925': 'сериал новая зеландия забытый рай',\n",
              " '5077b42cb6507d82e400d6db09726dd4': 'запусти сериал брюс ли рождение дракона',\n",
              " 'db2007b5a8b3956f2644e0f38154152e': 'мисс пуля',\n",
              " '24c1c4c89183328799a9ef9aec9e4d30': 'приключения мистера пибоди и шермана',\n",
              " 'c27ccad6b7e629405d1944f8a051871d': 'доктор плюшева мульт вруби',\n",
              " '65a63891e8e12cc37e5ccccd32c736e4': 'включи клип с пультом по жизни',\n",
              " '3b6c4128e1b600e9979832aec709a2db': 'можешь врубить мамочки срочно',\n",
              " '5e9a78c4f9c3ed108fb5152f7d128e8c': 'хочу посмотреть фильм сумеречная зона',\n",
              " '0bab53944efb5a97349eac1cd8d2f5ac': 'смотреть сериал жили были',\n",
              " '0fe455e07687bddbe7852b0ae73584ef': 'убийство на троих',\n",
              " 'f5dd0a06e8ad0e2cb8a1af92f42c4ef0': 'можешь включить сериал стоик выжить любой ценой',\n",
              " 'afb0566ea889ffb012c791d03c137bd4': 'город бога',\n",
              " '1e269b8996e6ee9d38a17033ee81f404': 'вруби российский фильм крот два',\n",
              " '7aa6043d694cdb801f8547e36761da8b': 'а можешь секреты игры престолов поставить фильм',\n",
              " '3799acbe2122c693e6d7fd021b9d07b1': 'счастья здоровья',\n",
              " '968255ee71450b05bd4ff48ca4be9ad9': 'без лица',\n",
              " '8779a1ed4f252d798509465bbef503f3': 'найди ка в интернете мультик робокар поли и его друзья',\n",
              " '4a4add78a7f6b0ddb9e363f3fbfe542c': 'запусти ка мне в интернете фильм битва за севастополь',\n",
              " 'dc7fcd7df770e4c91028ca7880c088e8': 'ликвидация',\n",
              " '6fda8dbe246c77983d9c6c37982c6bb5': 'мультфильм мунг смотреть онлайн',\n",
              " '4fc3dc1f9bc95329fd50f4ca2f9ff90b': 'хочу посмотреть анна каренина фильм включи',\n",
              " 'ea6e5e52152152a56e7cfbb1b70f4422': 'поставь первый сезон сериала единичка',\n",
              " '56eb272a1e6e04673cdb626a2abe447f': 'игра престолов',\n",
              " '47f100d3baba23fa1ca7e0b9c0903268': 'нежность',\n",
              " '90bdd32e06b51d45b6887e870483a072': 'нью йоркские истории',\n",
              " '31f27276371bb5ce6b1cb1146a420fb3': 'включи мне фильм на дне',\n",
              " '8dc585d934435cc39bff4da1cf7e3cea': 'хочу смотреть фильм счастливый город',\n",
              " '5ef2223cd8397af1e009a327d6287824': 'а поставь ка мне фильм дурман',\n",
              " 'c185b66823bfbcae030a26a28b65b845': 'поставь мне фильм нюхач',\n",
              " 'be782cc81ce777f916b5d6cf2c1e697c': 'найди ка мне фильм связи',\n",
              " '7c36fba9932df54f8605e64352814a11': 'смотреть мультсериал спортания третья серия',\n",
              " '1a72e5a9ba6b87bc82ade3a48f6d24f6': 'мираж',\n",
              " '0eaac0596ae795ba13d8af93037cfff1': 'а можешь включить рапунцель счастлива навсегда',\n",
              " '5bbad8501a5241337b72bdceb9ba9452': 'личное пространство',\n",
              " 'bbece674903e81edf4ad9afc78ea5d83': 'найди мне фильм открывая казахстан',\n",
              " '1486dcede29541596839fe12066bb906': 'непрощенный',\n",
              " 'a8fab431f843451e60878084b8a034ff': 'фильм яд достижения эволюции смотреть онлайн',\n",
              " 'fe97bd6a88f6e5e8168afa0cedb86b04': 'фильм волшебники из вэйверли плэйс смотреть онлайн',\n",
              " 'eaf8f4b9afdd082104e1ee1f8f7fefe8': 'вруби мне в поисках немо',\n",
              " 'd0e1977e482b635d9a5b0356efcd7851': 'можешь включить сериал паприка четвертый сезон',\n",
              " '2c4b939e22c55b1b470dbc5b3fa812b6': 'исполнитель желаний',\n",
              " 'f22f026dff66e9415da785c20fc5ca35': 'найди мне фильм московские тайны гости из прошлого',\n",
              " '5a3f3c0cada80c51892e2b00c77e503e': 'смотреть мультсериал энгри бердс стелла короткометражные мультфильмы пятая серия',\n",
              " 'afb49f112087b6468607f933dc438738': 'хочу смотреть фильм следствие по телу',\n",
              " '8caa12041046e21a4824e699f606619d': 'смотреть сериал за что мне это первый сезон четвертая серия',\n",
              " '0daa733ddc8d4137ec252565761ff68e': 'найди мне историю игрушек четыре',\n",
              " '17b850f1910136e2d0671e28cf7ea85a': 'включи фильм охотники за бриллиантами',\n",
              " '4a0a6cedbaa3aeaf8f10b0f7049889c9': 'комната сто четыре фильм включи',\n",
              " 'ecbb24228b66467cbd6d1f3673cb9561': 'можешь врубить человек из стали срочно',\n",
              " '1ad5333199ff9304c2572e5f245f095d': 'мартовские коты',\n",
              " '2355bc735d30165282b385fc4c415f47': 'включи сериальчик заложники',\n",
              " 'd66b47c9115336e311a42ec08891f45c': 'хочу посмотреть кино рассказ служанки называется',\n",
              " '5df431253ad24b4f6b6b67b1f1a49693': 'сериал тринадцатый воин два сезон два серия смотреть онлайн',\n",
              " '6aeb97de180896c2cf9114495be3556d': 'хочу посмотреть страшные сказки включи пожалуйста',\n",
              " '09ea4d8f8e72d4663ffdc09fb6f988de': 'хочу поставить фильм трудно быть мачо',\n",
              " '56468503c833022800a7718ad6975214': 'мультик волшебный фонарь смотреть онлайн',\n",
              " 'd235d9170de69dce45a7ce88cc86ae7c': 'можешь поставить проповедник',\n",
              " 'c56a2df948b0a1f85f572abf3bbb9755': 'вруби человек в железной маске',\n",
              " '3c26989873a8a80dc6426b095bb1f057': 'поставь мне фильм битва за севастополь',\n",
              " '1b04b8d418104561ebb394142e866f41': 'хочу смотреть боевик смерть шпионам',\n",
              " 'ca221a4d84a93dd53cf500cdf4385ab3': 'безумный макс дорога ярости смотреть онлайн в хорошем качестве',\n",
              " 'fc5a03fa0ff24b26ab3bfc6065db6a75': 'хочу посмотреть сериал отважные финальная серия четвертого сезона',\n",
              " '03f0dd8aeb006a05dc1ae62e706704cf': 'сериал мирный воин четвертая серия включить',\n",
              " 'fa6992289e6c131ecaa7dfc97c1f9036': 'а поставь ка мне фильм герой нашего времени',\n",
              " '0645f2bcfee16b22bef7c082b3b488f9': 'можешь поставить мне кино медичи повелители флоренции',\n",
              " 'df2480c0d8d93b8bdd516f4ea51f89d6': 'хочу посмотреть фильм стрелок',\n",
              " '3f29020ae5d7140fec2da5a1d8b2730d': 'хочу посмотреть фильм тайны миллиардера включи быстрее',\n",
              " '17a060356220e32f93858dbe61c4ddff': 'поставь гарри поттер и дары смерти часть один',\n",
              " 'c36682bf649dc96877f6807e7770974b': 'селфи',\n",
              " '8b00158d1bba0e31d611ed704fb14d56': 'ну ка включи мне фильм тысяча девятьсот сорок один',\n",
              " '6d7539a2cc0a45d8be03abb6bd499ef1': 'смотреть сериал столкновение с бездной пятый сезон последняя серия',\n",
              " '4337162fedfdc5164f581134b2389560': 'найди мне пожалуйста фильм звездочет',\n",
              " 'bf36ad94583ba6af371546b8612756e2': 'хочу посмотреть сериал маленькая черная книжка третий сезон первую серию',\n",
              " 'dd46189cd6ee9edb3cd8de9378d0a220': 'хороший мальчик запусти пожалуйста',\n",
              " '4a366b755ff7ff35845668f72d062416': 'а найдешь мне фильм право на помилование',\n",
              " 'b9820abc8c01ab75d135bd6fb7ec224f': 'найди мне зверята кино',\n",
              " '28cd63edf8d7e8299f4be0ba3538b21e': 'смотреть онлайн мультфильм паддингтон первая часть',\n",
              " 'cb70883f50c9c8e58c729b90852767d0': 'прощай любимая',\n",
              " 'a1de305f10f7689265658ce7ea2d9de2': 'найди пожалуйста фильм тихий океан',\n",
              " '80ecbf2045598072a8dba46d2570a81a': 'сериальчик пятое измерение',\n",
              " '1d6c38f2ea234c76ff4392df7677a046': 'можешь включить сериал макс пейн',\n",
              " 'e41cbf386c34d3f69038ed9a92f139e8': 'можешь мне поставить фильм помнить все',\n",
              " '4d8be96356b361bc620ed11f546ed2a5': 'ключ без права передачи сериал смотреть',\n",
              " '37f1b3b876b42230cfa55eb2d9dcf0ca': 'хочу посмотреть мультик сердитые птички пушистики',\n",
              " '518994c630e51b656180dc507f02407a': 'а можешь поставить фильм черная комедия',\n",
              " '5a36155744da04c57bc747cd5716a684': 'найди в интернете фильм счастливый город',\n",
              " '4c9b0f7374d3e71bf213624caf5d8e9a': 'сериальчик день выборов два пятый сезон четвертая серия',\n",
              " 'c642fadd83532a024bc218f786156f80': 'властелин колец братство кольца',\n",
              " '2b24226d26725c4e9979f46fb726cf9e': 'ну ка включи мне фильм северное сияние',\n",
              " '14755b86893e696e844de325cad360c2': 'фильм светофор смотреть онлайн',\n",
              " '0fb83528918891b5bf545f04bbb23d8b': 'коллекция',\n",
              " '48b54abafcf69c386d7f76ec5a8b08b6': 'хочу поставить комедийный фильм вместе',\n",
              " 'b5c503e14598e405adec273943eb7999': 'загрузи мне сериал похороны сталина',\n",
              " '70479b8df1de8d27503571c575976aab': 'хочу чтобы ты включил мне тайную жизнь домашних животных два пожалуйста',\n",
              " '6fdef46336c67e5b4b73b18622aacf27': 'сериал анна и король восьмая серия шестого сезона',\n",
              " 'd99a0e7796f07bc4d3aed119aed69a6f': 'полицейский из беверли хиллз',\n",
              " 'c84facb1a543309f28fdce9f13127440': 'фильм цари и пророки смотреть онлайн в хорошем качестве',\n",
              " '77f4f83da3cdca1ae2d1f92e26774cc1': 'можешь включить сериал зови меня сумасшедшим',\n",
              " '5c793699ddcce05f081995f6595821dc': 'запусти фильм инкассаторы',\n",
              " 'd4f27a863d5411c59d65c83b9a942c7f': 'фильм не придуманная жизнь смотреть',\n",
              " '97c7dfda3d19441fe0f9648c0c0532a2': 'включи мне фильм джона путча город хищниц',\n",
              " '53fdfd55834c1d3c98093f0e239cf656': 'можешь мне поставить фильм дракула',\n",
              " 'c58d62c1a96779796e4992736bd71cc7': 'одаренная',\n",
              " 'dcf4495a9e5fe5e3e63a4dbcc32dc93f': 'а можешь включить спирит душа прерий',\n",
              " '3a91dd24a06d94e98ce803bd4a6df7c1': 'найди мне детектив смерш продолжение в интернете',\n",
              " 'a133d0c3b576e3a2a687ef0c4781f162': 'мультик человек паук смотреть онлайн',\n",
              " '344e23a209c96035c36c19832f301132': 'найди на ютуб сериал во имя справедливости четвертый сезон финальная серия',\n",
              " '2152e68ee25138a43c319bacf6a6786c': 'включи мне пятую серию сериала между нами музыка',\n",
              " '70ad0026b121b067551c8e691421c50a': 'слушай я хочу посмотреть доктор хаус включи мне',\n",
              " '839eabd6a49d30e1ef23c6021515f993': 'шторм',\n",
              " '0f7c661431c3c42587537093b7da8b26': 'стройка фильм смотреть',\n",
              " 'd04dc134f26f1a0a493ea9ff44d46838': 'смотреть онлайн мультфильм пузыри',\n",
              " '87fc010ce76ec2bd61b0dc15df413c9e': 'смотреть онлайн фильм драма домохозяин',\n",
              " 'c91b7600e43db3bd1b3552eb30500035': 'найди фильм цена жизни',\n",
              " '2efd6a0cd9d139499a7fe3066e837bc5': 'можешь мне поскорее поставить фильм гнездо ласточки',\n",
              " '718cd8a34cc45e14b1a2dd5662afd79c': 'а можешь включить мост',\n",
              " 'bb5af24e828ea12a2248f59a105083e2': 'сериал проклятый камень шестая серия смотреть онлайн',\n",
              " '5bf26e84c8e4ef3e71d2c900164267b9': 'запусти мне в онлайне фильм анжелика',\n",
              " '6c312a56d10dfdb2a5b33398a21d990c': 'слушай я хочу посмотреть явление включи мне',\n",
              " 'b7903d509922bb5da65e43d00e415f57': 'ну ка быстро включи мне фильм бомба',\n",
              " '9f6ab1cc57527660cb2f7a3ae10afc93': 'мультсериал каракуля один два серия',\n",
              " '991046bbf929772c387db2725e70e303': 'поставь мультик истории свинок третий акт',\n",
              " 'df9a18107e7e6917beb3cb81b61135e9': 'хочу поставить драма их перепутали в роддоме',\n",
              " '82d068ac75e92700a1a47c93c45d883c': 'фильм вернешься поговорим смотреть онлайн',\n",
              " '4c3c8b5e62a1990dfa8923c0d50b7ecd': 'приключения тома сойера',\n",
              " '679b70c6c45ac5426e250b1deb9127a0': 'как посмотреть барби балерина в розовых пуантах',\n",
              " 'f3e2de8c2fe6159080ebfe539a53edb1': 'найди пожалуйста в интернете фильм люцифер',\n",
              " '3c3212284ee9ea6b4e04f72efabd1eb6': 'включи ка мне драма время',\n",
              " 'e9467c84926d099648e39a362ca2a6cb': 'пушистый шпион',\n",
              " '80309063ed5df3fee750dba23a7c72c2': 'хочу фильм посмотреть сшиватели',\n",
              " '8b0c537c8814d25ac2ccb298ca8ccfe2': 'а можешь мне включить криминальное чтиво пожалуйста',\n",
              " '88ecf41649df399d05bdeccf65222a58': 'хочу посмотреть в ритме танго',\n",
              " '419699b39100edf1bef4752d9c1315cf': 'сможешь найти фильм один доллар',\n",
              " '0979b1b9f75b4096dd082fe804dc1d13': 'вруби российский фильм светофор',\n",
              " 'ccf0c3e9a9a8216e70269e06d2007f8a': 'каменская',\n",
              " '2fd0f2d1e01f9dfa2fb783db420c0caa': 'гангстер',\n",
              " '1dbb7b8ca2dc73f268cf6221facead5d': 'можешь включить сериал рок четвертый сезон',\n",
              " '5228333dc65eae3f81f9f205540daf4f': 'найди мультик врумиз четвертая часть',\n",
              " '1050f972fbf43e71f30f13b14cf4b0d1': 'мультсериал гора самоцветов шестая серия',\n",
              " '7a93c52caeb28e1d1a66300b1353dddb': 'можешь включить сериал сестры',\n",
              " '01b64f7f45e6175ff917d113a085adfb': 'хочу посмотреть фильм бэтмен дурная кровь',\n",
              " '77a9d80778a3243a06cbab40a2e22e53': 'хочу посмотреть фильм мышеловка на три персоны ну ка включи',\n",
              " '000c125612690fa2e1e18c9567a120ba': 'поставь мне фильм ликвидация',\n",
              " '5640a87933eff80b8ac0d2b158a3f2f2': 'хочу смотреть сериал годзилла ультра эйч ди четыре к седьмой сезон',\n",
              " '34bc8ccc307ee3ac9f7fc0687a6c9d99': 'можешь мне поставить фильм одна за всех',\n",
              " '4734cdcdb9d21ae26a359bde59629a2c': 'как поймать монстра',\n",
              " '15292591295366696b6efee720929caa': 'запусти мне мультик бобр добр',\n",
              " '05c971568c2da9e154eb913c887e23df': 'можешь поставить сериал сомния',\n",
              " '2d0247a2fe6433f8297a3b01826a8778': 'найди мне фильм мировая прогулка оаэ шарджа',\n",
              " 'aaf994e1bf1e27befa201321ff4fecb7': 'запусти сериал знакомьтесь джо блэк первая серия',\n",
              " '32d760909f1a080db718f4c792d04e25': 'можешь включить сериал элитное общество шестой сезон',\n",
              " 'ec353ca715ecddde3f7f4b1233a22a22': 'дикие животные завоевание мегаполиса',\n",
              " '83cb5f68e80ebc8772a5431f80bef965': 'хочу смотреть драма скандал',\n",
              " '302ddae080336cffaa6536e760ddd709': 'найди мне фильм варан начало',\n",
              " 'fd143d29e8f492ce55716a5cabd6aeb1': 'казахстан от края до края',\n",
              " 'ab9bb6c88f1a88cd63d7dce31b31e10e': 'мяу мяу ультра эйч ди смотреть онлайн',\n",
              " '3cf17fcab6b1bbab70ef9f19e1c73896': 'криминальный амстердам кино смотреть онлайн',\n",
              " '9f342bdd1ffe0786a503d522d519e96a': 'арктика рискованная экспедиция фильм смотреть онлайн',\n",
              " '6b8263605fff59db4a12ac9a68927383': 'фильм мальчики краше цветов найдешь мне',\n",
              " '5369f2585df1f8c95f2a3582ea511807': 'хочу посмотреть дом с лилиями',\n",
              " '67cf1df39c8bfbd231d3d3e310771c2e': 'смотреть трансформеров онлайн',\n",
              " '2c4a12d3bf516dcd3ba7ca13066b642d': 'исход цари и боги',\n",
              " '411f0e58ce43e93ad3f34deaa5506b67': 'включить боевик ночные ласточки',\n",
              " '4f4cf453ae82fcec2699942687f9c9e9': 'поставь мне мульт мимимишки',\n",
              " '4bdb091272f6a866730f76874bb4fbf0': 'мультсериал квадратные зверюшки одиннадцатая серия',\n",
              " 'a3bf10fcb4d1a2189bdd0b7114436980': 'смотреть сериал меч короля артура четвертый сезон четвертая серия',\n",
              " '18e85324e16195a2e329add00a32206d': 'бал монстров',\n",
              " '0978ff786f6934050a243cd7cd6a85b6': 'запусти фильм третья мировая',\n",
              " 'ff485c4898fb47b1fa0fbfab72426a62': 'фильм мой брат смотреть онлайн',\n",
              " '024b45ffce9550dfb010eeea0a903edc': 'включи документалку фильм годы',\n",
              " '176d24993f8a1f5e72e893ec7498c3c6': 'включи мне девятую серию сериала абатуар',\n",
              " 'a69ba68a23687cd2c1389f141852b787': 'запусти сериал битва за остров сокровищ шестая серия',\n",
              " '7ae3be12129c8c5d4e7a92a68dc1cd16': 'смотреть сериал рокетмен',\n",
              " '59259fefe3978d18a676c76514bea2ad': 'хочу смотреть фильм белая гвардия',\n",
              " '18ebbdf08f85c95bef6958181637b0d5': 'найди пожалуйста фильм тайны смолвиля',\n",
              " '1629b9780fb7c82e7c98d45a6cc6b089': 'можешь поставить фильм древние',\n",
              " 'a15c7d224e921586e9330b4767040262': 'хочу посмотреть любовники фильм включи',\n",
              " '781935ca786f99cdd07b3bebfaa0458b': 'святой майк',\n",
              " '1e9b3634302a1a889a6060db4b82b3d8': 'бэтмен дурная кровь',\n",
              " '1bbda4caa3a196dfa5ce540e3fe28e25': 'хочу посмотреть фильм ничего личного',\n",
              " '615fef6291bfdf5d0ec75580188a9b7b': 'хочу посмотреть онлайн ничего личного',\n",
              " '1aa3a3b700c8f5eadfb15cdb65c66eda': 'противостояние',\n",
              " '43f5e9b316f3ee232ccdd424ecf840ea': 'чем дальше в лес',\n",
              " '1b5de6adca8ca4150cd5158845a54d61': 'найди фильм игра престолов',\n",
              " 'e8b0575bdc93e0d185add47dc5b4eaa0': 'можешь пожалуйста поскорее поставить фильм блиндаж',\n",
              " '5d02a4f798eec3cd17ca1bc34b36166f': 'смотреть онлайн фильм крик совы',\n",
              " '9644ac764d218058e261b83a9f3d8ac3': 'фильм три дороги в хорошем качестве ультра эйчди четыре ка',\n",
              " '39b5a3c33bb163f3cd3f39ce04778f1f': 'госпожа америка сериал смотреть',\n",
              " '838d5f81e0268c4802ef2df27b83b933': 'можешь мне поставить драма когда растаял снег',\n",
              " 'fe0338ec3f566b4abad307534ff34a00': 'можешь поставить фильм королева при исполнении',\n",
              " ...}"
            ]
          },
          "metadata": {},
          "execution_count": 24
        }
      ]
    },
    {
      "cell_type": "code",
      "metadata": {
        "id": "BKjxcJinC5yk",
        "colab": {
          "base_uri": "https://localhost:8080/"
        },
        "outputId": "0a7f5bf8-5009-4c53-adb8-680428f558bd"
      },
      "source": [
        "predicted_name_map"
      ],
      "execution_count": null,
      "outputs": [
        {
          "output_type": "execute_result",
          "data": {
            "text/plain": [
              "{}"
            ]
          },
          "metadata": {},
          "execution_count": 25
        }
      ]
    },
    {
      "cell_type": "code",
      "metadata": {
        "colab": {
          "base_uri": "https://localhost:8080/"
        },
        "id": "g3_bJD8gNytI",
        "outputId": "99196520-3598-4475-d0ef-ca0ba61849b1"
      },
      "source": [
        "len(pred_text)"
      ],
      "execution_count": null,
      "outputs": [
        {
          "output_type": "execute_result",
          "data": {
            "text/plain": [
              "39635"
            ]
          },
          "metadata": {},
          "execution_count": 26
        }
      ]
    },
    {
      "cell_type": "code",
      "metadata": {
        "id": "UR478RIKN171"
      },
      "source": [
        "len(names)"
      ],
      "execution_count": null,
      "outputs": []
    },
    {
      "cell_type": "code",
      "metadata": {
        "id": "ID5HSVT_AgCC"
      },
      "source": [
        "for i in range(len(pred_text)):\n",
        "  if names[i][:-4] == '375e547e51a71f9e18b811dd89244baf':\n",
        "    continue\n",
        "  predicted_name_map[names[i][:-4]]=pred_text[i]"
      ],
      "execution_count": null,
      "outputs": []
    },
    {
      "cell_type": "code",
      "metadata": {
        "id": "a_8_vR-eAIG2"
      },
      "source": [
        "for id in names:\n",
        "  print(true_names_map[id[:-4]],\"  \", predicted_name_map[id[:-4]])"
      ],
      "execution_count": null,
      "outputs": []
    },
    {
      "cell_type": "code",
      "metadata": {
        "id": "rDv2dC2IAIJl"
      },
      "source": [
        "true_names_map"
      ],
      "execution_count": null,
      "outputs": []
    },
    {
      "cell_type": "code",
      "metadata": {
        "colab": {
          "base_uri": "https://localhost:8080/"
        },
        "id": "tXCx5izCLdEZ",
        "outputId": "59e072fd-2dbd-464c-ef8c-7962d501cb31"
      },
      "source": [
        "pip install Levenshtein"
      ],
      "execution_count": null,
      "outputs": [
        {
          "output_type": "stream",
          "name": "stdout",
          "text": [
            "Collecting Levenshtein\n",
            "  Downloading Levenshtein-0.16.0-cp37-cp37m-manylinux_2_5_x86_64.manylinux1_x86_64.manylinux_2_12_x86_64.manylinux2010_x86_64.whl (110 kB)\n",
            "\u001b[?25l\r\u001b[K     |███                             | 10 kB 24.0 MB/s eta 0:00:01\r\u001b[K     |██████                          | 20 kB 26.7 MB/s eta 0:00:01\r\u001b[K     |█████████                       | 30 kB 11.8 MB/s eta 0:00:01\r\u001b[K     |███████████▉                    | 40 kB 9.3 MB/s eta 0:00:01\r\u001b[K     |██████████████▉                 | 51 kB 5.4 MB/s eta 0:00:01\r\u001b[K     |█████████████████▉              | 61 kB 5.9 MB/s eta 0:00:01\r\u001b[K     |████████████████████▊           | 71 kB 5.7 MB/s eta 0:00:01\r\u001b[K     |███████████████████████▊        | 81 kB 6.3 MB/s eta 0:00:01\r\u001b[K     |██████████████████████████▊     | 92 kB 4.9 MB/s eta 0:00:01\r\u001b[K     |█████████████████████████████▋  | 102 kB 5.3 MB/s eta 0:00:01\r\u001b[K     |████████████████████████████████| 110 kB 5.3 MB/s \n",
            "\u001b[?25hRequirement already satisfied: rapidfuzz<1.9,>=1.8.2 in /usr/local/lib/python3.7/dist-packages (from Levenshtein) (1.8.3)\n",
            "Installing collected packages: Levenshtein\n",
            "Successfully installed Levenshtein-0.16.0\n"
          ]
        }
      ]
    },
    {
      "cell_type": "code",
      "metadata": {
        "id": "zm9m36EcAIMk"
      },
      "source": [
        "import Levenshtein as lev"
      ],
      "execution_count": null,
      "outputs": []
    },
    {
      "cell_type": "code",
      "metadata": {
        "id": "AAXelZ2Elr3d",
        "colab": {
          "base_uri": "https://localhost:8080/"
        },
        "outputId": "2bdbb018-2e25-440b-fb21-d3e399779246"
      },
      "source": [
        "Str1 = \"Apple Inc.\"\n",
        "Str2 = \"\"\n",
        "Distance = lev.distance(Str1.lower(),Str2.lower()),\n",
        "print(Distance)\n",
        "Ratio = lev.ratio(Str1.lower(),Str2.lower())\n",
        "print(Ratio)"
      ],
      "execution_count": null,
      "outputs": [
        {
          "output_type": "stream",
          "name": "stdout",
          "text": [
            "(10,)\n",
            "0.0\n"
          ]
        }
      ]
    },
    {
      "cell_type": "code",
      "metadata": {
        "id": "qXCzPbHQlr59"
      },
      "source": [
        "arr_for_tune = []"
      ],
      "execution_count": null,
      "outputs": []
    },
    {
      "cell_type": "code",
      "metadata": {
        "id": "ChOHFKfkMa_J"
      },
      "source": [
        "for id in names:\n",
        "  try :len(predicted_name_map[id[:-4]]) \n",
        "  except KeyError: continue\n",
        "  Ratio = lev.ratio(true_names_map[id[:-4]], predicted_name_map[id[:-4]])\n",
        "  if Ratio < 0.75:\n",
        "    arr_for_tune.append(id[:-4])"
      ],
      "execution_count": null,
      "outputs": []
    },
    {
      "cell_type": "code",
      "metadata": {
        "colab": {
          "base_uri": "https://localhost:8080/"
        },
        "id": "z6y5HX5cMWGT",
        "outputId": "d5b3316d-407d-4b86-c66f-8f019f2ccaa9"
      },
      "source": [
        "len(arr_for_tune)"
      ],
      "execution_count": null,
      "outputs": [
        {
          "output_type": "execute_result",
          "data": {
            "text/plain": [
              "25503"
            ]
          },
          "metadata": {},
          "execution_count": 60
        }
      ]
    },
    {
      "cell_type": "code",
      "metadata": {
        "id": "qr3-JCSvosXX"
      },
      "source": [
        "check_table = {}\n",
        "for id in arr_for_tune:\n",
        "  check_table[id] = True"
      ],
      "execution_count": null,
      "outputs": []
    },
    {
      "cell_type": "code",
      "metadata": {
        "colab": {
          "base_uri": "https://localhost:8080/"
        },
        "id": "XFKQEDaW0jPu",
        "outputId": "f2c96eb5-d6f1-43f7-d41b-b8549bcf4515"
      },
      "source": [
        "check_table['855e01d6ba9a4aa59950d62037b87709']"
      ],
      "execution_count": null,
      "outputs": [
        {
          "output_type": "execute_result",
          "data": {
            "text/plain": [
              "True"
            ]
          },
          "metadata": {},
          "execution_count": 62
        }
      ]
    },
    {
      "cell_type": "code",
      "metadata": {
        "colab": {
          "base_uri": "https://localhost:8080/"
        },
        "id": "vzBRSzg5osaN",
        "outputId": "a821b3d3-31ec-48aa-fff0-12cd73b29f19"
      },
      "source": [
        "# --- Building Manifest Files --- #\n",
        "\n",
        "# Function to build a manifest\n",
        "def build_manifest2(manifest_rel, manifest_abs):\n",
        "    manifest_path = os.path.split(os.path.abspath(manifest_rel))[0]\n",
        "    print(manifest_path)\n",
        "    with open(manifest_rel, 'r') as fin:\n",
        "        with open(manifest_abs, 'w') as fout:\n",
        "            for line in fin:\n",
        "                metadata = json.loads(line)\n",
        "                if metadata['id'] in check_table:\n",
        "                  metadata[\"audio_filepath\"]=os.path.join(manifest_path, metadata[\"audio_filepath\"])\n",
        "                  json.dump(metadata, fout)\n",
        "                  fout.write('\\n')\n",
        "                if metadata['id'] == '5ab4ae4de2d64d8fc0e7c12c07e37a79':\n",
        "                  break\n",
        "\n",
        "                \n",
        "# Building Manifests\n",
        "print(\"******\")\n",
        "\n",
        "build_manifest2(\"/content/drive/MyDrive/golos/train/train_manifest.jsonl\", \"/content/drive/MyDrive/golos/train/finetune.jsonl\")\n",
        "finetune_manifest = \"/content/drive/MyDrive/golos/train/finetune.jsonl\"\n",
        "\n"
      ],
      "execution_count": null,
      "outputs": [
        {
          "output_type": "stream",
          "name": "stdout",
          "text": [
            "******\n",
            "/content/drive/MyDrive/golos/train\n"
          ]
        }
      ]
    },
    {
      "cell_type": "code",
      "metadata": {
        "colab": {
          "base_uri": "https://localhost:8080/"
        },
        "id": "NlMYcYDUosdl",
        "outputId": "7deaa7ef-c47b-4862-9533-5419927f6ab8"
      },
      "source": [
        "! head /content/drive/MyDrive/golos/train/finetune.jsonl"
      ],
      "execution_count": null,
      "outputs": [
        {
          "output_type": "stream",
          "name": "stdout",
          "text": [
            "{\"id\": \"855e01d6ba9a4aa59950d62037b87709\", \"audio_filepath\": \"/content/drive/MyDrive/golos/train/farfield/855e01d6ba9a4aa59950d62037b87709.wav\", \"text\": \"\\u0430\\u0444\\u0438\\u043d\\u0430 \\u0445\\u043e\\u0442\\u0435\\u043b\\u0430 \\u043d\\u043e\\u043c\\u0435\\u0440 \\u0442\\u0435\\u043b\\u0435\\u0444\\u043e\\u043d\\u0430 \\u043f\\u043e\\u043c\\u0435\\u043d\\u044f\\u0442\\u044c \\u043a\\u0430\\u0440\\u0442\\u044b\", \"duration\": 5.4596875}\n",
            "{\"id\": \"5f7483035b2f26b773b0d3fb125b779d\", \"audio_filepath\": \"/content/drive/MyDrive/golos/train/farfield/5f7483035b2f26b773b0d3fb125b779d.wav\", \"text\": \"\\u0441\\u0430\\u043b\\u044e\\u0442 \\u044f \\u043c\\u043e\\u0433\\u0443 \\u0447\\u0442\\u043e \\u043d\\u0438\\u0431\\u0443\\u0434\\u044c \\u0441\\u0434\\u0435\\u043b\\u0430\\u0442\\u044c\", \"duration\": 5.063625}\n",
            "{\"id\": \"4c95a12b71e1262ac937d2fe6a803906\", \"audio_filepath\": \"/content/drive/MyDrive/golos/train/farfield/4c95a12b71e1262ac937d2fe6a803906.wav\", \"text\": \"\\u0434\\u0436\\u043e\\u0439 \\u0441\\u043c\\u043e\\u0442\\u0440\\u0435\\u0442\\u044c \\u043e\\u043f\\u0435\\u0440\\u0430\\u0446\\u0438\\u044e \\u044b \\u0438 \\u0434\\u0440\\u0443\\u0433\\u0438\\u0435 \\u043f\\u0440\\u0438\\u043a\\u043b\\u044e\\u0447\\u0435\\u043d\\u0438\\u044f \\u0448\\u0443\\u0440\\u0438\\u043a\\u0430 \\u043e\\u043d\\u043b\\u0430\\u0439\\u043d\", \"duration\": 7.3826875}\n",
            "{\"id\": \"90655e9a042c4e79c424cd7dd82b37a6\", \"audio_filepath\": \"/content/drive/MyDrive/golos/train/farfield/90655e9a042c4e79c424cd7dd82b37a6.wav\", \"text\": \"\\u0441\\u0430\\u043b\\u044e\\u0442 \\u043d\\u0430 \\u043a\\u0430\\u043a\\u043e\\u043c \\u044f\\u0437\\u044b\\u043a\\u0435 \\u0441\\u043e\\u0437\\u0434\\u0430\\u043d\\u0430 \\u043a\\u0430\\u0432\\u043a\\u0430 \\u043d\\u0430 \\u043f\\u043b\\u044f\\u0436\\u0435\", \"duration\": 5.232625}\n",
            "{\"id\": \"566e4f7d788d755e2fa76ab57837d7dd\", \"audio_filepath\": \"/content/drive/MyDrive/golos/train/farfield/566e4f7d788d755e2fa76ab57837d7dd.wav\", \"text\": \"\\u0430\\u0444\\u0438\\u043d\\u0430 \\u043f\\u043b\\u043e\\u0449\\u0430\\u0434\\u044c \\u043a\\u043e\\u0440\\u043e\\u043b\\u0435\\u0432\\u0441\\u0442\\u0432\\u0430 \\u0442\\u043e\\u043d\\u0433\\u0430\", \"duration\": 4.75025}\n",
            "{\"id\": \"40bf19adace8d787cd3c63784ed0b27b\", \"audio_filepath\": \"/content/drive/MyDrive/golos/train/farfield/40bf19adace8d787cd3c63784ed0b27b.wav\", \"text\": \"\\u0430\\u0444\\u0438\\u043d\\u0430 \\u0447\\u0442\\u043e \\u0442\\u0430\\u043a\\u043e\\u0435 \\u0434\\u0435\\u043b\\u0444\\u0442\", \"duration\": 3.74225}\n",
            "{\"id\": \"7c7bdfd56e3d7f22c607f4247135f7eb\", \"audio_filepath\": \"/content/drive/MyDrive/golos/train/farfield/7c7bdfd56e3d7f22c607f4247135f7eb.wav\", \"text\": \"\\u0430\\u0444\\u0438\\u043d\\u0430 \\u043a\\u0430\\u043a\\u0438\\u0435 \\u0432\\u0438\\u0434\\u044b \\u0430\\u043a\\u0440\\u043e\\u0444\\u043e\\u0431\\u0438\\u044f \\u0442\\u044b \\u0437\\u043d\\u0430\\u0435\\u0448\\u044c\", \"duration\": 5.1695}\n",
            "{\"id\": \"74fcc734fe811c1bcb5ed306dd218a52\", \"audio_filepath\": \"/content/drive/MyDrive/golos/train/farfield/74fcc734fe811c1bcb5ed306dd218a52.wav\", \"text\": \"\\u0430\\u0444\\u0438\\u043d\\u0430 \\u043f\\u043e\\u043a\\u0430\\u0436\\u0438 \\u043a\\u0430\\u043d\\u0430\\u043b \\u0440\\u043e\\u0441\\u0441\\u0438\\u044f \\u043e\\u0434\\u0438\\u043d\", \"duration\": 4.6808125}\n",
            "{\"id\": \"6e5f21c556219907dd4a9e6e3001c826\", \"audio_filepath\": \"/content/drive/MyDrive/golos/train/farfield/6e5f21c556219907dd4a9e6e3001c826.wav\", \"text\": \"\\u0441\\u0431\\u0435\\u0440 \\u0447\\u0435\\u043c \\u043f\\u043b\\u0430\\u0442\\u0438\\u0442\\u044c \\u0432 \\u0438\\u0441\\u043f\\u0430\\u043d\\u0438\\u0438\", \"duration\": 4.1195625}\n",
            "{\"id\": \"7354b7ce257ec19e2b3107db9df8584e\", \"audio_filepath\": \"/content/drive/MyDrive/golos/train/farfield/7354b7ce257ec19e2b3107db9df8584e.wav\", \"text\": \"\\u0434\\u0436\\u043e\\u0439 \\u043a\\u0430\\u043a\\u0430\\u044f \\u0432\\u0430\\u043b\\u044e\\u0442\\u0430 \\u0443 \\u0431\\u0430\\u0440\\u0431\\u0430\\u0434\\u043e\\u0441\\u0446\\u0435\\u0432\", \"duration\": 5.772875}\n"
          ]
        }
      ]
    },
    {
      "cell_type": "code",
      "metadata": {
        "colab": {
          "base_uri": "https://localhost:8080/"
        },
        "id": "0CdRJHecosfm",
        "outputId": "b6485365-658c-4977-9621-1158958e63bd"
      },
      "source": [
        "! head /content/drive/MyDrive/golos/train/train_manifest.jsonl"
      ],
      "execution_count": null,
      "outputs": [
        {
          "output_type": "stream",
          "name": "stdout",
          "text": [
            "{\"id\": \"77b380796d242cf5bc09cfb551cffecd\", \"audio_filepath\": \"crowd/0/77b380796d242cf5bc09cfb551cffecd.wav\", \"text\": \"\\u0430\\u043b\\u0438\\u0431\\u0438\", \"duration\": 1.21}\n",
            "{\"id\": \"404e1eecbc38a687e036739f2e5dd6d3\", \"audio_filepath\": \"crowd/0/404e1eecbc38a687e036739f2e5dd6d3.wav\", \"text\": \"\\u0441\\u043a\\u0430\\u0437\\u043a\\u0430\", \"duration\": 2.9}\n",
            "{\"id\": \"f913db484595c1bcdd9476194b08a1f4\", \"audio_filepath\": \"crowd/0/f913db484595c1bcdd9476194b08a1f4.wav\", \"text\": \"\\u043d\\u0430\\u0439\\u0434\\u0438 \\u0432 \\u043d\\u0435\\u0442\\u0435 \\u043c\\u0443\\u043b\\u044c\\u0442 \\u0441\\u0442\\u0430\\u043b\\u044c\\u043d\\u043e\\u0439 \\u0433\\u0438\\u0433\\u0430\\u043d\\u0442\", \"duration\": 4.76}\n",
            "{\"id\": \"eca448acf1712fa7ca08aede3d2df1ac\", \"audio_filepath\": \"crowd/0/eca448acf1712fa7ca08aede3d2df1ac.wav\", \"text\": \"\\u043c\\u043e\\u043d\\u0430 \\u043b\\u0438\\u0437\\u0430\", \"duration\": 2.3}\n",
            "{\"id\": \"a366eecb0a85ef76463e1f4b5188b698\", \"audio_filepath\": \"crowd/0/a366eecb0a85ef76463e1f4b5188b698.wav\", \"text\": \"\\u0441\\u043c\\u043e\\u0442\\u0440\\u0435\\u0442\\u044c \\u0441\\u0435\\u0440\\u0438\\u0430\\u043b \\u0432\\u043e\\u0441\\u0435\\u043c\\u044c \\u0441 \\u043f\\u043e\\u043b\\u043e\\u0432\\u0438\\u043d\\u043e\\u0439\", \"duration\": 3.78}\n",
            "{\"id\": \"37e7ee229ce692fc007e344e6376e90a\", \"audio_filepath\": \"crowd/0/37e7ee229ce692fc007e344e6376e90a.wav\", \"text\": \"\\u0432\\u0440\\u0443\\u0431\\u0438 \\u0440\\u043e\\u0441\\u0441\\u0438\\u0439\\u0441\\u043a\\u0438\\u0439 \\u0444\\u0438\\u043b\\u044c\\u043c \\u043c\\u043e\\u0441\\u0433\\u043e\\u0440\\u0441\\u043c\\u0435\\u0445\", \"duration\": 4.54}\n",
            "{\"id\": \"69c2473c78844219a6625157c0a9cb2d\", \"audio_filepath\": \"crowd/0/69c2473c78844219a6625157c0a9cb2d.wav\", \"text\": \"\\u043d\\u0430\\u0439\\u0434\\u0438 \\u043d\\u0430 \\u044e\\u0442\\u0443\\u0431\\u0435 \\u0444\\u0438\\u043b\\u044c\\u043c \\u043c\\u0435\\u043d\\u044f \\u0437\\u043e\\u0432\\u0443\\u0442 \\u043c\\u043e\\u0445\\u0430\\u043c\\u043c\\u0435\\u0434 \\u0430\\u043b\\u0438\", \"duration\": 4.24}\n",
            "{\"id\": \"3d5e79e898a2d4deadda9f728fc8a3ec\", \"audio_filepath\": \"crowd/0/3d5e79e898a2d4deadda9f728fc8a3ec.wav\", \"text\": \"\\u043c\\u043e\\u0436\\u0435\\u0448\\u044c \\u043c\\u043d\\u0435 \\u043f\\u043e\\u0441\\u0442\\u0430\\u0432\\u0438\\u0442\\u044c \\u043c\\u0443\\u043b\\u044c\\u0442\\u0444\\u0438\\u043b\\u044c\\u043c \\u043a\\u0432\\u0430\\u0434\\u0440\\u0430\\u0442\\u043d\\u044b\\u0435 \\u0437\\u0432\\u0435\\u0440\\u044e\\u0448\\u043a\\u0438\", \"duration\": 4.22}\n",
            "{\"id\": \"da1727c120db7575744bd2740755c57d\", \"audio_filepath\": \"crowd/0/da1727c120db7575744bd2740755c57d.wav\", \"text\": \"\\u0441\\u0432\\u0430\\u0442\\u044b \\u043f\\u043e\\u0431\\u044b\\u0441\\u0442\\u0440\\u0435\\u0435 \\u0432\\u043a\\u043b\\u044e\\u0447\\u0438 \\u043f\\u043e\\u0436\\u0430\\u043b\\u0443\\u0439\\u0441\\u0442\\u0430\", \"duration\": 4.62}\n",
            "{\"id\": \"ad4bbc81eb33d17f2ff22cbbd23c4eac\", \"audio_filepath\": \"crowd/0/ad4bbc81eb33d17f2ff22cbbd23c4eac.wav\", \"text\": \"\\u0440\\u043e\\u043a\\u0435\\u0442\\u043c\\u0435\\u043d \\u0441\\u043c\\u043e\\u0442\\u0440\\u0435\\u0442\\u044c \\u0441\\u0435\\u0440\\u0438\\u0430\\u043b \\u0440\\u043e\\u043a\\u0435\\u0442\\u043c\\u0435\\u043d\", \"duration\": 4.82}\n"
          ]
        }
      ]
    },
    {
      "cell_type": "code",
      "metadata": {
        "colab": {
          "base_uri": "https://localhost:8080/"
        },
        "id": "ObT6iJ3fosi7",
        "outputId": "a5cdd714-9fb6-4e54-e989-f460aee74b30"
      },
      "source": [
        "! cat /content/drive/MyDrive/golos/test/outfile_test.jsonl | grep acd44c1b8a144b89f36d357727abd6aa"
      ],
      "execution_count": null,
      "outputs": [
        {
          "output_type": "stream",
          "name": "stdout",
          "text": [
            "{\"id\": \"acd44c1b8a144b89f36d357727abd6aa\", \"audio_filepath\": \"/content/drive/MyDrive/golos/test/acd44c1b8a144b89f36d357727abd6aa.wav\", \"text\": \"\\u0441\\u0430\\u043b\\u044e\\u0442 \\u043f\\u0440\\u0438\\u043b\\u043e\\u0436\\u0435\\u043d\\u0438\\u0435 \\u0441\\u0432\\u0435\\u0440\\u043d\\u0438\", \"duration\": 1.9996875}\n"
          ]
        }
      ]
    },
    {
      "cell_type": "code",
      "metadata": {
        "id": "ekTHhCup7kOQ"
      },
      "source": [
        "! ls /content/drive/MyDrive/golos/test | grep acd44c1b8a144b89f36d357727abd6aa"
      ],
      "execution_count": null,
      "outputs": []
    },
    {
      "cell_type": "code",
      "metadata": {
        "id": "iQ3S__j5osl2"
      },
      "source": [
        ""
      ],
      "execution_count": null,
      "outputs": []
    },
    {
      "cell_type": "code",
      "metadata": {
        "id": "yAIexMZuMWKB"
      },
      "source": [
        ""
      ],
      "execution_count": null,
      "outputs": []
    },
    {
      "cell_type": "code",
      "metadata": {
        "id": "ew6Hp1pVsHIj",
        "colab": {
          "base_uri": "https://localhost:8080/"
        },
        "outputId": "2a775f9d-cac9-417b-ad1d-1efe209ea0c0"
      },
      "source": [
        "import pytorch_lightning as pl\n",
        "trainer = pl.Trainer(gpus=1, max_epochs=1, precision=16)"
      ],
      "execution_count": null,
      "outputs": [
        {
          "output_type": "stream",
          "name": "stderr",
          "text": [
            "Using 16bit native Automatic Mixed Precision (AMP)\n",
            "GPU available: True, used: True\n",
            "TPU available: False, using: 0 TPU cores\n",
            "IPU available: False, using: 0 IPUs\n"
          ]
        }
      ]
    },
    {
      "cell_type": "code",
      "metadata": {
        "id": "2u0bejsZvhuv"
      },
      "source": [
        "params_model = asr_model._cfg\n",
        "\n",
        "# --- Config Information ---#\n",
        "# try:\n",
        "#     from ruamel.yaml import YAML\n",
        "# except ModuleNotFoundError:\n",
        "#     from ruamel_yaml import YAML\n",
        "# config_path = '/usr/local/lib/python3.7/dist-packages/nemo/collections/asr/models/configs/'\n",
        "\n",
        "# yaml = YAML(typ='safe')\n",
        "# with open(config_path) as f:\n",
        "#     params = yaml.load(f)\n",
        "# print(params)\n",
        "params_model['train_ds']['parser']='base'\n",
        "params_model['validation_ds']['parser']='base'\n",
        "params_model['test_ds']['parser']='base'\n",
        "params_model['train_ds']['manifest_filepath'] = finetune_manifest\n",
        "params_model['train_ds']['batch_size']=16\n",
        "params_model['validation_ds']['manifest_filepath'] = test_manifest\n",
        "params_model['validation_ds']['batch_size']=16\n",
        "params_model['test_ds']['manifest_filepath'] = test_manifest\n",
        "params_model['test_ds']['batch_size']=16"
      ],
      "execution_count": null,
      "outputs": []
    },
    {
      "cell_type": "code",
      "metadata": {
        "colab": {
          "base_uri": "https://localhost:8080/"
        },
        "id": "ruJeRWPo5FGS",
        "outputId": "e51960a4-e8d3-4063-d6e6-a653b2d2c0ab"
      },
      "source": [
        "print(test_manifest, finetune_manifest)"
      ],
      "execution_count": null,
      "outputs": [
        {
          "output_type": "stream",
          "name": "stdout",
          "text": [
            "/content/drive/MyDrive/golos/test/outfile_test.jsonl /content/drive/MyDrive/golos/train/finetune.jsonl\n"
          ]
        }
      ]
    },
    {
      "cell_type": "code",
      "metadata": {
        "id": "UrSSq0npvhzI"
      },
      "source": [
        "params_model"
      ],
      "execution_count": null,
      "outputs": []
    },
    {
      "cell_type": "code",
      "metadata": {
        "id": "thVZ7ZYsvh1M"
      },
      "source": [
        "params_model['optim']['lr'] = 0.0005"
      ],
      "execution_count": null,
      "outputs": []
    },
    {
      "cell_type": "code",
      "metadata": {
        "id": "wD1d8tDcvh3e"
      },
      "source": [
        "from omegaconf import DictConfig\n",
        "\n",
        "\n",
        "first_asr_model = nemo_asr.models.EncDecCTCModel(cfg=DictConfig(params_model), trainer=trainer)"
      ],
      "execution_count": null,
      "outputs": []
    },
    {
      "cell_type": "code",
      "metadata": {
        "id": "0UEPQDv5vh5c"
      },
      "source": [
        ""
      ],
      "execution_count": null,
      "outputs": []
    },
    {
      "cell_type": "code",
      "metadata": {
        "id": "NY9f3o_T3daH"
      },
      "source": [
        "import copy\n",
        "new_opt = copy.deepcopy(params_model['optim'])\n",
        "new_opt['lr'] = 0.05\n",
        "asr_model.setup_optimization(optim_config=DictConfig(new_opt))\n",
        "# And then you can invoke trainer.fit(first_asr_model)"
      ],
      "execution_count": null,
      "outputs": []
    },
    {
      "cell_type": "code",
      "metadata": {
        "colab": {
          "base_uri": "https://localhost:8080/"
        },
        "id": "gKEzsdnU3RDG",
        "outputId": "ef82b9dc-e2c4-4501-dba6-648ad0432fc6"
      },
      "source": [
        "asr_model.setup_training_data(train_data_config=params_model['train_ds'])\n",
        "asr_model.setup_test_data(test_data_config=params_model['test_ds'])\n",
        "# Point to the new validation data for fine-tuning\n",
        "asr_model.setup_validation_data(val_data_config=params_model['validation_ds'])"
      ],
      "execution_count": null,
      "outputs": [
        {
          "output_type": "stream",
          "name": "stdout",
          "text": [
            "[NeMo I 2021-11-27 19:20:26 collections:173] Dataset loaded with 25502 files totalling 29.44 hours\n",
            "[NeMo I 2021-11-27 19:20:26 collections:174] 1 files were filtered totalling 0.00 hours\n"
          ]
        },
        {
          "output_type": "stream",
          "name": "stderr",
          "text": [
            "[NeMo W 2021-11-27 19:20:26 nemo_logging:349] /usr/local/lib/python3.7/dist-packages/torch/utils/data/dataloader.py:481: UserWarning: This DataLoader will create 20 worker processes in total. Our suggested max number of worker in current system is 2, which is smaller than what this DataLoader is going to create. Please be aware that excessive worker creation might get DataLoader running slow or even freeze, lower the worker number to avoid potential slowness/freeze if necessary.\n",
            "      cpuset_checked))\n",
            "    \n"
          ]
        },
        {
          "output_type": "stream",
          "name": "stdout",
          "text": [
            "[NeMo I 2021-11-27 19:20:27 collections:173] Dataset loaded with 1916 files totalling 1.41 hours\n",
            "[NeMo I 2021-11-27 19:20:27 collections:174] 0 files were filtered totalling 0.00 hours\n",
            "[NeMo I 2021-11-27 19:20:27 collections:173] Dataset loaded with 1916 files totalling 1.41 hours\n",
            "[NeMo I 2021-11-27 19:20:27 collections:174] 0 files were filtered totalling 0.00 hours\n"
          ]
        }
      ]
    },
    {
      "cell_type": "code",
      "metadata": {
        "id": "yWHZPlpGvqSU",
        "colab": {
          "base_uri": "https://localhost:8080/"
        },
        "outputId": "e8f15290-62ac-4b82-af9d-1a1463a522df"
      },
      "source": [
        "# Bigger batch-size = bigger throughput\n",
        "# params['model']['validation_ds']['batch_size'] = 16\n",
        "# Setup the test data loader and make sure the model is on GPU\n",
        "# first_asr_model.setup_test_data(test_data_config=params['model']['validation_ds'])\n",
        "asr_model.cuda()\n",
        "\n",
        "# We will be computing Word Error Rate (WER) metric between our hypothesis and predictions.\n",
        "# WER is computed as numerator/denominator.\n",
        "# We'll gather all the test batches' numerators and denominators.\n",
        "wer_nums = []\n",
        "wer_denoms = []\n",
        "\n",
        "# Loop over all test batches.\n",
        "# Iterating over the model's `test_dataloader` will give us:\n",
        "# (audio_signal, audio_signal_length, transcript_tokens, transcript_length)\n",
        "# See the AudioToCharDataset for more details.\n",
        "for test_batch in asr_model.test_dataloader():\n",
        "        test_batch = [x.cuda() for x in test_batch]\n",
        "        targets = test_batch[2]\n",
        "        targets_lengths = test_batch[3]        \n",
        "        log_probs, encoded_len, greedy_predictions = asr_model(\n",
        "            input_signal=test_batch[0], input_signal_length=test_batch[1]\n",
        "        )\n",
        "        # Notice the model has a helper object to compute WER\n",
        "        asr_model._wer.update(greedy_predictions, targets, targets_lengths)\n",
        "        _, wer_num, wer_denom = asr_model._wer.compute()\n",
        "        asr_model._wer.reset()\n",
        "        wer_nums.append(wer_num.detach().cpu().numpy())\n",
        "        wer_denoms.append(wer_denom.detach().cpu().numpy())\n",
        "\n",
        "        # Release tensors from GPU memory\n",
        "        del test_batch, log_probs, targets, targets_lengths, encoded_len, greedy_predictions\n",
        "\n",
        "# We need to sum all numerators and denominators first. Then divide.\n",
        "print(f\"WER = {sum(wer_nums)/sum(wer_denoms)}\")"
      ],
      "execution_count": null,
      "outputs": [
        {
          "output_type": "stream",
          "name": "stderr",
          "text": [
            "[NeMo W 2021-11-27 19:20:34 nemo_logging:349] /usr/local/lib/python3.7/dist-packages/nemo/collections/asr/parts/submodules/jasper.py:280: UserWarning: __floordiv__ is deprecated, and its behavior will change in a future version of pytorch. It currently rounds toward 0 (like the 'trunc' function NOT 'floor'). This results in incorrect rounding for negative values. To keep the current behavior, use torch.div(a, b, rounding_mode='trunc'), or for actual floor division, use torch.div(a, b, rounding_mode='floor').\n",
            "      ) // self.conv.stride[0] + 1\n",
            "    \n"
          ]
        },
        {
          "output_type": "stream",
          "name": "stdout",
          "text": [
            "WER = 0.6617752326413744\n"
          ]
        }
      ]
    },
    {
      "cell_type": "code",
      "metadata": {
        "id": "lUWs2WMHihu3"
      },
      "source": [
        ""
      ],
      "execution_count": null,
      "outputs": []
    },
    {
      "cell_type": "code",
      "metadata": {
        "colab": {
          "base_uri": "https://localhost:8080/"
        },
        "id": "xCWAxDiDihyA",
        "outputId": "6e7be290-3299-41c1-ac91-5498480f9232"
      },
      "source": [
        "import pytorch_lightning as pl\n",
        "trainer = pl.Trainer(gpus=1, max_epochs=1, precision=16)"
      ],
      "execution_count": null,
      "outputs": [
        {
          "output_type": "stream",
          "name": "stderr",
          "text": [
            "Using 16bit native Automatic Mixed Precision (AMP)\n",
            "GPU available: True, used: True\n",
            "TPU available: False, using: 0 TPU cores\n",
            "IPU available: False, using: 0 IPUs\n"
          ]
        }
      ]
    },
    {
      "cell_type": "code",
      "metadata": {
        "id": "ejsKVKC5vqW6",
        "colab": {
          "base_uri": "https://localhost:8080/",
          "height": 662,
          "referenced_widgets": [
            "d68d894cccde4befb8e66adeeb226a32",
            "a8a3b0b1f36b439686c55f6eba3d0c4b",
            "73b98fa5c0d8468b92d3913608b8889e",
            "a2e58f3fd7ba4225a2c20486e53a67bf",
            "3159739318b5426daa24bab70a34ec00",
            "56ea9a87eaca410daf14499cbc9e5729",
            "fd1485b3112244de86a2ff8374bddb9c",
            "dd05cd19c2fd47909ba593e25729d50a",
            "c788244df5904622ba12c2f20eedadad",
            "7250dc82ebc84d9385eaa305b8cee9bb",
            "6a0ef6a527ba47ec8d8eca8a1dbfff74",
            "b12279de5b90440fa7d3aa6158fa1335",
            "53bd46f9944a4ca7bccd064ef2f708fb",
            "92352c886cad488dbe9bd366e90359ea",
            "505f29c729204beea910154e856bc639",
            "75db67e10de347ec8624e025db020fc8",
            "142fcd7026f646ac8fd332dce79fe7c0",
            "f2af390a590643a38c0db541f0ab04d6",
            "7d9e54ddcf2945f99c9982358e16b2a0",
            "30c95503d9f246ef992c3fbf8b51c510",
            "80010e1dde3c4211ac08b49ad5c1a567",
            "fd0ecb5dd3814a59a7f86dcf3da97815",
            "ceebbc6fab5944df8a6b371744d05660",
            "2eed1b62c40142a6869dcfb974f07582",
            "e7fe732aa16d4f48b42d3c2760e0866f",
            "cc1cfde3cb544a4c9501beed66df1033",
            "9ac6c85e04744e4480111c1b50aaf375",
            "9875b784616349f3ad4dc0be140cfe6b",
            "e3cf15827f544d4d9916bd5b91139d6d",
            "b9537bb7191b448680b336713357a9a4",
            "763fba33c9884cb4abbcb30b28f891f3",
            "f6d156a0ddf0427a933b7412eb0964c9",
            "15902cce0d194ec89d49cba5670d83e7"
          ]
        },
        "outputId": "dc38ffbe-b194-4214-be2b-5636be6242ab"
      },
      "source": [
        "trainer.fit(asr_model)"
      ],
      "execution_count": null,
      "outputs": [
        {
          "metadata": {
            "tags": null
          },
          "name": "stderr",
          "output_type": "stream",
          "text": [
            "LOCAL_RANK: 0 - CUDA_VISIBLE_DEVICES: [0]\n",
            "[NeMo W 2021-11-27 19:22:16 modelPT:453] Trainer wasn't specified in model constructor. Make sure that you really wanted it.\n"
          ]
        },
        {
          "metadata": {
            "tags": null
          },
          "name": "stdout",
          "output_type": "stream",
          "text": [
            "[NeMo I 2021-11-27 19:22:16 modelPT:561] Optimizer config = Novograd (\n",
            "    Parameter Group 0\n",
            "        amsgrad: False\n",
            "        betas: [0.9, 0.98]\n",
            "        eps: 1e-08\n",
            "        grad_averaging: False\n",
            "        lr: 0.0005\n",
            "        weight_decay: 0.001\n",
            "    )\n"
          ]
        },
        {
          "metadata": {
            "tags": null
          },
          "name": "stderr",
          "output_type": "stream",
          "text": [
            "[NeMo W 2021-11-27 19:22:16 lr_scheduler:732] Neither `max_steps` nor `iters_per_batch` were provided to `optim.sched`, cannot compute effective `max_steps` !\n",
            "    Scheduler will not be instantiated !\n",
            "\n",
            "  | Name              | Type                              | Params\n",
            "------------------------------------------------------------------------\n",
            "0 | preprocessor      | AudioToMelSpectrogramPreprocessor | 0     \n",
            "1 | encoder           | ConvASREncoder                    | 18.9 M\n",
            "2 | decoder           | ConvASRDecoder                    | 34.9 K\n",
            "3 | loss              | CTCLoss                           | 0     \n",
            "4 | spec_augmentation | SpectrogramAugmentation           | 0     \n",
            "5 | _wer              | WER                               | 0     \n",
            "------------------------------------------------------------------------\n",
            "18.9 M    Trainable params\n",
            "0         Non-trainable params\n",
            "18.9 M    Total params\n",
            "37.859    Total estimated model params size (MB)\n"
          ]
        },
        {
          "data": {
            "application/vnd.jupyter.widget-view+json": {
              "model_id": "d68d894cccde4befb8e66adeeb226a32",
              "version_major": 2,
              "version_minor": 0
            },
            "text/plain": [
              "Validation sanity check: 0it [00:00, ?it/s]"
            ]
          },
          "metadata": {},
          "output_type": "display_data"
        },
        {
          "metadata": {
            "tags": null
          },
          "name": "stderr",
          "output_type": "stream",
          "text": [
            "[NeMo W 2021-11-27 19:22:17 nemo_logging:349] /usr/local/lib/python3.7/dist-packages/torch/utils/data/dataloader.py:481: UserWarning: This DataLoader will create 20 worker processes in total. Our suggested max number of worker in current system is 2, which is smaller than what this DataLoader is going to create. Please be aware that excessive worker creation might get DataLoader running slow or even freeze, lower the worker number to avoid potential slowness/freeze if necessary.\n",
            "      cpuset_checked))\n",
            "    \n",
            "[NeMo W 2021-11-27 19:22:19 nemo_logging:349] /usr/local/lib/python3.7/dist-packages/nemo/collections/asr/parts/submodules/jasper.py:280: UserWarning: __floordiv__ is deprecated, and its behavior will change in a future version of pytorch. It currently rounds toward 0 (like the 'trunc' function NOT 'floor'). This results in incorrect rounding for negative values. To keep the current behavior, use torch.div(a, b, rounding_mode='trunc'), or for actual floor division, use torch.div(a, b, rounding_mode='floor').\n",
            "      ) // self.conv.stride[0] + 1\n",
            "    \n"
          ]
        },
        {
          "data": {
            "application/vnd.jupyter.widget-view+json": {
              "model_id": "b12279de5b90440fa7d3aa6158fa1335",
              "version_major": 2,
              "version_minor": 0
            },
            "text/plain": [
              "Training: 0it [00:00, ?it/s]"
            ]
          },
          "metadata": {},
          "output_type": "display_data"
        },
        {
          "output_type": "display_data",
          "data": {
            "application/vnd.jupyter.widget-view+json": {
              "model_id": "ceebbc6fab5944df8a6b371744d05660",
              "version_minor": 0,
              "version_major": 2
            },
            "text/plain": [
              "Validating: 0it [00:00, ?it/s]"
            ]
          },
          "metadata": {}
        }
      ]
    },
    {
      "cell_type": "code",
      "metadata": {
        "colab": {
          "base_uri": "https://localhost:8080/"
        },
        "id": "ns1IcAcySIVW",
        "outputId": "f2287320-16ec-4bd2-8ccd-2c60e4545cc4"
      },
      "source": [
        "asr_model.cuda()\n",
        "\n",
        "# We will be computing Word Error Rate (WER) metric between our hypothesis and predictions.\n",
        "# WER is computed as numerator/denominator.\n",
        "# We'll gather all the test batches' numerators and denominators.\n",
        "wer_nums = []\n",
        "wer_denoms = []\n",
        "\n",
        "# Loop over all test batches.\n",
        "# Iterating over the model's `test_dataloader` will give us:\n",
        "# (audio_signal, audio_signal_length, transcript_tokens, transcript_length)\n",
        "# See the AudioToCharDataset for more details.\n",
        "for test_batch in asr_model.test_dataloader():\n",
        "        test_batch = [x.cuda() for x in test_batch]\n",
        "        targets = test_batch[2]\n",
        "        targets_lengths = test_batch[3]        \n",
        "        log_probs, encoded_len, greedy_predictions = asr_model(\n",
        "            input_signal=test_batch[0], input_signal_length=test_batch[1]\n",
        "        )\n",
        "        # Notice the model has a helper object to compute WER\n",
        "        asr_model._wer.update(greedy_predictions, targets, targets_lengths)\n",
        "        _, wer_num, wer_denom = asr_model._wer.compute()\n",
        "        asr_model._wer.reset()\n",
        "        wer_nums.append(wer_num.detach().cpu().numpy())\n",
        "        wer_denoms.append(wer_denom.detach().cpu().numpy())\n",
        "\n",
        "        # Release tensors from GPU memory\n",
        "        del test_batch, log_probs, targets, targets_lengths, encoded_len, greedy_predictions\n",
        "\n",
        "# We need to sum all numerators and denominators first. Then divide.\n",
        "print(f\"WER = {sum(wer_nums)/sum(wer_denoms)}\")"
      ],
      "execution_count": null,
      "outputs": [
        {
          "output_type": "stream",
          "name": "stderr",
          "text": [
            "[NeMo W 2021-11-27 20:46:07 nemo_logging:349] /usr/local/lib/python3.7/dist-packages/nemo/collections/asr/parts/submodules/jasper.py:280: UserWarning: __floordiv__ is deprecated, and its behavior will change in a future version of pytorch. It currently rounds toward 0 (like the 'trunc' function NOT 'floor'). This results in incorrect rounding for negative values. To keep the current behavior, use torch.div(a, b, rounding_mode='trunc'), or for actual floor division, use torch.div(a, b, rounding_mode='floor').\n",
            "      ) // self.conv.stride[0] + 1\n",
            "    \n"
          ]
        },
        {
          "output_type": "stream",
          "name": "stdout",
          "text": [
            "WER = 0.5609639704127893\n"
          ]
        }
      ]
    }
  ]
}